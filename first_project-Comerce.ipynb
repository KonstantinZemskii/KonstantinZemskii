{
 "cells": [
  {
   "cell_type": "code",
   "execution_count": 1,
   "metadata": {},
   "outputs": [],
   "source": [
    "import pandas as pd\n",
    "import seaborn as sns\n",
    "import matplotlib.pyplot as plt\n",
    "%matplotlib inline\n",
    "\n",
    "# настроим seaborn и установим стиль whitegrid\n",
    "sns.set(style='whitegrid')"
   ]
  },
  {
   "cell_type": "code",
   "execution_count": 2,
   "metadata": {},
   "outputs": [],
   "source": [
    "customers_df = pd.read_csv('olist_customers_dataset.csv')"
   ]
  },
  {
   "cell_type": "markdown",
   "metadata": {},
   "source": [
    " olist_customers_datase.csv — таблица с уникальными идентификаторами пользователей\n",
    "\n",
    "customer_id — позаказный идентификатор пользователя\n",
    "\n",
    "customer_unique_id —  уникальный идентификатор пользователя  (в идеальных данных не может быть двух пользователей с одинаковым значением, является уникальным айдишником пользователя)\n",
    "\n",
    "customer_zip_code_prefix —  почтовый индекс пользователя\n",
    "\n",
    "customer_city —  город доставки пользователя\n",
    "\n",
    "customer_state —  штат доставки пользователя"
   ]
  },
  {
   "cell_type": "code",
   "execution_count": 3,
   "metadata": {},
   "outputs": [],
   "source": [
    "order_items_df = pd.read_csv('olist_order_items_dataset.csv')"
   ]
  },
  {
   "cell_type": "markdown",
   "metadata": {},
   "source": [
    "olist_order_items_dataset.csv —  товарные позиции, входящие в заказы\n",
    "\n",
    "order_id —  уникальный идентификатор заказа (номер чека)\n",
    "\n",
    "order_item_id —  идентификатор товара внутри одного заказа (не содержит информацию о количестве товаров)\n",
    "\n",
    "product_id —  уникальный идентефикатор товара (аналог штрихкода)\n",
    "\n",
    "seller_id — уникальный идентефикатор производителя товара\n",
    "\n",
    "shipping_limit_date —  максимальная дата доставки продавцом для передачи заказа партнеру по логистике\n",
    "\n",
    "price —  цена за единицу товара\n",
    "\n",
    "freight_value —  вес товара"
   ]
  },
  {
   "cell_type": "code",
   "execution_count": 4,
   "metadata": {},
   "outputs": [],
   "source": [
    "orders_df = pd.read_csv('olist_orders_dataset.csv')"
   ]
  },
  {
   "cell_type": "markdown",
   "metadata": {},
   "source": [
    "olist_orders_dataset.csv —  таблица заказов\n",
    "\n",
    "order_id —  уникальный идентификатор заказа (номер чека)\n",
    "\n",
    "customer_id —  позаказный идентификатор пользователя\n",
    "\n",
    "order_status —  статус заказа\n",
    "\n",
    "order_purchase_timestamp —  время создания заказа\n",
    "\n",
    "order_approved_at —  время подтверждения оплаты заказа\n",
    "\n",
    "order_delivered_carrier_date —  время передачи заказа в логистическую службу\n",
    "\n",
    "order_delivered_customer_date —  время доставки заказа\n",
    "\n",
    "order_estimated_delivery_date —  обещанная дата доставки"
   ]
  },
  {
   "cell_type": "markdown",
   "metadata": {},
   "source": [
    "# Посмотрим форму таблицы, типы данных и есть ли пропущенные значения"
   ]
  },
  {
   "cell_type": "code",
   "execution_count": 5,
   "metadata": {},
   "outputs": [
    {
     "name": "stdout",
     "output_type": "stream",
     "text": [
      "<class 'pandas.core.frame.DataFrame'>\n",
      "RangeIndex: 99441 entries, 0 to 99440\n",
      "Data columns (total 5 columns):\n",
      " #   Column                    Non-Null Count  Dtype \n",
      "---  ------                    --------------  ----- \n",
      " 0   customer_id               99441 non-null  object\n",
      " 1   customer_unique_id        99441 non-null  object\n",
      " 2   customer_zip_code_prefix  99441 non-null  int64 \n",
      " 3   customer_city             99441 non-null  object\n",
      " 4   customer_state            99441 non-null  object\n",
      "dtypes: int64(1), object(4)\n",
      "memory usage: 3.8+ MB\n"
     ]
    }
   ],
   "source": [
    "# таблица customers_df\n",
    "customers_df.info()"
   ]
  },
  {
   "cell_type": "code",
   "execution_count": 6,
   "metadata": {},
   "outputs": [
    {
     "name": "stdout",
     "output_type": "stream",
     "text": [
      "<class 'pandas.core.frame.DataFrame'>\n",
      "RangeIndex: 112650 entries, 0 to 112649\n",
      "Data columns (total 7 columns):\n",
      " #   Column               Non-Null Count   Dtype  \n",
      "---  ------               --------------   -----  \n",
      " 0   order_id             112650 non-null  object \n",
      " 1   order_item_id        112650 non-null  int64  \n",
      " 2   product_id           112650 non-null  object \n",
      " 3   seller_id            112650 non-null  object \n",
      " 4   shipping_limit_date  112650 non-null  object \n",
      " 5   price                112650 non-null  float64\n",
      " 6   freight_value        112650 non-null  float64\n",
      "dtypes: float64(2), int64(1), object(4)\n",
      "memory usage: 6.0+ MB\n"
     ]
    }
   ],
   "source": [
    "# таблица order_items_df\n",
    "order_items_df.info()"
   ]
  },
  {
   "cell_type": "code",
   "execution_count": 7,
   "metadata": {},
   "outputs": [
    {
     "name": "stdout",
     "output_type": "stream",
     "text": [
      "<class 'pandas.core.frame.DataFrame'>\n",
      "RangeIndex: 99441 entries, 0 to 99440\n",
      "Data columns (total 8 columns):\n",
      " #   Column                         Non-Null Count  Dtype \n",
      "---  ------                         --------------  ----- \n",
      " 0   order_id                       99441 non-null  object\n",
      " 1   customer_id                    99441 non-null  object\n",
      " 2   order_status                   99441 non-null  object\n",
      " 3   order_purchase_timestamp       99441 non-null  object\n",
      " 4   order_approved_at              99281 non-null  object\n",
      " 5   order_delivered_carrier_date   97658 non-null  object\n",
      " 6   order_delivered_customer_date  96476 non-null  object\n",
      " 7   order_estimated_delivery_date  99441 non-null  object\n",
      "dtypes: object(8)\n",
      "memory usage: 6.1+ MB\n"
     ]
    }
   ],
   "source": [
    "# таблица orders_df\n",
    "orders_df.info()"
   ]
  },
  {
   "cell_type": "code",
   "execution_count": 8,
   "metadata": {},
   "outputs": [
    {
     "data": {
      "text/plain": [
       "order_id                            0\n",
       "customer_id                         0\n",
       "order_status                        0\n",
       "order_purchase_timestamp            0\n",
       "order_approved_at                 160\n",
       "order_delivered_carrier_date     1783\n",
       "order_delivered_customer_date    2965\n",
       "order_estimated_delivery_date       0\n",
       "dtype: int64"
      ]
     },
     "execution_count": 8,
     "metadata": {},
     "output_type": "execute_result"
    }
   ],
   "source": [
    "# пропущенные значения есть только в одной таблице\n",
    "orders_df.isna().sum()"
   ]
  },
  {
   "cell_type": "code",
   "execution_count": 9,
   "metadata": {},
   "outputs": [
    {
     "data": {
      "text/plain": [
       "delivered      96478\n",
       "shipped         1107\n",
       "canceled         625\n",
       "unavailable      609\n",
       "invoiced         314\n",
       "processing       301\n",
       "created            5\n",
       "approved           2\n",
       "Name: order_status, dtype: int64"
      ]
     },
     "execution_count": 9,
     "metadata": {},
     "output_type": "execute_result"
    }
   ],
   "source": [
    "# посмотрим, на количество заказов в разбивке по статусам\n",
    "orders_df.order_status.value_counts()"
   ]
  },
  {
   "cell_type": "code",
   "execution_count": 10,
   "metadata": {},
   "outputs": [],
   "source": [
    "# так как у нас есть колонки с датой, но у них тип данных object\n",
    "# лучше сразу поменяем тип данных на дату, чтобы легче было работать с этими столбцами\n",
    "orders_df = orders_df.astype({'order_purchase_timestamp': 'datetime64',\n",
    "                     'order_approved_at': 'datetime64',\n",
    "                     'order_delivered_carrier_date': 'datetime64',\n",
    "                     'order_delivered_customer_date': 'datetime64',\n",
    "                     'order_estimated_delivery_date': 'datetime64'})"
   ]
  },
  {
   "cell_type": "code",
   "execution_count": 11,
   "metadata": {},
   "outputs": [
    {
     "data": {
      "text/plain": [
       "order_id                                 object\n",
       "customer_id                              object\n",
       "order_status                             object\n",
       "order_purchase_timestamp         datetime64[ns]\n",
       "order_approved_at                datetime64[ns]\n",
       "order_delivered_carrier_date     datetime64[ns]\n",
       "order_delivered_customer_date    datetime64[ns]\n",
       "order_estimated_delivery_date    datetime64[ns]\n",
       "dtype: object"
      ]
     },
     "execution_count": 11,
     "metadata": {},
     "output_type": "execute_result"
    }
   ],
   "source": [
    "orders_df.dtypes"
   ]
  },
  {
   "cell_type": "markdown",
   "metadata": {},
   "source": [
    "# Предварительное исследование данных"
   ]
  },
  {
   "cell_type": "markdown",
   "metadata": {},
   "source": [
    "Чтобы понять, с каким статусом заказ будет считаться покупкой, необходимо определить, когда переходит право собственности на товар. Покупка означает вступление во владение данным активом, собственностью, предметом или правом, заплатив заранее определенную сумму денег для успешного завершения транзакции. При доставке право собственности переходит в момент вручения товара покупателю или указанному им лицу. Таким образом, до того, как товар будет передан клиенту, владеет и несет ответственность за него компания. Значит в определении понятия покупка, совершенная клиентом, нам подойдут только те заказы, которые уже переданы пользователю, то есть со статусом delivered(доставлен).\n",
    "\n",
    "Моментом продажи для компании можно считать то, когда пользователь фактически оплатил заказ. Именно в этот момент единица товара становится недоступна для других, так как одну единицу товара два раза продать не получится.\n",
    "\n",
    "Уникальные статусы заказов в таблице orders_df:\n",
    "\n",
    "Есть такие уникальные заказы, как created —  создан, approved —  подтверждён, invoiced —  выставлен счёт, processing —  в процессе сборки заказа, shipped —  отгружен со склада.\n",
    "\n",
    "delivered —  доставлен пользователю. В данных есть заказы(14 штук) со статусом delivered(доставлен), но нет даты оплаты. Будем считать, что это ошибка в данных и дата просто не загрузилась. Так же в заказах со статусом delivered есть заказы(8 штук), у которых нет даты доставки, хотя по статусу знаем, что клиенту товар был доставлен. Будем считать, что это тоже просто ошибка в данных.\n",
    "\n",
    "unavailable —  недоступен. Это означает, что товар не доступен(к примеру, его нет на складе) и пользователь не сможет получить заказ, следовательно ему вернут потраченные средства, если он оплатил.\n",
    "\n",
    "canceled —  отменён. Все заказы со статусом canceled(отмененные) не считаем покупкой, совершенной пользователем, даже если оплата была произведена(в данных есть заказы, которые отменены,  но оплачены) или были доставлены(есть заказы, которые были доставлены, но отменены, скорее всего не понравилось качество товара или не вовремя доставили), так как пользователь отказался от заказа и ему будут возвращены деньги."
   ]
  },
  {
   "cell_type": "markdown",
   "metadata": {},
   "source": [
    "посмотрим на заказы со статусом delivered(14 штук), у которых нет даты оплаты"
   ]
  },
  {
   "cell_type": "code",
   "execution_count": 66,
   "metadata": {},
   "outputs": [
    {
     "data": {
      "text/html": [
       "<div>\n",
       "<style scoped>\n",
       "    .dataframe tbody tr th:only-of-type {\n",
       "        vertical-align: middle;\n",
       "    }\n",
       "\n",
       "    .dataframe tbody tr th {\n",
       "        vertical-align: top;\n",
       "    }\n",
       "\n",
       "    .dataframe thead th {\n",
       "        text-align: right;\n",
       "    }\n",
       "</style>\n",
       "<table border=\"1\" class=\"dataframe\">\n",
       "  <thead>\n",
       "    <tr style=\"text-align: right;\">\n",
       "      <th></th>\n",
       "      <th>order_id</th>\n",
       "      <th>customer_id</th>\n",
       "      <th>order_status</th>\n",
       "      <th>order_purchase_timestamp</th>\n",
       "      <th>order_approved_at</th>\n",
       "      <th>order_delivered_carrier_date</th>\n",
       "      <th>order_delivered_customer_date</th>\n",
       "      <th>order_estimated_delivery_date</th>\n",
       "    </tr>\n",
       "  </thead>\n",
       "  <tbody>\n",
       "    <tr>\n",
       "      <th>5323</th>\n",
       "      <td>e04abd8149ef81b95221e88f6ed9ab6a</td>\n",
       "      <td>2127dc6603ac33544953ef05ec155771</td>\n",
       "      <td>delivered</td>\n",
       "      <td>2017-02-18 14:40:00</td>\n",
       "      <td>NaT</td>\n",
       "      <td>2017-02-23 12:04:47</td>\n",
       "      <td>2017-03-01 13:25:33</td>\n",
       "      <td>2017-03-17</td>\n",
       "    </tr>\n",
       "    <tr>\n",
       "      <th>16567</th>\n",
       "      <td>8a9adc69528e1001fc68dd0aaebbb54a</td>\n",
       "      <td>4c1ccc74e00993733742a3c786dc3c1f</td>\n",
       "      <td>delivered</td>\n",
       "      <td>2017-02-18 12:45:31</td>\n",
       "      <td>NaT</td>\n",
       "      <td>2017-02-23 09:01:52</td>\n",
       "      <td>2017-03-02 10:05:06</td>\n",
       "      <td>2017-03-21</td>\n",
       "    </tr>\n",
       "    <tr>\n",
       "      <th>19031</th>\n",
       "      <td>7013bcfc1c97fe719a7b5e05e61c12db</td>\n",
       "      <td>2941af76d38100e0f8740a374f1a5dc3</td>\n",
       "      <td>delivered</td>\n",
       "      <td>2017-02-18 13:29:47</td>\n",
       "      <td>NaT</td>\n",
       "      <td>2017-02-22 16:25:25</td>\n",
       "      <td>2017-03-01 08:07:38</td>\n",
       "      <td>2017-03-17</td>\n",
       "    </tr>\n",
       "    <tr>\n",
       "      <th>22663</th>\n",
       "      <td>5cf925b116421afa85ee25e99b4c34fb</td>\n",
       "      <td>29c35fc91fc13fb5073c8f30505d860d</td>\n",
       "      <td>delivered</td>\n",
       "      <td>2017-02-18 16:48:35</td>\n",
       "      <td>NaT</td>\n",
       "      <td>2017-02-22 11:23:10</td>\n",
       "      <td>2017-03-09 07:28:47</td>\n",
       "      <td>2017-03-31</td>\n",
       "    </tr>\n",
       "    <tr>\n",
       "      <th>23156</th>\n",
       "      <td>12a95a3c06dbaec84bcfb0e2da5d228a</td>\n",
       "      <td>1e101e0daffaddce8159d25a8e53f2b2</td>\n",
       "      <td>delivered</td>\n",
       "      <td>2017-02-17 13:05:55</td>\n",
       "      <td>NaT</td>\n",
       "      <td>2017-02-22 11:23:11</td>\n",
       "      <td>2017-03-02 11:09:19</td>\n",
       "      <td>2017-03-20</td>\n",
       "    </tr>\n",
       "    <tr>\n",
       "      <th>26800</th>\n",
       "      <td>c1d4211b3dae76144deccd6c74144a88</td>\n",
       "      <td>684cb238dc5b5d6366244e0e0776b450</td>\n",
       "      <td>delivered</td>\n",
       "      <td>2017-01-19 12:48:08</td>\n",
       "      <td>NaT</td>\n",
       "      <td>2017-01-25 14:56:50</td>\n",
       "      <td>2017-01-30 18:16:01</td>\n",
       "      <td>2017-03-01</td>\n",
       "    </tr>\n",
       "    <tr>\n",
       "      <th>38290</th>\n",
       "      <td>d69e5d356402adc8cf17e08b5033acfb</td>\n",
       "      <td>68d081753ad4fe22fc4d410a9eb1ca01</td>\n",
       "      <td>delivered</td>\n",
       "      <td>2017-02-19 01:28:47</td>\n",
       "      <td>NaT</td>\n",
       "      <td>2017-02-23 03:11:48</td>\n",
       "      <td>2017-03-02 03:41:58</td>\n",
       "      <td>2017-03-27</td>\n",
       "    </tr>\n",
       "    <tr>\n",
       "      <th>39334</th>\n",
       "      <td>d77031d6a3c8a52f019764e68f211c69</td>\n",
       "      <td>0bf35cac6cc7327065da879e2d90fae8</td>\n",
       "      <td>delivered</td>\n",
       "      <td>2017-02-18 11:04:19</td>\n",
       "      <td>NaT</td>\n",
       "      <td>2017-02-23 07:23:36</td>\n",
       "      <td>2017-03-02 16:15:23</td>\n",
       "      <td>2017-03-22</td>\n",
       "    </tr>\n",
       "    <tr>\n",
       "      <th>48401</th>\n",
       "      <td>7002a78c79c519ac54022d4f8a65e6e8</td>\n",
       "      <td>d5de688c321096d15508faae67a27051</td>\n",
       "      <td>delivered</td>\n",
       "      <td>2017-01-19 22:26:59</td>\n",
       "      <td>NaT</td>\n",
       "      <td>2017-01-27 11:08:05</td>\n",
       "      <td>2017-02-06 14:22:19</td>\n",
       "      <td>2017-03-16</td>\n",
       "    </tr>\n",
       "    <tr>\n",
       "      <th>61743</th>\n",
       "      <td>2eecb0d85f281280f79fa00f9cec1a95</td>\n",
       "      <td>a3d3c38e58b9d2dfb9207cab690b6310</td>\n",
       "      <td>delivered</td>\n",
       "      <td>2017-02-17 17:21:55</td>\n",
       "      <td>NaT</td>\n",
       "      <td>2017-02-22 11:42:51</td>\n",
       "      <td>2017-03-03 12:16:03</td>\n",
       "      <td>2017-03-20</td>\n",
       "    </tr>\n",
       "    <tr>\n",
       "      <th>63052</th>\n",
       "      <td>51eb2eebd5d76a24625b31c33dd41449</td>\n",
       "      <td>07a2a7e0f63fd8cb757ed77d4245623c</td>\n",
       "      <td>delivered</td>\n",
       "      <td>2017-02-18 15:52:27</td>\n",
       "      <td>NaT</td>\n",
       "      <td>2017-02-23 03:09:14</td>\n",
       "      <td>2017-03-07 13:57:47</td>\n",
       "      <td>2017-03-29</td>\n",
       "    </tr>\n",
       "    <tr>\n",
       "      <th>67697</th>\n",
       "      <td>88083e8f64d95b932164187484d90212</td>\n",
       "      <td>f67cd1a215aae2a1074638bbd35a223a</td>\n",
       "      <td>delivered</td>\n",
       "      <td>2017-02-18 22:49:19</td>\n",
       "      <td>NaT</td>\n",
       "      <td>2017-02-22 11:31:06</td>\n",
       "      <td>2017-03-02 12:06:06</td>\n",
       "      <td>2017-03-21</td>\n",
       "    </tr>\n",
       "    <tr>\n",
       "      <th>72407</th>\n",
       "      <td>3c0b8706b065f9919d0505d3b3343881</td>\n",
       "      <td>d85919cb3c0529589c6fa617f5f43281</td>\n",
       "      <td>delivered</td>\n",
       "      <td>2017-02-17 15:53:27</td>\n",
       "      <td>NaT</td>\n",
       "      <td>2017-02-22 11:31:30</td>\n",
       "      <td>2017-03-03 11:47:47</td>\n",
       "      <td>2017-03-23</td>\n",
       "    </tr>\n",
       "    <tr>\n",
       "      <th>84999</th>\n",
       "      <td>2babbb4b15e6d2dfe95e2de765c97bce</td>\n",
       "      <td>74bebaf46603f9340e3b50c6b086f992</td>\n",
       "      <td>delivered</td>\n",
       "      <td>2017-02-18 17:15:03</td>\n",
       "      <td>NaT</td>\n",
       "      <td>2017-02-22 11:23:11</td>\n",
       "      <td>2017-03-03 18:43:43</td>\n",
       "      <td>2017-03-31</td>\n",
       "    </tr>\n",
       "  </tbody>\n",
       "</table>\n",
       "</div>"
      ],
      "text/plain": [
       "                               order_id                       customer_id  \\\n",
       "5323   e04abd8149ef81b95221e88f6ed9ab6a  2127dc6603ac33544953ef05ec155771   \n",
       "16567  8a9adc69528e1001fc68dd0aaebbb54a  4c1ccc74e00993733742a3c786dc3c1f   \n",
       "19031  7013bcfc1c97fe719a7b5e05e61c12db  2941af76d38100e0f8740a374f1a5dc3   \n",
       "22663  5cf925b116421afa85ee25e99b4c34fb  29c35fc91fc13fb5073c8f30505d860d   \n",
       "23156  12a95a3c06dbaec84bcfb0e2da5d228a  1e101e0daffaddce8159d25a8e53f2b2   \n",
       "26800  c1d4211b3dae76144deccd6c74144a88  684cb238dc5b5d6366244e0e0776b450   \n",
       "38290  d69e5d356402adc8cf17e08b5033acfb  68d081753ad4fe22fc4d410a9eb1ca01   \n",
       "39334  d77031d6a3c8a52f019764e68f211c69  0bf35cac6cc7327065da879e2d90fae8   \n",
       "48401  7002a78c79c519ac54022d4f8a65e6e8  d5de688c321096d15508faae67a27051   \n",
       "61743  2eecb0d85f281280f79fa00f9cec1a95  a3d3c38e58b9d2dfb9207cab690b6310   \n",
       "63052  51eb2eebd5d76a24625b31c33dd41449  07a2a7e0f63fd8cb757ed77d4245623c   \n",
       "67697  88083e8f64d95b932164187484d90212  f67cd1a215aae2a1074638bbd35a223a   \n",
       "72407  3c0b8706b065f9919d0505d3b3343881  d85919cb3c0529589c6fa617f5f43281   \n",
       "84999  2babbb4b15e6d2dfe95e2de765c97bce  74bebaf46603f9340e3b50c6b086f992   \n",
       "\n",
       "      order_status order_purchase_timestamp order_approved_at  \\\n",
       "5323     delivered      2017-02-18 14:40:00               NaT   \n",
       "16567    delivered      2017-02-18 12:45:31               NaT   \n",
       "19031    delivered      2017-02-18 13:29:47               NaT   \n",
       "22663    delivered      2017-02-18 16:48:35               NaT   \n",
       "23156    delivered      2017-02-17 13:05:55               NaT   \n",
       "26800    delivered      2017-01-19 12:48:08               NaT   \n",
       "38290    delivered      2017-02-19 01:28:47               NaT   \n",
       "39334    delivered      2017-02-18 11:04:19               NaT   \n",
       "48401    delivered      2017-01-19 22:26:59               NaT   \n",
       "61743    delivered      2017-02-17 17:21:55               NaT   \n",
       "63052    delivered      2017-02-18 15:52:27               NaT   \n",
       "67697    delivered      2017-02-18 22:49:19               NaT   \n",
       "72407    delivered      2017-02-17 15:53:27               NaT   \n",
       "84999    delivered      2017-02-18 17:15:03               NaT   \n",
       "\n",
       "      order_delivered_carrier_date order_delivered_customer_date  \\\n",
       "5323           2017-02-23 12:04:47           2017-03-01 13:25:33   \n",
       "16567          2017-02-23 09:01:52           2017-03-02 10:05:06   \n",
       "19031          2017-02-22 16:25:25           2017-03-01 08:07:38   \n",
       "22663          2017-02-22 11:23:10           2017-03-09 07:28:47   \n",
       "23156          2017-02-22 11:23:11           2017-03-02 11:09:19   \n",
       "26800          2017-01-25 14:56:50           2017-01-30 18:16:01   \n",
       "38290          2017-02-23 03:11:48           2017-03-02 03:41:58   \n",
       "39334          2017-02-23 07:23:36           2017-03-02 16:15:23   \n",
       "48401          2017-01-27 11:08:05           2017-02-06 14:22:19   \n",
       "61743          2017-02-22 11:42:51           2017-03-03 12:16:03   \n",
       "63052          2017-02-23 03:09:14           2017-03-07 13:57:47   \n",
       "67697          2017-02-22 11:31:06           2017-03-02 12:06:06   \n",
       "72407          2017-02-22 11:31:30           2017-03-03 11:47:47   \n",
       "84999          2017-02-22 11:23:11           2017-03-03 18:43:43   \n",
       "\n",
       "      order_estimated_delivery_date  \n",
       "5323                     2017-03-17  \n",
       "16567                    2017-03-21  \n",
       "19031                    2017-03-17  \n",
       "22663                    2017-03-31  \n",
       "23156                    2017-03-20  \n",
       "26800                    2017-03-01  \n",
       "38290                    2017-03-27  \n",
       "39334                    2017-03-22  \n",
       "48401                    2017-03-16  \n",
       "61743                    2017-03-20  \n",
       "63052                    2017-03-29  \n",
       "67697                    2017-03-21  \n",
       "72407                    2017-03-23  \n",
       "84999                    2017-03-31  "
      ]
     },
     "execution_count": 66,
     "metadata": {},
     "output_type": "execute_result"
    }
   ],
   "source": [
    "# найдем эти 14 заказов, где есть статус delivered(доставлен), но нет даты оплаты.\n",
    "# можно заметить, что очень много заказов(8 штук) было сделано 2017-02-18(колонка order_purchase_timestamp)\n",
    "# и еще 3 заказа за день до этого и 1 после\n",
    "# явно есть какая-то взаимосвязь, скорее всего в этот день плохо работал сайт или по какой-то другой причине не внеслась дата\n",
    "# но так как заказы были доставлены пользователю, оставим эти данные и не будем их удалять\n",
    "orders_df[orders_df['order_approved_at'].isna()].query('order_status == \"delivered\"')"
   ]
  },
  {
   "cell_type": "markdown",
   "metadata": {},
   "source": [
    "посмотрим на заказы со статусом delivered(8 штук), у которых нет даты доставки"
   ]
  },
  {
   "cell_type": "code",
   "execution_count": 67,
   "metadata": {},
   "outputs": [
    {
     "data": {
      "text/html": [
       "<div>\n",
       "<style scoped>\n",
       "    .dataframe tbody tr th:only-of-type {\n",
       "        vertical-align: middle;\n",
       "    }\n",
       "\n",
       "    .dataframe tbody tr th {\n",
       "        vertical-align: top;\n",
       "    }\n",
       "\n",
       "    .dataframe thead th {\n",
       "        text-align: right;\n",
       "    }\n",
       "</style>\n",
       "<table border=\"1\" class=\"dataframe\">\n",
       "  <thead>\n",
       "    <tr style=\"text-align: right;\">\n",
       "      <th></th>\n",
       "      <th>order_id</th>\n",
       "      <th>customer_id</th>\n",
       "      <th>order_status</th>\n",
       "      <th>order_purchase_timestamp</th>\n",
       "      <th>order_approved_at</th>\n",
       "      <th>order_delivered_carrier_date</th>\n",
       "      <th>order_delivered_customer_date</th>\n",
       "      <th>order_estimated_delivery_date</th>\n",
       "    </tr>\n",
       "  </thead>\n",
       "  <tbody>\n",
       "    <tr>\n",
       "      <th>3002</th>\n",
       "      <td>2d1e2d5bf4dc7227b3bfebb81328c15f</td>\n",
       "      <td>ec05a6d8558c6455f0cbbd8a420ad34f</td>\n",
       "      <td>delivered</td>\n",
       "      <td>2017-11-28 17:44:07</td>\n",
       "      <td>2017-11-28 17:56:40</td>\n",
       "      <td>2017-11-30 18:12:23</td>\n",
       "      <td>NaT</td>\n",
       "      <td>2017-12-18</td>\n",
       "    </tr>\n",
       "    <tr>\n",
       "      <th>20618</th>\n",
       "      <td>f5dd62b788049ad9fc0526e3ad11a097</td>\n",
       "      <td>5e89028e024b381dc84a13a3570decb4</td>\n",
       "      <td>delivered</td>\n",
       "      <td>2018-06-20 06:58:43</td>\n",
       "      <td>2018-06-20 07:19:05</td>\n",
       "      <td>2018-06-25 08:05:00</td>\n",
       "      <td>NaT</td>\n",
       "      <td>2018-07-16</td>\n",
       "    </tr>\n",
       "    <tr>\n",
       "      <th>43834</th>\n",
       "      <td>2ebdfc4f15f23b91474edf87475f108e</td>\n",
       "      <td>29f0540231702fda0cfdee0a310f11aa</td>\n",
       "      <td>delivered</td>\n",
       "      <td>2018-07-01 17:05:11</td>\n",
       "      <td>2018-07-01 17:15:12</td>\n",
       "      <td>2018-07-03 13:57:00</td>\n",
       "      <td>NaT</td>\n",
       "      <td>2018-07-30</td>\n",
       "    </tr>\n",
       "    <tr>\n",
       "      <th>79263</th>\n",
       "      <td>e69f75a717d64fc5ecdfae42b2e8e086</td>\n",
       "      <td>cfda40ca8dd0a5d486a9635b611b398a</td>\n",
       "      <td>delivered</td>\n",
       "      <td>2018-07-01 22:05:55</td>\n",
       "      <td>2018-07-01 22:15:14</td>\n",
       "      <td>2018-07-03 13:57:00</td>\n",
       "      <td>NaT</td>\n",
       "      <td>2018-07-30</td>\n",
       "    </tr>\n",
       "    <tr>\n",
       "      <th>82868</th>\n",
       "      <td>0d3268bad9b086af767785e3f0fc0133</td>\n",
       "      <td>4f1d63d35fb7c8999853b2699f5c7649</td>\n",
       "      <td>delivered</td>\n",
       "      <td>2018-07-01 21:14:02</td>\n",
       "      <td>2018-07-01 21:29:54</td>\n",
       "      <td>2018-07-03 09:28:00</td>\n",
       "      <td>NaT</td>\n",
       "      <td>2018-07-24</td>\n",
       "    </tr>\n",
       "    <tr>\n",
       "      <th>92643</th>\n",
       "      <td>2d858f451373b04fb5c984a1cc2defaf</td>\n",
       "      <td>e08caf668d499a6d643dafd7c5cc498a</td>\n",
       "      <td>delivered</td>\n",
       "      <td>2017-05-25 23:22:43</td>\n",
       "      <td>2017-05-25 23:30:16</td>\n",
       "      <td>NaT</td>\n",
       "      <td>NaT</td>\n",
       "      <td>2017-06-23</td>\n",
       "    </tr>\n",
       "    <tr>\n",
       "      <th>97647</th>\n",
       "      <td>ab7c89dc1bf4a1ead9d6ec1ec8968a84</td>\n",
       "      <td>dd1b84a7286eb4524d52af4256c0ba24</td>\n",
       "      <td>delivered</td>\n",
       "      <td>2018-06-08 12:09:39</td>\n",
       "      <td>2018-06-08 12:36:39</td>\n",
       "      <td>2018-06-12 14:10:00</td>\n",
       "      <td>NaT</td>\n",
       "      <td>2018-06-26</td>\n",
       "    </tr>\n",
       "    <tr>\n",
       "      <th>98038</th>\n",
       "      <td>20edc82cf5400ce95e1afacc25798b31</td>\n",
       "      <td>28c37425f1127d887d7337f284080a0f</td>\n",
       "      <td>delivered</td>\n",
       "      <td>2018-06-27 16:09:12</td>\n",
       "      <td>2018-06-27 16:29:30</td>\n",
       "      <td>2018-07-03 19:26:00</td>\n",
       "      <td>NaT</td>\n",
       "      <td>2018-07-19</td>\n",
       "    </tr>\n",
       "  </tbody>\n",
       "</table>\n",
       "</div>"
      ],
      "text/plain": [
       "                               order_id                       customer_id  \\\n",
       "3002   2d1e2d5bf4dc7227b3bfebb81328c15f  ec05a6d8558c6455f0cbbd8a420ad34f   \n",
       "20618  f5dd62b788049ad9fc0526e3ad11a097  5e89028e024b381dc84a13a3570decb4   \n",
       "43834  2ebdfc4f15f23b91474edf87475f108e  29f0540231702fda0cfdee0a310f11aa   \n",
       "79263  e69f75a717d64fc5ecdfae42b2e8e086  cfda40ca8dd0a5d486a9635b611b398a   \n",
       "82868  0d3268bad9b086af767785e3f0fc0133  4f1d63d35fb7c8999853b2699f5c7649   \n",
       "92643  2d858f451373b04fb5c984a1cc2defaf  e08caf668d499a6d643dafd7c5cc498a   \n",
       "97647  ab7c89dc1bf4a1ead9d6ec1ec8968a84  dd1b84a7286eb4524d52af4256c0ba24   \n",
       "98038  20edc82cf5400ce95e1afacc25798b31  28c37425f1127d887d7337f284080a0f   \n",
       "\n",
       "      order_status order_purchase_timestamp   order_approved_at  \\\n",
       "3002     delivered      2017-11-28 17:44:07 2017-11-28 17:56:40   \n",
       "20618    delivered      2018-06-20 06:58:43 2018-06-20 07:19:05   \n",
       "43834    delivered      2018-07-01 17:05:11 2018-07-01 17:15:12   \n",
       "79263    delivered      2018-07-01 22:05:55 2018-07-01 22:15:14   \n",
       "82868    delivered      2018-07-01 21:14:02 2018-07-01 21:29:54   \n",
       "92643    delivered      2017-05-25 23:22:43 2017-05-25 23:30:16   \n",
       "97647    delivered      2018-06-08 12:09:39 2018-06-08 12:36:39   \n",
       "98038    delivered      2018-06-27 16:09:12 2018-06-27 16:29:30   \n",
       "\n",
       "      order_delivered_carrier_date order_delivered_customer_date  \\\n",
       "3002           2017-11-30 18:12:23                           NaT   \n",
       "20618          2018-06-25 08:05:00                           NaT   \n",
       "43834          2018-07-03 13:57:00                           NaT   \n",
       "79263          2018-07-03 13:57:00                           NaT   \n",
       "82868          2018-07-03 09:28:00                           NaT   \n",
       "92643                          NaT                           NaT   \n",
       "97647          2018-06-12 14:10:00                           NaT   \n",
       "98038          2018-07-03 19:26:00                           NaT   \n",
       "\n",
       "      order_estimated_delivery_date  \n",
       "3002                     2017-12-18  \n",
       "20618                    2018-07-16  \n",
       "43834                    2018-07-30  \n",
       "79263                    2018-07-30  \n",
       "82868                    2018-07-24  \n",
       "92643                    2017-06-23  \n",
       "97647                    2018-06-26  \n",
       "98038                    2018-07-19  "
      ]
     },
     "execution_count": 67,
     "metadata": {},
     "output_type": "execute_result"
    }
   ],
   "source": [
    "# можем предположить, что клиент лично забрал товар и не воспользовался доставкой\n",
    "# так как можно заметить, что сделан заказ и оплачен в один день, и они отличаются примерно на 20 минут\n",
    "# но точно мы сказать не можем, может это просто ошибка в данных\n",
    "orders_df[orders_df.order_delivered_customer_date.isna()].query('order_status == \"delivered\"')"
   ]
  },
  {
   "cell_type": "markdown",
   "metadata": {},
   "source": [
    "посмотрим на заказы со статусом canceled(6 штук), у которых есть дата доставки"
   ]
  },
  {
   "cell_type": "code",
   "execution_count": 70,
   "metadata": {},
   "outputs": [
    {
     "data": {
      "text/html": [
       "<div>\n",
       "<style scoped>\n",
       "    .dataframe tbody tr th:only-of-type {\n",
       "        vertical-align: middle;\n",
       "    }\n",
       "\n",
       "    .dataframe tbody tr th {\n",
       "        vertical-align: top;\n",
       "    }\n",
       "\n",
       "    .dataframe thead th {\n",
       "        text-align: right;\n",
       "    }\n",
       "</style>\n",
       "<table border=\"1\" class=\"dataframe\">\n",
       "  <thead>\n",
       "    <tr style=\"text-align: right;\">\n",
       "      <th></th>\n",
       "      <th>order_id</th>\n",
       "      <th>customer_id</th>\n",
       "      <th>order_status</th>\n",
       "      <th>order_purchase_timestamp</th>\n",
       "      <th>order_approved_at</th>\n",
       "      <th>order_delivered_carrier_date</th>\n",
       "      <th>order_delivered_customer_date</th>\n",
       "      <th>order_estimated_delivery_date</th>\n",
       "    </tr>\n",
       "  </thead>\n",
       "  <tbody>\n",
       "    <tr>\n",
       "      <th>2921</th>\n",
       "      <td>1950d777989f6a877539f53795b4c3c3</td>\n",
       "      <td>1bccb206de9f0f25adc6871a1bcf77b2</td>\n",
       "      <td>canceled</td>\n",
       "      <td>2018-02-19 19:48:52</td>\n",
       "      <td>2018-02-19 20:56:05</td>\n",
       "      <td>2018-02-20 19:57:13</td>\n",
       "      <td>2018-03-21 22:03:51</td>\n",
       "      <td>2018-03-09</td>\n",
       "    </tr>\n",
       "    <tr>\n",
       "      <th>8791</th>\n",
       "      <td>dabf2b0e35b423f94618bf965fcb7514</td>\n",
       "      <td>5cdec0bb8cbdf53ffc8fdc212cd247c6</td>\n",
       "      <td>canceled</td>\n",
       "      <td>2016-10-09 00:56:52</td>\n",
       "      <td>2016-10-09 13:36:58</td>\n",
       "      <td>2016-10-13 13:36:59</td>\n",
       "      <td>2016-10-16 14:36:59</td>\n",
       "      <td>2016-11-30</td>\n",
       "    </tr>\n",
       "    <tr>\n",
       "      <th>58266</th>\n",
       "      <td>770d331c84e5b214bd9dc70a10b829d0</td>\n",
       "      <td>6c57e6119369185e575b36712766b0ef</td>\n",
       "      <td>canceled</td>\n",
       "      <td>2016-10-07 14:52:30</td>\n",
       "      <td>2016-10-07 15:07:10</td>\n",
       "      <td>2016-10-11 15:07:11</td>\n",
       "      <td>2016-10-14 15:07:11</td>\n",
       "      <td>2016-11-29</td>\n",
       "    </tr>\n",
       "    <tr>\n",
       "      <th>59332</th>\n",
       "      <td>8beb59392e21af5eb9547ae1a9938d06</td>\n",
       "      <td>bf609b5741f71697f65ce3852c5d2623</td>\n",
       "      <td>canceled</td>\n",
       "      <td>2016-10-08 20:17:50</td>\n",
       "      <td>2016-10-09 14:34:30</td>\n",
       "      <td>2016-10-14 22:45:26</td>\n",
       "      <td>2016-10-19 18:47:43</td>\n",
       "      <td>2016-11-30</td>\n",
       "    </tr>\n",
       "    <tr>\n",
       "      <th>92636</th>\n",
       "      <td>65d1e226dfaeb8cdc42f665422522d14</td>\n",
       "      <td>70fc57eeae292675927697fe03ad3ff5</td>\n",
       "      <td>canceled</td>\n",
       "      <td>2016-10-03 21:01:41</td>\n",
       "      <td>2016-10-04 10:18:57</td>\n",
       "      <td>2016-10-25 12:14:28</td>\n",
       "      <td>2016-11-08 10:58:34</td>\n",
       "      <td>2016-11-25</td>\n",
       "    </tr>\n",
       "    <tr>\n",
       "      <th>94399</th>\n",
       "      <td>2c45c33d2f9cb8ff8b1c86cc28c11c30</td>\n",
       "      <td>de4caa97afa80c8eeac2ff4c8da5b72e</td>\n",
       "      <td>canceled</td>\n",
       "      <td>2016-10-09 15:39:56</td>\n",
       "      <td>2016-10-10 10:40:49</td>\n",
       "      <td>2016-10-14 10:40:50</td>\n",
       "      <td>2016-11-09 14:53:50</td>\n",
       "      <td>2016-12-08</td>\n",
       "    </tr>\n",
       "  </tbody>\n",
       "</table>\n",
       "</div>"
      ],
      "text/plain": [
       "                               order_id                       customer_id  \\\n",
       "2921   1950d777989f6a877539f53795b4c3c3  1bccb206de9f0f25adc6871a1bcf77b2   \n",
       "8791   dabf2b0e35b423f94618bf965fcb7514  5cdec0bb8cbdf53ffc8fdc212cd247c6   \n",
       "58266  770d331c84e5b214bd9dc70a10b829d0  6c57e6119369185e575b36712766b0ef   \n",
       "59332  8beb59392e21af5eb9547ae1a9938d06  bf609b5741f71697f65ce3852c5d2623   \n",
       "92636  65d1e226dfaeb8cdc42f665422522d14  70fc57eeae292675927697fe03ad3ff5   \n",
       "94399  2c45c33d2f9cb8ff8b1c86cc28c11c30  de4caa97afa80c8eeac2ff4c8da5b72e   \n",
       "\n",
       "      order_status order_purchase_timestamp   order_approved_at  \\\n",
       "2921      canceled      2018-02-19 19:48:52 2018-02-19 20:56:05   \n",
       "8791      canceled      2016-10-09 00:56:52 2016-10-09 13:36:58   \n",
       "58266     canceled      2016-10-07 14:52:30 2016-10-07 15:07:10   \n",
       "59332     canceled      2016-10-08 20:17:50 2016-10-09 14:34:30   \n",
       "92636     canceled      2016-10-03 21:01:41 2016-10-04 10:18:57   \n",
       "94399     canceled      2016-10-09 15:39:56 2016-10-10 10:40:49   \n",
       "\n",
       "      order_delivered_carrier_date order_delivered_customer_date  \\\n",
       "2921           2018-02-20 19:57:13           2018-03-21 22:03:51   \n",
       "8791           2016-10-13 13:36:59           2016-10-16 14:36:59   \n",
       "58266          2016-10-11 15:07:11           2016-10-14 15:07:11   \n",
       "59332          2016-10-14 22:45:26           2016-10-19 18:47:43   \n",
       "92636          2016-10-25 12:14:28           2016-11-08 10:58:34   \n",
       "94399          2016-10-14 10:40:50           2016-11-09 14:53:50   \n",
       "\n",
       "      order_estimated_delivery_date  \n",
       "2921                     2018-03-09  \n",
       "8791                     2016-11-30  \n",
       "58266                    2016-11-29  \n",
       "59332                    2016-11-30  \n",
       "92636                    2016-11-25  \n",
       "94399                    2016-12-08  "
      ]
     },
     "execution_count": 70,
     "metadata": {},
     "output_type": "execute_result"
    }
   ],
   "source": [
    "# можем предположить, что товар был доставлен клиенту, поэтому есть дата доставки\n",
    "# но клиенту не понравилось качество товара(к примеру, может что-то сломано было) и он отказался от заказа и отменил его\n",
    "# может, слишком поздно доставили или достака была просто не вовремя, что тоже могло повлиять на то, что клиент отказался\n",
    "orders_df.query('order_status == \"canceled\"').dropna(subset=['order_delivered_customer_date'])"
   ]
  },
  {
   "cell_type": "markdown",
   "metadata": {},
   "source": [
    "# Сколько у нас пользователей, которые совершили покупку только один раз?"
   ]
  },
  {
   "cell_type": "markdown",
   "metadata": {},
   "source": [
    "Необходимо найти то, когда пользователь совершил одну покупку только один раз. Покупкой можно называть то, когда приобретают один товар, а покупками можно считать, когда приобретают больше чем один товар. Значит, в начале необходимо отобрать те чеки, в которых есть только одна покупка."
   ]
  },
  {
   "cell_type": "code",
   "execution_count": 12,
   "metadata": {},
   "outputs": [],
   "source": [
    "# данные по чекам находятся в таблице order_items_df\n",
    "# сгруппируем по чекам, посчитаем количество купленных товаров и отберем те чеки, где только одна покупка\n",
    "orders_with_one_purchase = order_items_df \\\n",
    "                            .groupby('order_id', as_index=False) \\\n",
    "                            .agg({'product_id': 'count'}) \\\n",
    "                            .rename(columns={'product_id': 'quantity'}) \\\n",
    "                            .query('quantity == 1')"
   ]
  },
  {
   "cell_type": "markdown",
   "metadata": {},
   "source": [
    "Далее нам необходимо объеденить несколько таблиц, так как надо связать чеки с пользователями. В начале объединим полученную таблицу orders_with_one_purchase по номеру чека с таблицей orders_df, в которой находятся данные по позаказному идентификатору пользователя. Далее, по этому позаказному идентификатору пользователя свяжем объединенную таблицу с customers_df. Тем самым получим таблицу, где каждому пользователю будет соотносится сделанный заказ на одну покупку."
   ]
  },
  {
   "cell_type": "code",
   "execution_count": 13,
   "metadata": {},
   "outputs": [],
   "source": [
    "# объединим orders_with_one_purchase с orders_df\n",
    "# не будем брать по всем столбцам, а возьмем только нужные\n",
    "# из таблицы orders_with_one_purchase возьмем позаказный номер\n",
    "# из таблицы orders_df возьмем номер заказа, позаказный номер, статус и дату оплаты(доставки!!!)\n",
    "# по умолчанию в merge тип объединения inner\n",
    "orders_with_one_purchase = pd.merge(orders_with_one_purchase['order_id'],\n",
    "                                      orders_df[['order_id', 'customer_id', 'order_status']],\n",
    "                                      on='order_id')"
   ]
  },
  {
   "cell_type": "code",
   "execution_count": 14,
   "metadata": {},
   "outputs": [],
   "source": [
    "# объединим customers_with_one_purchase с customers_df\n",
    "# не будем брать по всем столбцам, а возьмем только нужные\n",
    "# из таблицы customers_df возьмем позаказный номер и уникальный номер пользователя\n",
    "# по умолчанию в merge тип объединения inner\n",
    "orders_with_one_purchase = pd.merge(orders_with_one_purchase,\n",
    "                                      customers_df[['customer_id', 'customer_unique_id']],\n",
    "                                      on='customer_id')"
   ]
  },
  {
   "cell_type": "markdown",
   "metadata": {},
   "source": [
    "Чтобы понять, с каким статусом заказ будет считаться покупкой, необходимо определить, когда переходит право собственности на товар. Покупка означает вступление во владение данным активом, собственностью, предметом или правом, заплатив заранее определенную сумму денег для успешного завершения транзакции. При доставке право собственности переходит в момент вручения товара покупателю или указанному им лицу. Таким образом, до того, как товар будет передан клиенту, владеет и несет ответственность за него компания. Значит нам подойдут только те заказы, которые уже переданы пользователю, то есть со статусом delivered(доставлен)."
   ]
  },
  {
   "cell_type": "code",
   "execution_count": 15,
   "metadata": {},
   "outputs": [
    {
     "name": "stdout",
     "output_type": "stream",
     "text": [
      "Вывод: 82251 пользователь совершил покупку только один раз\n"
     ]
    }
   ],
   "source": [
    "# а теперь сгруппируем данные, посчитаем количество покупок\n",
    "# и отберем тех пользователей, которые совершили одну покупку только один раз\n",
    "customers_with_one_purchase = orders_with_one_purchase \\\n",
    "                                .query('order_status == \"delivered\"') \\\n",
    "                                .groupby('customer_unique_id', as_index=False) \\\n",
    "                                .agg({'order_id': 'count'}) \\\n",
    "                                .query('order_id == 1') \\\n",
    "                                .shape[0]\n",
    "print(f'Вывод: {customers_with_one_purchase} пользователь совершил покупку только один раз')"
   ]
  },
  {
   "cell_type": "markdown",
   "metadata": {},
   "source": [
    "# Сколько заказов в месяц в среднем не доставляется по разным причинам (вывести детализацию по причинам)?"
   ]
  },
  {
   "cell_type": "markdown",
   "metadata": {},
   "source": [
    "Заказ не считается доставленным, если нет времени доставки заказа пользователю, данные которого хранятся в колонке order_delivered_customer_date. \n",
    "\n",
    "Так как будем смотреть не доставленные заказы по разным причинам, то будем использовать дату из колонки order_purchase_timestamp(время создание заказа). Это дата, когда пользователь создал заказ и если в дальнейшем он не был доставлен, не важно по какой причине, то такие данные будут нам интересны для исследования."
   ]
  },
  {
   "cell_type": "code",
   "execution_count": 16,
   "metadata": {},
   "outputs": [],
   "source": [
    "# оставим только те заказы, у которых нет времени доставки пользователю и сохраним таблицу в новую переменную\n",
    "orders_without_deliver = orders_df[orders_df['order_delivered_customer_date'].isna()]"
   ]
  },
  {
   "cell_type": "code",
   "execution_count": 17,
   "metadata": {},
   "outputs": [
    {
     "data": {
      "text/plain": [
       "shipped        1107\n",
       "canceled        619\n",
       "unavailable     609\n",
       "invoiced        314\n",
       "processing      301\n",
       "delivered         8\n",
       "created           5\n",
       "approved          2\n",
       "Name: order_status, dtype: int64"
      ]
     },
     "execution_count": 17,
     "metadata": {},
     "output_type": "execute_result"
    }
   ],
   "source": [
    "# проверим, заказы с какими статусами не доставлялись\n",
    "# можно заметить, что есть заказы со статусом delivered(доставлен)\n",
    "# если заказ доставлен и нет даты, значит ощибка в данных, такие заказы будем считать доставлеными до пользователя\n",
    "orders_without_deliver.order_status.value_counts()"
   ]
  },
  {
   "cell_type": "code",
   "execution_count": 18,
   "metadata": {},
   "outputs": [],
   "source": [
    "# отфильтруем таблицу, убрав заказы со статусом delivered\n",
    "orders_without_deliver = orders_without_deliver.query('order_status != \"delivered\"')"
   ]
  },
  {
   "cell_type": "code",
   "execution_count": 19,
   "metadata": {},
   "outputs": [],
   "source": [
    "# чтобы удобнее было работать с данными, создадим новую колонку, куда поместим год и месяц\n",
    "# чтобы в дальнейшем посчитать уникальное количество месяцев\n",
    "orders_without_deliver['year_month'] = orders_without_deliver['order_purchase_timestamp'].dt.strftime('%Y-%m')"
   ]
  },
  {
   "cell_type": "code",
   "execution_count": 20,
   "metadata": {},
   "outputs": [
    {
     "name": "stdout",
     "output_type": "stream",
     "text": [
      "Вывод: 123 заказа в месяц в среднем не доставляется\n"
     ]
    }
   ],
   "source": [
    "# найдем общее среднее количество недоставленных заказов за эти месяцы\n",
    "# сгруппируем по колонке year_month, посчитаем количество заказов в этих месяцах и посчитаем среднее через метод mean()\n",
    "# округлим среднее до целого\n",
    "not_delivered_mean = orders_without_deliver.shape[0] / orders_without_deliver.year_month.nunique()\n",
    "print(f'Вывод: {round(not_delivered_mean)} заказа в месяц в среднем не доставляется')"
   ]
  },
  {
   "cell_type": "code",
   "execution_count": 21,
   "metadata": {},
   "outputs": [],
   "source": [
    "# далее выведем детализацию по причинам, то есть узнаем общее количество недоставленных заказов по разным статусам\n",
    "# а также найдем сколько заказов в месяц в среднем не доставляется по разным причинам\n",
    "# отсортируем по убыванию и проставим индексы по порядку\n",
    "mean_by_status = orders_without_deliver \\\n",
    "                .groupby('order_status', as_index=False) \\\n",
    "                .agg({'customer_id': 'count'}) \\\n",
    "                .rename(columns={'customer_id': 'quantity'}) \\\n",
    "                .sort_values('quantity', ascending=False) \\\n",
    "                .reset_index(drop=True)"
   ]
  },
  {
   "cell_type": "code",
   "execution_count": 22,
   "metadata": {},
   "outputs": [],
   "source": [
    "# найдем среднее, разделив общее количество недоставленных заказов по разным статусам на количество исследуемых месяцев\n",
    "# округлим результат среднего до двух знаков после запятой\n",
    "mean_by_status['mean_by_status'] = round(mean_by_status.quantity / orders_without_deliver.year_month.nunique(), 2)"
   ]
  },
  {
   "cell_type": "code",
   "execution_count": 23,
   "metadata": {},
   "outputs": [],
   "source": [
    "# колонка с количеством недоставленных товаров нам больше не нужна, так как нам необходимо найти только среднюю\n",
    "# поэтому удалим столбец quantity\n",
    "mean_by_status = mean_by_status.drop('quantity', axis=1)"
   ]
  },
  {
   "cell_type": "code",
   "execution_count": 24,
   "metadata": {},
   "outputs": [
    {
     "data": {
      "text/html": [
       "<div>\n",
       "<style scoped>\n",
       "    .dataframe tbody tr th:only-of-type {\n",
       "        vertical-align: middle;\n",
       "    }\n",
       "\n",
       "    .dataframe tbody tr th {\n",
       "        vertical-align: top;\n",
       "    }\n",
       "\n",
       "    .dataframe thead th {\n",
       "        text-align: right;\n",
       "    }\n",
       "</style>\n",
       "<table border=\"1\" class=\"dataframe\">\n",
       "  <thead>\n",
       "    <tr style=\"text-align: right;\">\n",
       "      <th></th>\n",
       "      <th>order_status</th>\n",
       "      <th>mean_by_status</th>\n",
       "    </tr>\n",
       "  </thead>\n",
       "  <tbody>\n",
       "    <tr>\n",
       "      <th>0</th>\n",
       "      <td>shipped</td>\n",
       "      <td>46.12</td>\n",
       "    </tr>\n",
       "    <tr>\n",
       "      <th>1</th>\n",
       "      <td>canceled</td>\n",
       "      <td>25.79</td>\n",
       "    </tr>\n",
       "    <tr>\n",
       "      <th>2</th>\n",
       "      <td>unavailable</td>\n",
       "      <td>25.38</td>\n",
       "    </tr>\n",
       "    <tr>\n",
       "      <th>3</th>\n",
       "      <td>invoiced</td>\n",
       "      <td>13.08</td>\n",
       "    </tr>\n",
       "    <tr>\n",
       "      <th>4</th>\n",
       "      <td>processing</td>\n",
       "      <td>12.54</td>\n",
       "    </tr>\n",
       "    <tr>\n",
       "      <th>5</th>\n",
       "      <td>created</td>\n",
       "      <td>0.21</td>\n",
       "    </tr>\n",
       "    <tr>\n",
       "      <th>6</th>\n",
       "      <td>approved</td>\n",
       "      <td>0.08</td>\n",
       "    </tr>\n",
       "  </tbody>\n",
       "</table>\n",
       "</div>"
      ],
      "text/plain": [
       "  order_status  mean_by_status\n",
       "0      shipped           46.12\n",
       "1     canceled           25.79\n",
       "2  unavailable           25.38\n",
       "3     invoiced           13.08\n",
       "4   processing           12.54\n",
       "5      created            0.21\n",
       "6     approved            0.08"
      ]
     },
     "execution_count": 24,
     "metadata": {},
     "output_type": "execute_result"
    }
   ],
   "source": [
    "# так мы получили таблицу с детализацией причин заказов по месяцам, которые в среднем не доставляются по разным причинам\n",
    "mean_by_status"
   ]
  },
  {
   "cell_type": "code",
   "execution_count": 25,
   "metadata": {
    "scrolled": true
   },
   "outputs": [
    {
     "data": {
      "image/png": "[encoded data removed]",
      "text/plain": [
       "<Figure size 432x288 with 1 Axes>"
      ]
     },
     "metadata": {},
     "output_type": "display_data"
    }
   ],
   "source": [
    "# нарисуем график, где покажем различия в недоставленных товарах по разным причинам\n",
    "# больше всего недоставленных товаров по причине того, что они отгружены со склада(shipped)\n",
    "sns.barplot(data=mean_by_status, x='order_status', y='mean_by_status')\n",
    "plt.title('Недоставленные товары по разным причинам')\n",
    "plt.xlabel('Статус заказа')\n",
    "plt.ylabel('Среднее количество в месяц')\n",
    "plt.xticks(rotation=45);"
   ]
  },
  {
   "cell_type": "markdown",
   "metadata": {},
   "source": [
    "В итоге можно сделать вывод, что 123 заказа в месяц в среднем не доставляется по разным причинам. Из них больше всего недоставленных товаров по причине того, что они отгружены со склада(shipped)."
   ]
  },
  {
   "cell_type": "markdown",
   "metadata": {},
   "source": [
    "# По каждому товару определить, в какой день недели товар чаще всего покупается."
   ]
  },
  {
   "cell_type": "markdown",
   "metadata": {},
   "source": [
    "Необходимо найти то, в какой день недели товар чаще всего покупается. Значит, смотреть надо со стороны компании, когда товар был продан. Таким образом, товар будет считаться проданным, когда покупатель заплатил за него деньги. Следовательно, день недели продажи будет определяться по дате оплаты(колонка order_approved_at). Именно в этот момент единица товара становится недоступна для других, так как одну единицу товара два раза продать не получится. \n",
    "\n",
    "Интересовать будут все заказы, кроме заказов со статусом unavailable(так как они недоступны) и created(заказ только создается). Остальные нам подходят, если есть фактический день оплаты, даже если не были доставлены. Так как на какой-то момент времени они все же были проданы, хоть и застряли в каком-нибудь статусе и дальнейшего движения не было. Например, даже если пользователь в итоге отказался (статус canceled) от товара, то он все же был продан в какой-то день. И для статистики по дням недели нам эти данные подойдут."
   ]
  },
  {
   "cell_type": "code",
   "execution_count": 26,
   "metadata": {},
   "outputs": [],
   "source": [
    "# объединим 2 таблицы, order_items_df и orders_df\n",
    "# возьмем только несколько столбцов, чтобы их не было много и было удобнее\n",
    "# из таблицы order_items_df возьмем номер заказа и уникальный идентефикатор товара\n",
    "# из таблицы orders_df возьмем номер заказа, статус и дату оплаты\n",
    "# по умолчанию в merge тип объединения inner\n",
    "product_by_day = pd.merge(order_items_df[['order_id', 'product_id']],\n",
    "                       orders_df[['order_id', 'order_status', 'order_approved_at']],\n",
    "                       on='order_id')"
   ]
  },
  {
   "cell_type": "code",
   "execution_count": 27,
   "metadata": {},
   "outputs": [],
   "source": [
    "# перезапишем данные, отфильтруя статусы, которые нам не подходят, так как не считаются покупкой\n",
    "product_by_day = product_by_day.query('order_status != \"created\" & order_status != \"unavailable\"')"
   ]
  },
  {
   "cell_type": "code",
   "execution_count": 28,
   "metadata": {},
   "outputs": [
    {
     "data": {
      "text/plain": [
       "order_id              0\n",
       "product_id            0\n",
       "order_status          0\n",
       "order_approved_at    15\n",
       "dtype: int64"
      ]
     },
     "execution_count": 28,
     "metadata": {},
     "output_type": "execute_result"
    }
   ],
   "source": [
    "# сначала проверим, во всех ли заказах есть дата оплаты\n",
    "product_by_day.isna().sum()"
   ]
  },
  {
   "cell_type": "code",
   "execution_count": 29,
   "metadata": {},
   "outputs": [
    {
     "data": {
      "text/plain": [
       "delivered    15\n",
       "Name: order_status, dtype: int64"
      ]
     },
     "execution_count": 29,
     "metadata": {},
     "output_type": "execute_result"
    }
   ],
   "source": [
    "# найдем эти 15 заказов без даты оплаты и посмотрим их статус\n",
    "product_by_day[product_by_day.order_approved_at.isna()].order_status.value_counts()"
   ]
  },
  {
   "cell_type": "code",
   "execution_count": 30,
   "metadata": {},
   "outputs": [
    {
     "data": {
      "text/plain": [
       "112643"
      ]
     },
     "execution_count": 30,
     "metadata": {},
     "output_type": "execute_result"
    }
   ],
   "source": [
    "# нам необходимо удалить эти данные без даты оплаты, так как мы не сможем определить, в какой день недели поступила оплата\n",
    "# для начала посмотрим, сколько всего строк было изначально, чтобы проверить, были ли удалены эти 15 строк\n",
    "product_by_day.shape[0]"
   ]
  },
  {
   "cell_type": "code",
   "execution_count": 31,
   "metadata": {},
   "outputs": [],
   "source": [
    "# удаляем строки без дат оплаты, используя dropna и параметр subset, чтобы удалил только по этой колонке\n",
    "product_by_day = product_by_day.dropna(subset=['order_approved_at'])"
   ]
  },
  {
   "cell_type": "code",
   "execution_count": 32,
   "metadata": {},
   "outputs": [
    {
     "data": {
      "text/plain": [
       "112628"
      ]
     },
     "execution_count": 32,
     "metadata": {},
     "output_type": "execute_result"
    }
   ],
   "source": [
    "# можем убедиться, что сделали все правильно и 15 строк были удалены\n",
    "product_by_day.shape[0]"
   ]
  },
  {
   "cell_type": "code",
   "execution_count": 33,
   "metadata": {},
   "outputs": [],
   "source": [
    "# создадим новую колонку и запишем в нее название дня недели, когда была совершена покупка\n",
    "product_by_day['name_of_day'] = product_by_day.order_approved_at.dt.day_name()"
   ]
  },
  {
   "cell_type": "code",
   "execution_count": 34,
   "metadata": {},
   "outputs": [],
   "source": [
    "# в переменную сохраним таблицу о том, в какой день недели товар чаще всего покупается\n",
    "# в начале сгруппировали по айди товара и дням недели, посчитали количество купленных товаров по дням\n",
    "# отсортировали в порядке убывания, тем самым выше будет находится самый часто покупаемый товар\n",
    "# далее воспользуемся drop_duplicates с параметром subset='product_id', удалим повторяющиеся значения по колонке product_id\n",
    "# так как первым вхождением будет день недели, в котором больше всего раз товар был куплен\n",
    "# остальные повторы по айди товара удалятся, которые с меньшими покупками, чем первое вхождение\n",
    "# и в конце удалим столбец с количеством заказов, так как мы ищем только дни недели, когда чаще всего покупался товар\n",
    "product_by_day = product_by_day \\\n",
    "        .groupby(['product_id', 'name_of_day'], as_index=False) \\\n",
    "        .agg({'order_id': 'count'}) \\\n",
    "        .sort_values('order_id', ascending=False) \\\n",
    "        .drop_duplicates(subset='product_id') \\\n",
    "        .drop('order_id', axis=1)"
   ]
  },
  {
   "cell_type": "code",
   "execution_count": 35,
   "metadata": {},
   "outputs": [
    {
     "data": {
      "text/html": [
       "<div>\n",
       "<style scoped>\n",
       "    .dataframe tbody tr th:only-of-type {\n",
       "        vertical-align: middle;\n",
       "    }\n",
       "\n",
       "    .dataframe tbody tr th {\n",
       "        vertical-align: top;\n",
       "    }\n",
       "\n",
       "    .dataframe thead th {\n",
       "        text-align: right;\n",
       "    }\n",
       "</style>\n",
       "<table border=\"1\" class=\"dataframe\">\n",
       "  <thead>\n",
       "    <tr style=\"text-align: right;\">\n",
       "      <th></th>\n",
       "      <th>product_id</th>\n",
       "      <th>name_of_day</th>\n",
       "    </tr>\n",
       "  </thead>\n",
       "  <tbody>\n",
       "    <tr>\n",
       "      <th>41078</th>\n",
       "      <td>aca2eb7d00ea1a7b8ebd4e68314663af</td>\n",
       "      <td>Tuesday</td>\n",
       "    </tr>\n",
       "    <tr>\n",
       "      <th>20150</th>\n",
       "      <td>53b36df67ebb7c41585e8d54d6772e08</td>\n",
       "      <td>Tuesday</td>\n",
       "    </tr>\n",
       "    <tr>\n",
       "      <th>15931</th>\n",
       "      <td>422879e10f46682990de24d770e7f83d</td>\n",
       "      <td>Tuesday</td>\n",
       "    </tr>\n",
       "    <tr>\n",
       "      <th>36571</th>\n",
       "      <td>99a4788cb24856965c36a24e339b6058</td>\n",
       "      <td>Tuesday</td>\n",
       "    </tr>\n",
       "    <tr>\n",
       "      <th>13058</th>\n",
       "      <td>368c6c730842d78016ad823897a372db</td>\n",
       "      <td>Thursday</td>\n",
       "    </tr>\n",
       "    <tr>\n",
       "      <th>...</th>\n",
       "      <td>...</td>\n",
       "      <td>...</td>\n",
       "    </tr>\n",
       "    <tr>\n",
       "      <th>23974</th>\n",
       "      <td>63dfa8b12200610ed7b5e41d3c888a25</td>\n",
       "      <td>Saturday</td>\n",
       "    </tr>\n",
       "    <tr>\n",
       "      <th>23978</th>\n",
       "      <td>63e51e65ec59b56039c6427eed73dcf0</td>\n",
       "      <td>Tuesday</td>\n",
       "    </tr>\n",
       "    <tr>\n",
       "      <th>23979</th>\n",
       "      <td>63eb97106bfe47fe857edcf78f3e3e08</td>\n",
       "      <td>Saturday</td>\n",
       "    </tr>\n",
       "    <tr>\n",
       "      <th>23989</th>\n",
       "      <td>63f52009dc3ddb733394e80183aed0f0</td>\n",
       "      <td>Saturday</td>\n",
       "    </tr>\n",
       "    <tr>\n",
       "      <th>61136</th>\n",
       "      <td>fffe9eeff12fcbd74a2f2b007dde0c58</td>\n",
       "      <td>Wednesday</td>\n",
       "    </tr>\n",
       "  </tbody>\n",
       "</table>\n",
       "<p>32942 rows × 2 columns</p>\n",
       "</div>"
      ],
      "text/plain": [
       "                             product_id name_of_day\n",
       "41078  aca2eb7d00ea1a7b8ebd4e68314663af     Tuesday\n",
       "20150  53b36df67ebb7c41585e8d54d6772e08     Tuesday\n",
       "15931  422879e10f46682990de24d770e7f83d     Tuesday\n",
       "36571  99a4788cb24856965c36a24e339b6058     Tuesday\n",
       "13058  368c6c730842d78016ad823897a372db    Thursday\n",
       "...                                 ...         ...\n",
       "23974  63dfa8b12200610ed7b5e41d3c888a25    Saturday\n",
       "23978  63e51e65ec59b56039c6427eed73dcf0     Tuesday\n",
       "23979  63eb97106bfe47fe857edcf78f3e3e08    Saturday\n",
       "23989  63f52009dc3ddb733394e80183aed0f0    Saturday\n",
       "61136  fffe9eeff12fcbd74a2f2b007dde0c58   Wednesday\n",
       "\n",
       "[32942 rows x 2 columns]"
      ]
     },
     "execution_count": 35,
     "metadata": {},
     "output_type": "execute_result"
    }
   ],
   "source": [
    "# полученна таблица, в которой хранится информация о том, в какой день недели товар чаще всего покупается\n",
    "product_by_day"
   ]
  },
  {
   "cell_type": "code",
   "execution_count": 60,
   "metadata": {},
   "outputs": [
    {
     "data": {
      "text/plain": [
       "Tuesday      6109\n",
       "Friday       5667\n",
       "Thursday     4943\n",
       "Monday       4710\n",
       "Wednesday    4630\n",
       "Saturday     4088\n",
       "Sunday       2795\n",
       "Name: name_of_day, dtype: int64"
      ]
     },
     "execution_count": 60,
     "metadata": {},
     "output_type": "execute_result"
    }
   ],
   "source": [
    "# теперь выясним, сколько товаров с максимальной продажей по дням недели\n",
    "product_by_day.name_of_day.value_counts()"
   ]
  },
  {
   "cell_type": "code",
   "execution_count": 36,
   "metadata": {},
   "outputs": [
    {
     "data": {
      "image/png": "[encoded data removed]",
      "text/plain": [
       "<Figure size 432x288 with 1 Axes>"
      ]
     },
     "metadata": {},
     "output_type": "display_data"
    }
   ],
   "source": [
    "# а теперь нарисуем график и посмотрим, в какие дни недели продается максимальное количество одного товара\n",
    "# отсортируем график так, чтобы слева был день недели когда больше всего было продано различных товаров\n",
    "# можно заметить, что во вторник(Tuesday) больше всего продается различное количество товаров с максимальными продажами\n",
    "sns.countplot(data=product_by_day, x='name_of_day', order=product_by_day['name_of_day'].value_counts().index)\n",
    "plt.title('День недели, когда товар чаще всего покупается')\n",
    "plt.xlabel('Дни недели')\n",
    "plt.ylabel('Количество товаров')\n",
    "plt.xticks(rotation=45);"
   ]
  },
  {
   "cell_type": "markdown",
   "metadata": {},
   "source": [
    "В итоге можно сделать вывод, что вторник(Tuesday) является днем недели, когда происходит больше всего максимальных продаж по разным товарам. 6109 товаров с максимальной продажей во вторник."
   ]
  },
  {
   "cell_type": "markdown",
   "metadata": {},
   "source": [
    "# Сколько у каждого из пользователей в среднем покупок в неделю (по месяцам)? "
   ]
  },
  {
   "cell_type": "markdown",
   "metadata": {},
   "source": [
    "Необходимо найти среднее число покупок по пользователям в неделю и по месяцам. Покупка совершается тогда, когда есть факт оплаты и происходит передача прав собственности. При доставке право собственности переходит в момент вручения товара покупателю или указанному им лицу. Следовательно, определять день недели, когда свершился факт покупки, будем по времени даставки заказа клиенту, которое находится в колонке order_delivered_customer_date. Таким образом, нам подойдут заказы только со статусом delivered, так как они фактически оплачены и доставлены. \n",
    "\n",
    "В данных есть заказы(14 штук) со статусом delivered(доставлен), но нет даты оплаты. Будем считать, что это ошибка в данных и дата просто не загрузилась. Так как заказы были доставлены пользователю(есть дата доставки), оставим эти данные и не будем их удалять.\n",
    "\n",
    "Так же в заказах со статусом delivered есть заказы(8 штук), у которых нет даты доставки. Это тоже ошибка в данных, но такие заказы мы не можем учитывать, так как не знаем день доставки до пользователя(в каком месяце или на какой неделе был)."
   ]
  },
  {
   "cell_type": "markdown",
   "metadata": {},
   "source": [
    "посчитаем количество купленных товаров по каждому чеку"
   ]
  },
  {
   "cell_type": "code",
   "execution_count": 39,
   "metadata": {},
   "outputs": [
    {
     "data": {
      "text/html": [
       "<div>\n",
       "<style scoped>\n",
       "    .dataframe tbody tr th:only-of-type {\n",
       "        vertical-align: middle;\n",
       "    }\n",
       "\n",
       "    .dataframe tbody tr th {\n",
       "        vertical-align: top;\n",
       "    }\n",
       "\n",
       "    .dataframe thead th {\n",
       "        text-align: right;\n",
       "    }\n",
       "</style>\n",
       "<table border=\"1\" class=\"dataframe\">\n",
       "  <thead>\n",
       "    <tr style=\"text-align: right;\">\n",
       "      <th></th>\n",
       "      <th>order_id</th>\n",
       "      <th>quantity</th>\n",
       "    </tr>\n",
       "  </thead>\n",
       "  <tbody>\n",
       "    <tr>\n",
       "      <th>0</th>\n",
       "      <td>00010242fe8c5a6d1ba2dd792cb16214</td>\n",
       "      <td>1</td>\n",
       "    </tr>\n",
       "    <tr>\n",
       "      <th>1</th>\n",
       "      <td>00018f77f2f0320c557190d7a144bdd3</td>\n",
       "      <td>1</td>\n",
       "    </tr>\n",
       "    <tr>\n",
       "      <th>2</th>\n",
       "      <td>000229ec398224ef6ca0657da4fc703e</td>\n",
       "      <td>1</td>\n",
       "    </tr>\n",
       "    <tr>\n",
       "      <th>3</th>\n",
       "      <td>00024acbcdf0a6daa1e931b038114c75</td>\n",
       "      <td>1</td>\n",
       "    </tr>\n",
       "    <tr>\n",
       "      <th>4</th>\n",
       "      <td>00042b26cf59d7ce69dfabb4e55b4fd9</td>\n",
       "      <td>1</td>\n",
       "    </tr>\n",
       "    <tr>\n",
       "      <th>...</th>\n",
       "      <td>...</td>\n",
       "      <td>...</td>\n",
       "    </tr>\n",
       "    <tr>\n",
       "      <th>98661</th>\n",
       "      <td>fffc94f6ce00a00581880bf54a75a037</td>\n",
       "      <td>1</td>\n",
       "    </tr>\n",
       "    <tr>\n",
       "      <th>98662</th>\n",
       "      <td>fffcd46ef2263f404302a634eb57f7eb</td>\n",
       "      <td>1</td>\n",
       "    </tr>\n",
       "    <tr>\n",
       "      <th>98663</th>\n",
       "      <td>fffce4705a9662cd70adb13d4a31832d</td>\n",
       "      <td>1</td>\n",
       "    </tr>\n",
       "    <tr>\n",
       "      <th>98664</th>\n",
       "      <td>fffe18544ffabc95dfada21779c9644f</td>\n",
       "      <td>1</td>\n",
       "    </tr>\n",
       "    <tr>\n",
       "      <th>98665</th>\n",
       "      <td>fffe41c64501cc87c801fd61db3f6244</td>\n",
       "      <td>1</td>\n",
       "    </tr>\n",
       "  </tbody>\n",
       "</table>\n",
       "<p>98666 rows × 2 columns</p>\n",
       "</div>"
      ],
      "text/plain": [
       "                               order_id  quantity\n",
       "0      00010242fe8c5a6d1ba2dd792cb16214         1\n",
       "1      00018f77f2f0320c557190d7a144bdd3         1\n",
       "2      000229ec398224ef6ca0657da4fc703e         1\n",
       "3      00024acbcdf0a6daa1e931b038114c75         1\n",
       "4      00042b26cf59d7ce69dfabb4e55b4fd9         1\n",
       "...                                 ...       ...\n",
       "98661  fffc94f6ce00a00581880bf54a75a037         1\n",
       "98662  fffcd46ef2263f404302a634eb57f7eb         1\n",
       "98663  fffce4705a9662cd70adb13d4a31832d         1\n",
       "98664  fffe18544ffabc95dfada21779c9644f         1\n",
       "98665  fffe41c64501cc87c801fd61db3f6244         1\n",
       "\n",
       "[98666 rows x 2 columns]"
      ]
     },
     "execution_count": 39,
     "metadata": {},
     "output_type": "execute_result"
    }
   ],
   "source": [
    "# нужна информация по купленным товарам, данные по чекам находятся в таблице order_items_df\n",
    "# сгруппируем по чекам, посчитаем количество купленных товаров\n",
    "purchases_in_orders = order_items_df \\\n",
    "                            .groupby('order_id', as_index=False) \\\n",
    "                            .agg({'product_id': 'count'}) \\\n",
    "                            .rename(columns={'product_id': 'quantity'})\n",
    "purchases_in_orders"
   ]
  },
  {
   "cell_type": "markdown",
   "metadata": {},
   "source": [
    "Далее нам необходимо объеденить несколько таблиц, так как надо связать чеки с пользователями. В начале объединим полученную таблицу orders_with_one_purchase по номеру чека с таблицей orders_df, в которой находятся данные по позаказному идентификатору пользователя. Далее, по этому позаказному идентификатору пользователя свяжем объединенную таблицу с customers_df. Тем самым получим таблицу, где каждому пользователю будет соотносится сделанный заказ."
   ]
  },
  {
   "cell_type": "code",
   "execution_count": 40,
   "metadata": {},
   "outputs": [
    {
     "data": {
      "text/html": [
       "<div>\n",
       "<style scoped>\n",
       "    .dataframe tbody tr th:only-of-type {\n",
       "        vertical-align: middle;\n",
       "    }\n",
       "\n",
       "    .dataframe tbody tr th {\n",
       "        vertical-align: top;\n",
       "    }\n",
       "\n",
       "    .dataframe thead th {\n",
       "        text-align: right;\n",
       "    }\n",
       "</style>\n",
       "<table border=\"1\" class=\"dataframe\">\n",
       "  <thead>\n",
       "    <tr style=\"text-align: right;\">\n",
       "      <th></th>\n",
       "      <th>order_id</th>\n",
       "      <th>quantity</th>\n",
       "      <th>customer_id</th>\n",
       "      <th>order_status</th>\n",
       "      <th>order_delivered_customer_date</th>\n",
       "    </tr>\n",
       "  </thead>\n",
       "  <tbody>\n",
       "    <tr>\n",
       "      <th>0</th>\n",
       "      <td>00010242fe8c5a6d1ba2dd792cb16214</td>\n",
       "      <td>1</td>\n",
       "      <td>3ce436f183e68e07877b285a838db11a</td>\n",
       "      <td>delivered</td>\n",
       "      <td>2017-09-20 23:43:48</td>\n",
       "    </tr>\n",
       "    <tr>\n",
       "      <th>1</th>\n",
       "      <td>00018f77f2f0320c557190d7a144bdd3</td>\n",
       "      <td>1</td>\n",
       "      <td>f6dd3ec061db4e3987629fe6b26e5cce</td>\n",
       "      <td>delivered</td>\n",
       "      <td>2017-05-12 16:04:24</td>\n",
       "    </tr>\n",
       "    <tr>\n",
       "      <th>2</th>\n",
       "      <td>000229ec398224ef6ca0657da4fc703e</td>\n",
       "      <td>1</td>\n",
       "      <td>6489ae5e4333f3693df5ad4372dab6d3</td>\n",
       "      <td>delivered</td>\n",
       "      <td>2018-01-22 13:19:16</td>\n",
       "    </tr>\n",
       "    <tr>\n",
       "      <th>3</th>\n",
       "      <td>00024acbcdf0a6daa1e931b038114c75</td>\n",
       "      <td>1</td>\n",
       "      <td>d4eb9395c8c0431ee92fce09860c5a06</td>\n",
       "      <td>delivered</td>\n",
       "      <td>2018-08-14 13:32:39</td>\n",
       "    </tr>\n",
       "    <tr>\n",
       "      <th>4</th>\n",
       "      <td>00042b26cf59d7ce69dfabb4e55b4fd9</td>\n",
       "      <td>1</td>\n",
       "      <td>58dbd0b2d70206bf40e62cd34e84d795</td>\n",
       "      <td>delivered</td>\n",
       "      <td>2017-03-01 16:42:31</td>\n",
       "    </tr>\n",
       "    <tr>\n",
       "      <th>...</th>\n",
       "      <td>...</td>\n",
       "      <td>...</td>\n",
       "      <td>...</td>\n",
       "      <td>...</td>\n",
       "      <td>...</td>\n",
       "    </tr>\n",
       "    <tr>\n",
       "      <th>98661</th>\n",
       "      <td>fffc94f6ce00a00581880bf54a75a037</td>\n",
       "      <td>1</td>\n",
       "      <td>b51593916b4b8e0d6f66f2ae24f2673d</td>\n",
       "      <td>delivered</td>\n",
       "      <td>2018-05-10 22:56:40</td>\n",
       "    </tr>\n",
       "    <tr>\n",
       "      <th>98662</th>\n",
       "      <td>fffcd46ef2263f404302a634eb57f7eb</td>\n",
       "      <td>1</td>\n",
       "      <td>84c5d4fbaf120aae381fad077416eaa0</td>\n",
       "      <td>delivered</td>\n",
       "      <td>2018-07-23 20:31:55</td>\n",
       "    </tr>\n",
       "    <tr>\n",
       "      <th>98663</th>\n",
       "      <td>fffce4705a9662cd70adb13d4a31832d</td>\n",
       "      <td>1</td>\n",
       "      <td>29309aa813182aaddc9b259e31b870e6</td>\n",
       "      <td>delivered</td>\n",
       "      <td>2017-10-28 12:22:22</td>\n",
       "    </tr>\n",
       "    <tr>\n",
       "      <th>98664</th>\n",
       "      <td>fffe18544ffabc95dfada21779c9644f</td>\n",
       "      <td>1</td>\n",
       "      <td>b5e6afd5a41800fdf401e0272ca74655</td>\n",
       "      <td>delivered</td>\n",
       "      <td>2017-08-16 21:59:40</td>\n",
       "    </tr>\n",
       "    <tr>\n",
       "      <th>98665</th>\n",
       "      <td>fffe41c64501cc87c801fd61db3f6244</td>\n",
       "      <td>1</td>\n",
       "      <td>96d649da0cc4ff33bb408b199d4c7dcf</td>\n",
       "      <td>delivered</td>\n",
       "      <td>2018-06-14 17:56:26</td>\n",
       "    </tr>\n",
       "  </tbody>\n",
       "</table>\n",
       "<p>98666 rows × 5 columns</p>\n",
       "</div>"
      ],
      "text/plain": [
       "                               order_id  quantity  \\\n",
       "0      00010242fe8c5a6d1ba2dd792cb16214         1   \n",
       "1      00018f77f2f0320c557190d7a144bdd3         1   \n",
       "2      000229ec398224ef6ca0657da4fc703e         1   \n",
       "3      00024acbcdf0a6daa1e931b038114c75         1   \n",
       "4      00042b26cf59d7ce69dfabb4e55b4fd9         1   \n",
       "...                                 ...       ...   \n",
       "98661  fffc94f6ce00a00581880bf54a75a037         1   \n",
       "98662  fffcd46ef2263f404302a634eb57f7eb         1   \n",
       "98663  fffce4705a9662cd70adb13d4a31832d         1   \n",
       "98664  fffe18544ffabc95dfada21779c9644f         1   \n",
       "98665  fffe41c64501cc87c801fd61db3f6244         1   \n",
       "\n",
       "                            customer_id order_status  \\\n",
       "0      3ce436f183e68e07877b285a838db11a    delivered   \n",
       "1      f6dd3ec061db4e3987629fe6b26e5cce    delivered   \n",
       "2      6489ae5e4333f3693df5ad4372dab6d3    delivered   \n",
       "3      d4eb9395c8c0431ee92fce09860c5a06    delivered   \n",
       "4      58dbd0b2d70206bf40e62cd34e84d795    delivered   \n",
       "...                                 ...          ...   \n",
       "98661  b51593916b4b8e0d6f66f2ae24f2673d    delivered   \n",
       "98662  84c5d4fbaf120aae381fad077416eaa0    delivered   \n",
       "98663  29309aa813182aaddc9b259e31b870e6    delivered   \n",
       "98664  b5e6afd5a41800fdf401e0272ca74655    delivered   \n",
       "98665  96d649da0cc4ff33bb408b199d4c7dcf    delivered   \n",
       "\n",
       "      order_delivered_customer_date  \n",
       "0               2017-09-20 23:43:48  \n",
       "1               2017-05-12 16:04:24  \n",
       "2               2018-01-22 13:19:16  \n",
       "3               2018-08-14 13:32:39  \n",
       "4               2017-03-01 16:42:31  \n",
       "...                             ...  \n",
       "98661           2018-05-10 22:56:40  \n",
       "98662           2018-07-23 20:31:55  \n",
       "98663           2017-10-28 12:22:22  \n",
       "98664           2017-08-16 21:59:40  \n",
       "98665           2018-06-14 17:56:26  \n",
       "\n",
       "[98666 rows x 5 columns]"
      ]
     },
     "execution_count": 40,
     "metadata": {},
     "output_type": "execute_result"
    }
   ],
   "source": [
    "# объединим таблицы purchases_in_orders и orders_df, используя только нужные столбцы\n",
    "# из таблицы orders_df возьмем номер заказа, позаказный номер, статус и дату доставки\n",
    "# по умолчанию в merge тип объединения inner\n",
    "purchases_in_orders = pd.merge(purchases_in_orders,\n",
    "                              orders_df[['order_id', 'customer_id', 'order_status', 'order_delivered_customer_date']],\n",
    "                              on='order_id')\n",
    "purchases_in_orders"
   ]
  },
  {
   "cell_type": "code",
   "execution_count": 41,
   "metadata": {},
   "outputs": [],
   "source": [
    "# зная, что необходимые данные нужны только со статусом delivered, отфильтруем полученную таблицу\n",
    "purchases_in_orders = purchases_in_orders.query('order_status == \"delivered\"')"
   ]
  },
  {
   "cell_type": "code",
   "execution_count": 42,
   "metadata": {},
   "outputs": [
    {
     "data": {
      "text/plain": [
       "array(['delivered'], dtype=object)"
      ]
     },
     "execution_count": 42,
     "metadata": {},
     "output_type": "execute_result"
    }
   ],
   "source": [
    "# проверим как получилось, посмотрим какие статусы остались\n",
    "purchases_in_orders.order_status.unique()"
   ]
  },
  {
   "cell_type": "code",
   "execution_count": 43,
   "metadata": {},
   "outputs": [
    {
     "data": {
      "text/plain": [
       "(96478, 5)"
      ]
     },
     "execution_count": 43,
     "metadata": {},
     "output_type": "execute_result"
    }
   ],
   "source": [
    "# мы знаем, что у нас есть заказы без даты доставки, таких 8\n",
    "# так как в них мы не сможем определить, в какой день была совершена покупка\n",
    "# то такие заказы следует удалить из таблицы\n",
    "# поэтому для проверки узнаем, сколько строк было с этими заказами, а после удаления должно стать на 8 меньше\n",
    "purchases_in_orders.shape"
   ]
  },
  {
   "cell_type": "code",
   "execution_count": 44,
   "metadata": {},
   "outputs": [
    {
     "data": {
      "text/plain": [
       "(96470, 5)"
      ]
     },
     "execution_count": 44,
     "metadata": {},
     "output_type": "execute_result"
    }
   ],
   "source": [
    "# удаляем строки без даты доставки\n",
    "# и смотрим на колчество оставшихся строк, стало на 8 меньше\n",
    "purchases_in_orders = purchases_in_orders.dropna(subset=['order_delivered_customer_date'])\n",
    "purchases_in_orders.shape"
   ]
  },
  {
   "cell_type": "code",
   "execution_count": 45,
   "metadata": {},
   "outputs": [
    {
     "data": {
      "text/html": [
       "<div>\n",
       "<style scoped>\n",
       "    .dataframe tbody tr th:only-of-type {\n",
       "        vertical-align: middle;\n",
       "    }\n",
       "\n",
       "    .dataframe tbody tr th {\n",
       "        vertical-align: top;\n",
       "    }\n",
       "\n",
       "    .dataframe thead th {\n",
       "        text-align: right;\n",
       "    }\n",
       "</style>\n",
       "<table border=\"1\" class=\"dataframe\">\n",
       "  <thead>\n",
       "    <tr style=\"text-align: right;\">\n",
       "      <th></th>\n",
       "      <th>order_id</th>\n",
       "      <th>quantity</th>\n",
       "      <th>customer_id</th>\n",
       "      <th>order_delivered_customer_date</th>\n",
       "      <th>customer_unique_id</th>\n",
       "    </tr>\n",
       "  </thead>\n",
       "  <tbody>\n",
       "    <tr>\n",
       "      <th>0</th>\n",
       "      <td>00010242fe8c5a6d1ba2dd792cb16214</td>\n",
       "      <td>1</td>\n",
       "      <td>3ce436f183e68e07877b285a838db11a</td>\n",
       "      <td>2017-09-20 23:43:48</td>\n",
       "      <td>871766c5855e863f6eccc05f988b23cb</td>\n",
       "    </tr>\n",
       "    <tr>\n",
       "      <th>1</th>\n",
       "      <td>00018f77f2f0320c557190d7a144bdd3</td>\n",
       "      <td>1</td>\n",
       "      <td>f6dd3ec061db4e3987629fe6b26e5cce</td>\n",
       "      <td>2017-05-12 16:04:24</td>\n",
       "      <td>eb28e67c4c0b83846050ddfb8a35d051</td>\n",
       "    </tr>\n",
       "    <tr>\n",
       "      <th>2</th>\n",
       "      <td>000229ec398224ef6ca0657da4fc703e</td>\n",
       "      <td>1</td>\n",
       "      <td>6489ae5e4333f3693df5ad4372dab6d3</td>\n",
       "      <td>2018-01-22 13:19:16</td>\n",
       "      <td>3818d81c6709e39d06b2738a8d3a2474</td>\n",
       "    </tr>\n",
       "    <tr>\n",
       "      <th>3</th>\n",
       "      <td>00024acbcdf0a6daa1e931b038114c75</td>\n",
       "      <td>1</td>\n",
       "      <td>d4eb9395c8c0431ee92fce09860c5a06</td>\n",
       "      <td>2018-08-14 13:32:39</td>\n",
       "      <td>af861d436cfc08b2c2ddefd0ba074622</td>\n",
       "    </tr>\n",
       "    <tr>\n",
       "      <th>4</th>\n",
       "      <td>00042b26cf59d7ce69dfabb4e55b4fd9</td>\n",
       "      <td>1</td>\n",
       "      <td>58dbd0b2d70206bf40e62cd34e84d795</td>\n",
       "      <td>2017-03-01 16:42:31</td>\n",
       "      <td>64b576fb70d441e8f1b2d7d446e483c5</td>\n",
       "    </tr>\n",
       "    <tr>\n",
       "      <th>...</th>\n",
       "      <td>...</td>\n",
       "      <td>...</td>\n",
       "      <td>...</td>\n",
       "      <td>...</td>\n",
       "      <td>...</td>\n",
       "    </tr>\n",
       "    <tr>\n",
       "      <th>96465</th>\n",
       "      <td>fffc94f6ce00a00581880bf54a75a037</td>\n",
       "      <td>1</td>\n",
       "      <td>b51593916b4b8e0d6f66f2ae24f2673d</td>\n",
       "      <td>2018-05-10 22:56:40</td>\n",
       "      <td>0c9aeda10a71f369396d0c04dce13a64</td>\n",
       "    </tr>\n",
       "    <tr>\n",
       "      <th>96466</th>\n",
       "      <td>fffcd46ef2263f404302a634eb57f7eb</td>\n",
       "      <td>1</td>\n",
       "      <td>84c5d4fbaf120aae381fad077416eaa0</td>\n",
       "      <td>2018-07-23 20:31:55</td>\n",
       "      <td>0da9fe112eae0c74d3ba1fe16de0988b</td>\n",
       "    </tr>\n",
       "    <tr>\n",
       "      <th>96467</th>\n",
       "      <td>fffce4705a9662cd70adb13d4a31832d</td>\n",
       "      <td>1</td>\n",
       "      <td>29309aa813182aaddc9b259e31b870e6</td>\n",
       "      <td>2017-10-28 12:22:22</td>\n",
       "      <td>cd79b407828f02fdbba457111c38e4c4</td>\n",
       "    </tr>\n",
       "    <tr>\n",
       "      <th>96468</th>\n",
       "      <td>fffe18544ffabc95dfada21779c9644f</td>\n",
       "      <td>1</td>\n",
       "      <td>b5e6afd5a41800fdf401e0272ca74655</td>\n",
       "      <td>2017-08-16 21:59:40</td>\n",
       "      <td>eb803377c9315b564bdedad672039306</td>\n",
       "    </tr>\n",
       "    <tr>\n",
       "      <th>96469</th>\n",
       "      <td>fffe41c64501cc87c801fd61db3f6244</td>\n",
       "      <td>1</td>\n",
       "      <td>96d649da0cc4ff33bb408b199d4c7dcf</td>\n",
       "      <td>2018-06-14 17:56:26</td>\n",
       "      <td>cd76a00d8e3ca5e6ab9ed9ecb6667ac4</td>\n",
       "    </tr>\n",
       "  </tbody>\n",
       "</table>\n",
       "<p>96470 rows × 5 columns</p>\n",
       "</div>"
      ],
      "text/plain": [
       "                               order_id  quantity  \\\n",
       "0      00010242fe8c5a6d1ba2dd792cb16214         1   \n",
       "1      00018f77f2f0320c557190d7a144bdd3         1   \n",
       "2      000229ec398224ef6ca0657da4fc703e         1   \n",
       "3      00024acbcdf0a6daa1e931b038114c75         1   \n",
       "4      00042b26cf59d7ce69dfabb4e55b4fd9         1   \n",
       "...                                 ...       ...   \n",
       "96465  fffc94f6ce00a00581880bf54a75a037         1   \n",
       "96466  fffcd46ef2263f404302a634eb57f7eb         1   \n",
       "96467  fffce4705a9662cd70adb13d4a31832d         1   \n",
       "96468  fffe18544ffabc95dfada21779c9644f         1   \n",
       "96469  fffe41c64501cc87c801fd61db3f6244         1   \n",
       "\n",
       "                            customer_id order_delivered_customer_date  \\\n",
       "0      3ce436f183e68e07877b285a838db11a           2017-09-20 23:43:48   \n",
       "1      f6dd3ec061db4e3987629fe6b26e5cce           2017-05-12 16:04:24   \n",
       "2      6489ae5e4333f3693df5ad4372dab6d3           2018-01-22 13:19:16   \n",
       "3      d4eb9395c8c0431ee92fce09860c5a06           2018-08-14 13:32:39   \n",
       "4      58dbd0b2d70206bf40e62cd34e84d795           2017-03-01 16:42:31   \n",
       "...                                 ...                           ...   \n",
       "96465  b51593916b4b8e0d6f66f2ae24f2673d           2018-05-10 22:56:40   \n",
       "96466  84c5d4fbaf120aae381fad077416eaa0           2018-07-23 20:31:55   \n",
       "96467  29309aa813182aaddc9b259e31b870e6           2017-10-28 12:22:22   \n",
       "96468  b5e6afd5a41800fdf401e0272ca74655           2017-08-16 21:59:40   \n",
       "96469  96d649da0cc4ff33bb408b199d4c7dcf           2018-06-14 17:56:26   \n",
       "\n",
       "                     customer_unique_id  \n",
       "0      871766c5855e863f6eccc05f988b23cb  \n",
       "1      eb28e67c4c0b83846050ddfb8a35d051  \n",
       "2      3818d81c6709e39d06b2738a8d3a2474  \n",
       "3      af861d436cfc08b2c2ddefd0ba074622  \n",
       "4      64b576fb70d441e8f1b2d7d446e483c5  \n",
       "...                                 ...  \n",
       "96465  0c9aeda10a71f369396d0c04dce13a64  \n",
       "96466  0da9fe112eae0c74d3ba1fe16de0988b  \n",
       "96467  cd79b407828f02fdbba457111c38e4c4  \n",
       "96468  eb803377c9315b564bdedad672039306  \n",
       "96469  cd76a00d8e3ca5e6ab9ed9ecb6667ac4  \n",
       "\n",
       "[96470 rows x 5 columns]"
      ]
     },
     "execution_count": 45,
     "metadata": {},
     "output_type": "execute_result"
    }
   ],
   "source": [
    "# теперь объединим purchases_in_orders с customers_df, чтобы соотнести уникальный номер пользователя\n",
    "# из таблицы purchases_in_orders нам не нужен столбец order_status, так как остался только один статус\n",
    "# из таблицы customers_df возьмем позаказный номер и уникальный номер пользователя\n",
    "# по умолчанию в merge тип объединения inner\n",
    "purchases_in_orders = pd.merge(purchases_in_orders[['order_id', 'quantity', 'customer_id', 'order_delivered_customer_date']],\n",
    "                              customers_df[['customer_id', 'customer_unique_id']],\n",
    "                              on='customer_id')\n",
    "purchases_in_orders"
   ]
  },
  {
   "cell_type": "code",
   "execution_count": 46,
   "metadata": {},
   "outputs": [],
   "source": [
    "# для того, чтобы выяснить, сколько в среднем в месяце пользователь совершает покупки\n",
    "# необходимо узнать, сколько всего прошло месяцев\n",
    "# сделаем таблицу с уникальными месяцами и узнаем количество дней в этих месяцах\n",
    "# чтобы потом найти количество недель в месяце, разделим количество дней на 7\n",
    "month_day = pd.DataFrame(purchases_in_orders.order_delivered_customer_date.dt.to_period('M').unique(), columns=['month_uniq'])"
   ]
  },
  {
   "cell_type": "code",
   "execution_count": 47,
   "metadata": {},
   "outputs": [],
   "source": [
    "# отсортируем по порядку дату\n",
    "month_day = month_day.sort_values('month_uniq')"
   ]
  },
  {
   "cell_type": "code",
   "execution_count": 48,
   "metadata": {},
   "outputs": [
    {
     "data": {
      "text/html": [
       "<div>\n",
       "<style scoped>\n",
       "    .dataframe tbody tr th:only-of-type {\n",
       "        vertical-align: middle;\n",
       "    }\n",
       "\n",
       "    .dataframe tbody tr th {\n",
       "        vertical-align: top;\n",
       "    }\n",
       "\n",
       "    .dataframe thead th {\n",
       "        text-align: right;\n",
       "    }\n",
       "</style>\n",
       "<table border=\"1\" class=\"dataframe\">\n",
       "  <thead>\n",
       "    <tr style=\"text-align: right;\">\n",
       "      <th></th>\n",
       "      <th>month_uniq</th>\n",
       "      <th>days_in_month</th>\n",
       "    </tr>\n",
       "  </thead>\n",
       "  <tbody>\n",
       "    <tr>\n",
       "      <th>21</th>\n",
       "      <td>2016-10</td>\n",
       "      <td>31</td>\n",
       "    </tr>\n",
       "    <tr>\n",
       "      <th>22</th>\n",
       "      <td>2016-11</td>\n",
       "      <td>30</td>\n",
       "    </tr>\n",
       "    <tr>\n",
       "      <th>23</th>\n",
       "      <td>2016-12</td>\n",
       "      <td>31</td>\n",
       "    </tr>\n",
       "    <tr>\n",
       "      <th>20</th>\n",
       "      <td>2017-01</td>\n",
       "      <td>31</td>\n",
       "    </tr>\n",
       "    <tr>\n",
       "      <th>16</th>\n",
       "      <td>2017-02</td>\n",
       "      <td>28</td>\n",
       "    </tr>\n",
       "  </tbody>\n",
       "</table>\n",
       "</div>"
      ],
      "text/plain": [
       "   month_uniq  days_in_month\n",
       "21    2016-10             31\n",
       "22    2016-11             30\n",
       "23    2016-12             31\n",
       "20    2017-01             31\n",
       "16    2017-02             28"
      ]
     },
     "execution_count": 48,
     "metadata": {},
     "output_type": "execute_result"
    }
   ],
   "source": [
    "# узнаем количество дней и запишем данные в новую колонку\n",
    "month_day['days_in_month'] = month_day.month_uniq.dt.days_in_month\n",
    "month_day.head()"
   ]
  },
  {
   "cell_type": "code",
   "execution_count": 49,
   "metadata": {
    "collapsed": true
   },
   "outputs": [
    {
     "name": "stderr",
     "output_type": "stream",
     "text": [
      "/opt/tljh/user/lib/python3.7/site-packages/pandas/core/generic.py:5165: SettingWithCopyWarning: \n",
      "A value is trying to be set on a copy of a slice from a DataFrame.\n",
      "Try using .loc[row_indexer,col_indexer] = value instead\n",
      "\n",
      "See the caveats in the documentation: https://pandas.pydata.org/pandas-docs/stable/user_guide/indexing.html#returning-a-view-versus-a-copy\n",
      "  self[name] = value\n"
     ]
    },
    {
     "data": {
      "text/html": [
       "<div>\n",
       "<style scoped>\n",
       "    .dataframe tbody tr th:only-of-type {\n",
       "        vertical-align: middle;\n",
       "    }\n",
       "\n",
       "    .dataframe tbody tr th {\n",
       "        vertical-align: top;\n",
       "    }\n",
       "\n",
       "    .dataframe thead th {\n",
       "        text-align: right;\n",
       "    }\n",
       "</style>\n",
       "<table border=\"1\" class=\"dataframe\">\n",
       "  <thead>\n",
       "    <tr style=\"text-align: right;\">\n",
       "      <th></th>\n",
       "      <th>month_uniq</th>\n",
       "      <th>days_in_month</th>\n",
       "    </tr>\n",
       "  </thead>\n",
       "  <tbody>\n",
       "    <tr>\n",
       "      <th>21</th>\n",
       "      <td>2016-10</td>\n",
       "      <td>20</td>\n",
       "    </tr>\n",
       "    <tr>\n",
       "      <th>22</th>\n",
       "      <td>2016-11</td>\n",
       "      <td>30</td>\n",
       "    </tr>\n",
       "    <tr>\n",
       "      <th>23</th>\n",
       "      <td>2016-12</td>\n",
       "      <td>31</td>\n",
       "    </tr>\n",
       "    <tr>\n",
       "      <th>20</th>\n",
       "      <td>2017-01</td>\n",
       "      <td>31</td>\n",
       "    </tr>\n",
       "    <tr>\n",
       "      <th>16</th>\n",
       "      <td>2017-02</td>\n",
       "      <td>28</td>\n",
       "    </tr>\n",
       "  </tbody>\n",
       "</table>\n",
       "</div>"
      ],
      "text/plain": [
       "   month_uniq  days_in_month\n",
       "21    2016-10             20\n",
       "22    2016-11             30\n",
       "23    2016-12             31\n",
       "20    2017-01             31\n",
       "16    2017-02             28"
      ]
     },
     "execution_count": 49,
     "metadata": {},
     "output_type": "execute_result"
    }
   ],
   "source": [
    "# в первом и последнем месяце количество дней было не полным\n",
    "# значит нам необходимо исправить количество дней на то, сколько реально прошло\n",
    "month_day[:1].days_in_month = month_day[:1].days_in_month - purchases_in_orders.order_delivered_customer_date.min().day\n",
    "month_day.tail(1).days_in_month = purchases_in_orders.order_delivered_customer_date.max().day\n",
    "month_day.head()"
   ]
  },
  {
   "cell_type": "code",
   "execution_count": 50,
   "metadata": {},
   "outputs": [],
   "source": [
    "# найдем количество неделб в месяце, разделив дни на 7, и сохраним информацию в новую колонку\n",
    "month_day['week_in_month'] = month_day.days_in_month / 7"
   ]
  },
  {
   "cell_type": "markdown",
   "metadata": {},
   "source": [
    "выясним, сколько покупок в среднем совершают пользователи в месяц"
   ]
  },
  {
   "cell_type": "code",
   "execution_count": 51,
   "metadata": {},
   "outputs": [],
   "source": [
    "# сгруппируем по уникальному номеру пользователя и посчитаем, сколько всего было сделано покупок пользователями\n",
    "# отсортируем полученные данные так, чтобы бы выше находились те пользователи, которые совершают больше покупок\n",
    "customer_purchases_by_month = purchases_in_orders \\\n",
    "                                .groupby('customer_unique_id', as_index=False) \\\n",
    "                                .agg({'quantity': 'sum'}) \\\n",
    "                                .sort_values('quantity', ascending=False)"
   ]
  },
  {
   "cell_type": "code",
   "execution_count": 52,
   "metadata": {},
   "outputs": [],
   "source": [
    "# теперь найдем среднее количество покупок, раздлив общее количество покупок на количество прошедших месяцев\n",
    "# используем таблицу month_day, в которой находится информация о месяцах, посчитаем их количество\n",
    "customer_purchases_by_month['mean_by_month'] = customer_purchases_by_month.quantity / month_day.month_uniq.nunique()"
   ]
  },
  {
   "cell_type": "code",
   "execution_count": 53,
   "metadata": {},
   "outputs": [],
   "source": [
    "# теперь удалим столбец quantity, так как он больше не нужен\n",
    "customer_purchases_by_month = customer_purchases_by_month.drop('quantity', axis=1)"
   ]
  },
  {
   "cell_type": "code",
   "execution_count": 54,
   "metadata": {},
   "outputs": [
    {
     "data": {
      "text/html": [
       "<div>\n",
       "<style scoped>\n",
       "    .dataframe tbody tr th:only-of-type {\n",
       "        vertical-align: middle;\n",
       "    }\n",
       "\n",
       "    .dataframe tbody tr th {\n",
       "        vertical-align: top;\n",
       "    }\n",
       "\n",
       "    .dataframe thead th {\n",
       "        text-align: right;\n",
       "    }\n",
       "</style>\n",
       "<table border=\"1\" class=\"dataframe\">\n",
       "  <thead>\n",
       "    <tr style=\"text-align: right;\">\n",
       "      <th></th>\n",
       "      <th>customer_unique_id</th>\n",
       "      <th>mean_by_month</th>\n",
       "    </tr>\n",
       "  </thead>\n",
       "  <tbody>\n",
       "    <tr>\n",
       "      <th>73122</th>\n",
       "      <td>c8460e4251689ba205045f3ea17884a1</td>\n",
       "      <td>0.96</td>\n",
       "    </tr>\n",
       "    <tr>\n",
       "      <th>25304</th>\n",
       "      <td>4546caea018ad8c692964e3382debd19</td>\n",
       "      <td>0.84</td>\n",
       "    </tr>\n",
       "    <tr>\n",
       "      <th>38574</th>\n",
       "      <td>698e1cf81d01a3d389d96145f7fa6df8</td>\n",
       "      <td>0.80</td>\n",
       "    </tr>\n",
       "    <tr>\n",
       "      <th>71561</th>\n",
       "      <td>c402f431464c72e27330a67f7b94d4fb</td>\n",
       "      <td>0.80</td>\n",
       "    </tr>\n",
       "    <tr>\n",
       "      <th>5622</th>\n",
       "      <td>0f5ac8d5c31de21d2f25e24be15bbffb</td>\n",
       "      <td>0.72</td>\n",
       "    </tr>\n",
       "    <tr>\n",
       "      <th>...</th>\n",
       "      <td>...</td>\n",
       "      <td>...</td>\n",
       "    </tr>\n",
       "    <tr>\n",
       "      <th>33103</th>\n",
       "      <td>5a7a3ce8cda789ffeb42e1dbc1bde931</td>\n",
       "      <td>0.04</td>\n",
       "    </tr>\n",
       "    <tr>\n",
       "      <th>33102</th>\n",
       "      <td>5a7a31fea58aa59718d6c9156222f0ca</td>\n",
       "      <td>0.04</td>\n",
       "    </tr>\n",
       "    <tr>\n",
       "      <th>33101</th>\n",
       "      <td>5a794d8426fff5c898fada607ca62c1d</td>\n",
       "      <td>0.04</td>\n",
       "    </tr>\n",
       "    <tr>\n",
       "      <th>33100</th>\n",
       "      <td>5a78f085d9740be95d8ec9358f828468</td>\n",
       "      <td>0.04</td>\n",
       "    </tr>\n",
       "    <tr>\n",
       "      <th>93349</th>\n",
       "      <td>ffffd2657e2aad2907e67c3e9daecbeb</td>\n",
       "      <td>0.04</td>\n",
       "    </tr>\n",
       "  </tbody>\n",
       "</table>\n",
       "<p>93350 rows × 2 columns</p>\n",
       "</div>"
      ],
      "text/plain": [
       "                     customer_unique_id  mean_by_month\n",
       "73122  c8460e4251689ba205045f3ea17884a1           0.96\n",
       "25304  4546caea018ad8c692964e3382debd19           0.84\n",
       "38574  698e1cf81d01a3d389d96145f7fa6df8           0.80\n",
       "71561  c402f431464c72e27330a67f7b94d4fb           0.80\n",
       "5622   0f5ac8d5c31de21d2f25e24be15bbffb           0.72\n",
       "...                                 ...            ...\n",
       "33103  5a7a3ce8cda789ffeb42e1dbc1bde931           0.04\n",
       "33102  5a7a31fea58aa59718d6c9156222f0ca           0.04\n",
       "33101  5a794d8426fff5c898fada607ca62c1d           0.04\n",
       "33100  5a78f085d9740be95d8ec9358f828468           0.04\n",
       "93349  ffffd2657e2aad2907e67c3e9daecbeb           0.04\n",
       "\n",
       "[93350 rows x 2 columns]"
      ]
     },
     "execution_count": 54,
     "metadata": {},
     "output_type": "execute_result"
    }
   ],
   "source": [
    "# так мы получили таблицу, где в столбце mean_by_month находится среднее количество покупок в месяц\n",
    "customer_purchases_by_month"
   ]
  },
  {
   "cell_type": "markdown",
   "metadata": {},
   "source": [
    "теперь выясним, сколько покупок в среднем совершают пользователи в неделю"
   ]
  },
  {
   "cell_type": "code",
   "execution_count": 55,
   "metadata": {},
   "outputs": [],
   "source": [
    "# сгруппируем по уникальному номеру пользователя и посчитаем, сколько всего было сделано покупок пользователями\n",
    "# отсортируем полученные данные так, чтобы бы выше находились те пользователи, которые совершают больше покупок\n",
    "customer_purchases_by_week = purchases_in_orders \\\n",
    "                                .groupby('customer_unique_id', as_index=False) \\\n",
    "                                .agg({'quantity': 'sum'}) \\\n",
    "                                .sort_values('quantity', ascending=False)"
   ]
  },
  {
   "cell_type": "code",
   "execution_count": 56,
   "metadata": {},
   "outputs": [],
   "source": [
    "# теперь найдем среднее количество покупок, раздлив общее количество покупок на количество прошедших недель\n",
    "# используем таблицу month_day, в которой находится информация о неделях по месяцам, проссумируем ее\n",
    "# округлим до 2 знаков после запятой\n",
    "customer_purchases_by_week['mean_by_week'] = round(customer_purchases_by_week.quantity / month_day.week_in_month.sum(), 2)"
   ]
  },
  {
   "cell_type": "code",
   "execution_count": 57,
   "metadata": {},
   "outputs": [],
   "source": [
    "# теперь удалим столбец quantity, так как он больше не нужен\n",
    "customer_purchases_by_week = customer_purchases_by_week.drop('quantity', axis=1)"
   ]
  },
  {
   "cell_type": "code",
   "execution_count": 58,
   "metadata": {},
   "outputs": [
    {
     "data": {
      "text/html": [
       "<div>\n",
       "<style scoped>\n",
       "    .dataframe tbody tr th:only-of-type {\n",
       "        vertical-align: middle;\n",
       "    }\n",
       "\n",
       "    .dataframe tbody tr th {\n",
       "        vertical-align: top;\n",
       "    }\n",
       "\n",
       "    .dataframe thead th {\n",
       "        text-align: right;\n",
       "    }\n",
       "</style>\n",
       "<table border=\"1\" class=\"dataframe\">\n",
       "  <thead>\n",
       "    <tr style=\"text-align: right;\">\n",
       "      <th></th>\n",
       "      <th>customer_unique_id</th>\n",
       "      <th>mean_by_week</th>\n",
       "    </tr>\n",
       "  </thead>\n",
       "  <tbody>\n",
       "    <tr>\n",
       "      <th>73122</th>\n",
       "      <td>c8460e4251689ba205045f3ea17884a1</td>\n",
       "      <td>0.228</td>\n",
       "    </tr>\n",
       "    <tr>\n",
       "      <th>25304</th>\n",
       "      <td>4546caea018ad8c692964e3382debd19</td>\n",
       "      <td>0.200</td>\n",
       "    </tr>\n",
       "    <tr>\n",
       "      <th>38574</th>\n",
       "      <td>698e1cf81d01a3d389d96145f7fa6df8</td>\n",
       "      <td>0.190</td>\n",
       "    </tr>\n",
       "    <tr>\n",
       "      <th>71561</th>\n",
       "      <td>c402f431464c72e27330a67f7b94d4fb</td>\n",
       "      <td>0.190</td>\n",
       "    </tr>\n",
       "    <tr>\n",
       "      <th>5622</th>\n",
       "      <td>0f5ac8d5c31de21d2f25e24be15bbffb</td>\n",
       "      <td>0.171</td>\n",
       "    </tr>\n",
       "    <tr>\n",
       "      <th>...</th>\n",
       "      <td>...</td>\n",
       "      <td>...</td>\n",
       "    </tr>\n",
       "    <tr>\n",
       "      <th>33103</th>\n",
       "      <td>5a7a3ce8cda789ffeb42e1dbc1bde931</td>\n",
       "      <td>0.010</td>\n",
       "    </tr>\n",
       "    <tr>\n",
       "      <th>33102</th>\n",
       "      <td>5a7a31fea58aa59718d6c9156222f0ca</td>\n",
       "      <td>0.010</td>\n",
       "    </tr>\n",
       "    <tr>\n",
       "      <th>33101</th>\n",
       "      <td>5a794d8426fff5c898fada607ca62c1d</td>\n",
       "      <td>0.010</td>\n",
       "    </tr>\n",
       "    <tr>\n",
       "      <th>33100</th>\n",
       "      <td>5a78f085d9740be95d8ec9358f828468</td>\n",
       "      <td>0.010</td>\n",
       "    </tr>\n",
       "    <tr>\n",
       "      <th>93349</th>\n",
       "      <td>ffffd2657e2aad2907e67c3e9daecbeb</td>\n",
       "      <td>0.010</td>\n",
       "    </tr>\n",
       "  </tbody>\n",
       "</table>\n",
       "<p>93350 rows × 2 columns</p>\n",
       "</div>"
      ],
      "text/plain": [
       "                     customer_unique_id  mean_by_week\n",
       "73122  c8460e4251689ba205045f3ea17884a1         0.228\n",
       "25304  4546caea018ad8c692964e3382debd19         0.200\n",
       "38574  698e1cf81d01a3d389d96145f7fa6df8         0.190\n",
       "71561  c402f431464c72e27330a67f7b94d4fb         0.190\n",
       "5622   0f5ac8d5c31de21d2f25e24be15bbffb         0.171\n",
       "...                                 ...           ...\n",
       "33103  5a7a3ce8cda789ffeb42e1dbc1bde931         0.010\n",
       "33102  5a7a31fea58aa59718d6c9156222f0ca         0.010\n",
       "33101  5a794d8426fff5c898fada607ca62c1d         0.010\n",
       "33100  5a78f085d9740be95d8ec9358f828468         0.010\n",
       "93349  ffffd2657e2aad2907e67c3e9daecbeb         0.010\n",
       "\n",
       "[93350 rows x 2 columns]"
      ]
     },
     "execution_count": 58,
     "metadata": {},
     "output_type": "execute_result"
    }
   ],
   "source": [
    "# так мы получили таблицу, где в столбце mean_by_week находится среднее количество покупок в неделю\n",
    "customer_purchases_by_week"
   ]
  },
  {
   "cell_type": "code",
   "execution_count": 64,
   "metadata": {},
   "outputs": [
    {
     "data": {
      "text/plain": [
       "0.04"
      ]
     },
     "execution_count": 64,
     "metadata": {},
     "output_type": "execute_result"
    }
   ],
   "source": [
    "# посмотрим, какая медиана по средним покупкам в месяц\n",
    "customer_purchases_by_month.mean_by_month.median()"
   ]
  },
  {
   "cell_type": "markdown",
   "metadata": {},
   "source": [
    "В итоге можно сделать вывод, что пользователи не часто покупают товары у компании. Можно заметить, что ни у одного пользователя нет одной покупки в среднем в месяц. А медиана по средним покупкам в месяц составляет 0,04. "
   ]
  },
  {
   "cell_type": "code",
   "execution_count": null,
   "metadata": {},
   "outputs": [],
   "source": []
  },
  {
   "cell_type": "code",
   "execution_count": null,
   "metadata": {},
   "outputs": [],
   "source": []
  },
  {
   "cell_type": "code",
   "execution_count": null,
   "metadata": {},
   "outputs": [],
   "source": []
  },
  {
   "cell_type": "code",
   "execution_count": null,
   "metadata": {},
   "outputs": [],
   "source": []
  },
  {
   "cell_type": "code",
   "execution_count": null,
   "metadata": {},
   "outputs": [],
   "source": []
  },
  {
   "cell_type": "code",
   "execution_count": null,
   "metadata": {},
   "outputs": [],
   "source": []
  }
 ],
 "metadata": {
  "kernelspec": {
   "display_name": "Python 3",
   "language": "python",
   "name": "python3"
  },
  "language_info": {
   "codemirror_mode": {
    "name": "ipython",
    "version": 3
   },
   "file_extension": ".py",
   "mimetype": "text/x-python",
   "name": "python",
   "nbconvert_exporter": "python",
   "pygments_lexer": "ipython3",
   "version": "3.7.3"
  }
 },
 "nbformat": 4,
 "nbformat_minor": 4
}
