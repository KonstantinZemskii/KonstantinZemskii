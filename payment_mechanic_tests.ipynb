{
 "cells": [
  {
   "cell_type": "code",
   "execution_count": 140,
   "metadata": {},
   "outputs": [],
   "source": [
    "import pandas as pd\n",
    "import matplotlib.pyplot as plt\n",
    "import seaborn as sns\n",
    "import pandahouse as ph   # библиотека для подключения к clickhouse\n",
    "from scipy import stats\n",
    "\n",
    "sns.set(style='whitegrid')"
   ]
  },
  {
   "cell_type": "code",
   "execution_count": 141,
   "metadata": {},
   "outputs": [],
   "source": [
    "# библиотеки для подключения к api Яндекс.Диска\n",
    "from urllib.parse import urlencode\n",
    "import requests\n",
    "# Чтобы загрузить данные в Jupyter Notebook, используем api Яндекс.Диска\n",
    "base_url = 'https://cloud-api.yandex.net/v1/disk/public/resources/download?'"
   ]
  },
  {
   "cell_type": "markdown",
   "metadata": {},
   "source": [
    "# A/B–тестирование\n",
    "В ходе тестирования одной гипотезы целевой группе была предложена новая механика оплаты услуг на сайте, у контрольной группы осталась базовая механика."
   ]
  },
  {
   "cell_type": "code",
   "execution_count": 142,
   "metadata": {},
   "outputs": [],
   "source": [
    "# в переменную public_key сохраним ссылку на Яндекс.Диск, где находятся данные для скачивания\n",
    "public_key = 'https://disk.yandex.ru/d/Tbs44Bm6H_FwFQ' \n",
    "\n",
    "final_url = base_url + urlencode(dict(public_key=public_key)) \n",
    "active_studs = pd.read_csv(requests.get(final_url).json()['href'])"
   ]
  },
  {
   "cell_type": "markdown",
   "metadata": {},
   "source": [
    "active_studs - информация о пользователях, которые зашли на платформу в дни проведения эксперимента"
   ]
  },
  {
   "cell_type": "code",
   "execution_count": 143,
   "metadata": {},
   "outputs": [
    {
     "data": {
      "text/html": [
       "<div>\n",
       "<style scoped>\n",
       "    .dataframe tbody tr th:only-of-type {\n",
       "        vertical-align: middle;\n",
       "    }\n",
       "\n",
       "    .dataframe tbody tr th {\n",
       "        vertical-align: top;\n",
       "    }\n",
       "\n",
       "    .dataframe thead th {\n",
       "        text-align: right;\n",
       "    }\n",
       "</style>\n",
       "<table border=\"1\" class=\"dataframe\">\n",
       "  <thead>\n",
       "    <tr style=\"text-align: right;\">\n",
       "      <th></th>\n",
       "      <th>student_id</th>\n",
       "    </tr>\n",
       "  </thead>\n",
       "  <tbody>\n",
       "    <tr>\n",
       "      <th>0</th>\n",
       "      <td>581585</td>\n",
       "    </tr>\n",
       "    <tr>\n",
       "      <th>1</th>\n",
       "      <td>5723133</td>\n",
       "    </tr>\n",
       "  </tbody>\n",
       "</table>\n",
       "</div>"
      ],
      "text/plain": [
       "   student_id\n",
       "0      581585\n",
       "1     5723133"
      ]
     },
     "execution_count": 143,
     "metadata": {},
     "output_type": "execute_result"
    }
   ],
   "source": [
    "active_studs.head(2)"
   ]
  },
  {
   "cell_type": "code",
   "execution_count": 144,
   "metadata": {},
   "outputs": [
    {
     "name": "stdout",
     "output_type": "stream",
     "text": [
      "<class 'pandas.core.frame.DataFrame'>\n",
      "RangeIndex: 8341 entries, 0 to 8340\n",
      "Data columns (total 1 columns):\n",
      " #   Column      Non-Null Count  Dtype\n",
      "---  ------      --------------  -----\n",
      " 0   student_id  8341 non-null   int64\n",
      "dtypes: int64(1)\n",
      "memory usage: 65.3 KB\n"
     ]
    }
   ],
   "source": [
    "# пропусков нет, 8341 строка\n",
    "active_studs.info()"
   ]
  },
  {
   "cell_type": "code",
   "execution_count": 145,
   "metadata": {},
   "outputs": [
    {
     "data": {
      "text/plain": [
       "8341"
      ]
     },
     "execution_count": 145,
     "metadata": {},
     "output_type": "execute_result"
    }
   ],
   "source": [
    "active_studs.student_id.nunique()"
   ]
  },
  {
   "cell_type": "code",
   "execution_count": 146,
   "metadata": {},
   "outputs": [],
   "source": [
    "# в переменную public_key сохраним ссылку на Яндекс.Диск, где находятся данные для скачивания\n",
    "public_key = 'https://disk.yandex.ru/d/pH1q-VqcxXjsVA' \n",
    "\n",
    "final_url = base_url + urlencode(dict(public_key=public_key)) \n",
    "checks = pd.read_csv(requests.get(final_url).json()['href'], sep=';')"
   ]
  },
  {
   "cell_type": "markdown",
   "metadata": {},
   "source": [
    "checks - информация об оплатах пользователей в дни проведения эксперимента"
   ]
  },
  {
   "cell_type": "code",
   "execution_count": 147,
   "metadata": {},
   "outputs": [
    {
     "data": {
      "text/html": [
       "<div>\n",
       "<style scoped>\n",
       "    .dataframe tbody tr th:only-of-type {\n",
       "        vertical-align: middle;\n",
       "    }\n",
       "\n",
       "    .dataframe tbody tr th {\n",
       "        vertical-align: top;\n",
       "    }\n",
       "\n",
       "    .dataframe thead th {\n",
       "        text-align: right;\n",
       "    }\n",
       "</style>\n",
       "<table border=\"1\" class=\"dataframe\">\n",
       "  <thead>\n",
       "    <tr style=\"text-align: right;\">\n",
       "      <th></th>\n",
       "      <th>student_id</th>\n",
       "      <th>rev</th>\n",
       "    </tr>\n",
       "  </thead>\n",
       "  <tbody>\n",
       "    <tr>\n",
       "      <th>0</th>\n",
       "      <td>1627</td>\n",
       "      <td>990.0</td>\n",
       "    </tr>\n",
       "    <tr>\n",
       "      <th>1</th>\n",
       "      <td>3185</td>\n",
       "      <td>690.0</td>\n",
       "    </tr>\n",
       "  </tbody>\n",
       "</table>\n",
       "</div>"
      ],
      "text/plain": [
       "   student_id    rev\n",
       "0        1627  990.0\n",
       "1        3185  690.0"
      ]
     },
     "execution_count": 147,
     "metadata": {},
     "output_type": "execute_result"
    }
   ],
   "source": [
    "checks.head(2)"
   ]
  },
  {
   "cell_type": "code",
   "execution_count": 148,
   "metadata": {},
   "outputs": [
    {
     "name": "stdout",
     "output_type": "stream",
     "text": [
      "<class 'pandas.core.frame.DataFrame'>\n",
      "RangeIndex: 541 entries, 0 to 540\n",
      "Data columns (total 2 columns):\n",
      " #   Column      Non-Null Count  Dtype  \n",
      "---  ------      --------------  -----  \n",
      " 0   student_id  541 non-null    int64  \n",
      " 1   rev         541 non-null    float64\n",
      "dtypes: float64(1), int64(1)\n",
      "memory usage: 8.6 KB\n"
     ]
    }
   ],
   "source": [
    "# пропусков нет, 541 строка\n",
    "checks.info()"
   ]
  },
  {
   "cell_type": "code",
   "execution_count": 149,
   "metadata": {},
   "outputs": [
    {
     "data": {
      "text/plain": [
       "student_id    541\n",
       "rev            39\n",
       "dtype: int64"
      ]
     },
     "execution_count": 149,
     "metadata": {},
     "output_type": "execute_result"
    }
   ],
   "source": [
    "checks.nunique()"
   ]
  },
  {
   "cell_type": "code",
   "execution_count": 150,
   "metadata": {},
   "outputs": [],
   "source": [
    "# в переменную public_key сохраним ссылку на Яндекс.Диск, где находятся данные для скачивания\n",
    "public_key = 'https://disk.yandex.ru/d/UhyYx41rTt3clQ' \n",
    "\n",
    "final_url = base_url + urlencode(dict(public_key=public_key)) \n",
    "groups = pd.read_csv(requests.get(final_url).json()['href'], sep=';')"
   ]
  },
  {
   "cell_type": "markdown",
   "metadata": {},
   "source": [
    "groups - информация о принадлежности пользователя к контрольной или экспериментальной группе (А – контроль, B – целевая группа) "
   ]
  },
  {
   "cell_type": "code",
   "execution_count": 151,
   "metadata": {},
   "outputs": [
    {
     "data": {
      "text/html": [
       "<div>\n",
       "<style scoped>\n",
       "    .dataframe tbody tr th:only-of-type {\n",
       "        vertical-align: middle;\n",
       "    }\n",
       "\n",
       "    .dataframe tbody tr th {\n",
       "        vertical-align: top;\n",
       "    }\n",
       "\n",
       "    .dataframe thead th {\n",
       "        text-align: right;\n",
       "    }\n",
       "</style>\n",
       "<table border=\"1\" class=\"dataframe\">\n",
       "  <thead>\n",
       "    <tr style=\"text-align: right;\">\n",
       "      <th></th>\n",
       "      <th>id</th>\n",
       "      <th>grp</th>\n",
       "    </tr>\n",
       "  </thead>\n",
       "  <tbody>\n",
       "    <tr>\n",
       "      <th>0</th>\n",
       "      <td>1489</td>\n",
       "      <td>B</td>\n",
       "    </tr>\n",
       "    <tr>\n",
       "      <th>1</th>\n",
       "      <td>1627</td>\n",
       "      <td>A</td>\n",
       "    </tr>\n",
       "  </tbody>\n",
       "</table>\n",
       "</div>"
      ],
      "text/plain": [
       "     id grp\n",
       "0  1489   B\n",
       "1  1627   A"
      ]
     },
     "execution_count": 151,
     "metadata": {},
     "output_type": "execute_result"
    }
   ],
   "source": [
    "groups.head(2)"
   ]
  },
  {
   "cell_type": "code",
   "execution_count": 152,
   "metadata": {},
   "outputs": [
    {
     "name": "stdout",
     "output_type": "stream",
     "text": [
      "<class 'pandas.core.frame.DataFrame'>\n",
      "RangeIndex: 74484 entries, 0 to 74483\n",
      "Data columns (total 2 columns):\n",
      " #   Column  Non-Null Count  Dtype \n",
      "---  ------  --------------  ----- \n",
      " 0   id      74484 non-null  int64 \n",
      " 1   grp     74484 non-null  object\n",
      "dtypes: int64(1), object(1)\n",
      "memory usage: 1.1+ MB\n"
     ]
    }
   ],
   "source": [
    "# пропусков нет, 74484строк\n",
    "groups.info()"
   ]
  },
  {
   "cell_type": "code",
   "execution_count": 153,
   "metadata": {},
   "outputs": [
    {
     "data": {
      "text/plain": [
       "74484"
      ]
     },
     "execution_count": 153,
     "metadata": {},
     "output_type": "execute_result"
    }
   ],
   "source": [
    "groups.id.nunique()"
   ]
  },
  {
   "cell_type": "code",
   "execution_count": 154,
   "metadata": {},
   "outputs": [],
   "source": [
    "# добавим инфомацию о группе, в которую попал студент, используем merge и inner join\n",
    "# чтобы столбцы не дублировались, удалим один из них при помощи drop\n",
    "experiment = pd.merge(active_studs, groups, left_on='student_id', right_on='id').drop('id', axis=1)"
   ]
  },
  {
   "cell_type": "code",
   "execution_count": 155,
   "metadata": {},
   "outputs": [
    {
     "data": {
      "text/plain": [
       "(8328, 2)"
      ]
     },
     "execution_count": 155,
     "metadata": {},
     "output_type": "execute_result"
    }
   ],
   "source": [
    "# есть пользователи (13), которым не нашлось совпадений и потому отсеились при объединении таблиц\n",
    "experiment.shape"
   ]
  },
  {
   "cell_type": "code",
   "execution_count": 156,
   "metadata": {},
   "outputs": [],
   "source": [
    "# добавим информацию об оплате, используем merge и left join, пропуски заполним нулями\n",
    "experiment = pd.merge(experiment, checks, how='left', on='student_id').fillna(0)"
   ]
  },
  {
   "cell_type": "code",
   "execution_count": 157,
   "metadata": {},
   "outputs": [
    {
     "data": {
      "text/plain": [
       "B    6793\n",
       "A    1535\n",
       "Name: grp, dtype: int64"
      ]
     },
     "execution_count": 157,
     "metadata": {},
     "output_type": "execute_result"
    }
   ],
   "source": [
    "# посмотрим на распределение по группам, в группе А - 1538 пользователей, в В - 6803\n",
    "experiment.grp.value_counts()"
   ]
  },
  {
   "cell_type": "code",
   "execution_count": 158,
   "metadata": {},
   "outputs": [
    {
     "data": {
      "text/plain": [
       "B    0.815682\n",
       "A    0.184318\n",
       "Name: grp, dtype: float64"
      ]
     },
     "execution_count": 158,
     "metadata": {},
     "output_type": "execute_result"
    }
   ],
   "source": [
    "# процентное распределение по группам\n",
    "experiment.grp.value_counts(normalize=True)"
   ]
  },
  {
   "cell_type": "markdown",
   "metadata": {},
   "source": [
    "Выборка несбалансированна, в контрольной группе 18,4% пользователей, а в тестовой - 81,6%"
   ]
  },
  {
   "cell_type": "markdown",
   "metadata": {},
   "source": [
    "Если сделать новую механику оплаты, то повысится конверсия в покупку, потому что это упращает процедуру приобретения. И это будет влиять на то, что больше пользователей приобретут товар. Поэтому основной метрикой для проверки гипотезы будет CR (конверсия в покупку). С другой стороны, можно повысить конверсию, а доход упадет. Бизнесу важно зарабатывать, и главная цель экспериментов - это повысить прибыль. Поэтому дополнительно можно будет исследовать метрику ARPU(средний чек на всех пользователей) и ARPPU(средний чек платящих пользователей). \n",
    "\n",
    "Критерий для проверки гипотезы: \n",
    "Для проверки гипотезы будем использовать T-test. Его можно использовать и при ненормальном распределении, если объем выборок достаточно большой. Тест Мана-Уитни нам не подойдет, так как его сложно интерпретировать (он не сравнивает средние) и плохо работает на повторяющихся данных. Бутстрап очень ресурсозатратный, и его лучше применять, только если нет других вариантов."
   ]
  },
  {
   "cell_type": "code",
   "execution_count": 159,
   "metadata": {},
   "outputs": [],
   "source": [
    "# делаем колонку, где купивший что-то пользователь будет 1, не купивший - 0\n",
    "experiment['purchase'] = experiment.rev.apply(lambda x: 0 if x == 0 else 1)"
   ]
  },
  {
   "cell_type": "code",
   "execution_count": 160,
   "metadata": {},
   "outputs": [],
   "source": [
    "# группируем по группам, и подсчитываем кол-во пользоватлелей, принесенный ими доход, ARPU (средний платеж по группам)\n",
    "metrics = experiment.groupby('grp', as_index=False).agg(quantity=('student_id', 'count'),\n",
    "                                                        money=('rev', 'sum'),\n",
    "                                                        ARPU=('rev', 'mean'),\n",
    "                                                        CR=('purchase', 'mean'),\n",
    "                                                        buyers=('purchase', 'sum'))"
   ]
  },
  {
   "cell_type": "code",
   "execution_count": 161,
   "metadata": {},
   "outputs": [],
   "source": [
    "# посчитаем ARPPU, разделим доход от пользователей на кол-во купивших пользователей\n",
    "metrics['ARPPU'] = metrics.money / metrics.buyers"
   ]
  },
  {
   "cell_type": "code",
   "execution_count": 162,
   "metadata": {},
   "outputs": [
    {
     "data": {
      "text/html": [
       "<div>\n",
       "<style scoped>\n",
       "    .dataframe tbody tr th:only-of-type {\n",
       "        vertical-align: middle;\n",
       "    }\n",
       "\n",
       "    .dataframe tbody tr th {\n",
       "        vertical-align: top;\n",
       "    }\n",
       "\n",
       "    .dataframe thead th {\n",
       "        text-align: right;\n",
       "    }\n",
       "</style>\n",
       "<table border=\"1\" class=\"dataframe\">\n",
       "  <thead>\n",
       "    <tr style=\"text-align: right;\">\n",
       "      <th></th>\n",
       "      <th>grp</th>\n",
       "      <th>quantity</th>\n",
       "      <th>money</th>\n",
       "      <th>ARPU</th>\n",
       "      <th>CR</th>\n",
       "      <th>buyers</th>\n",
       "      <th>ARPPU</th>\n",
       "    </tr>\n",
       "  </thead>\n",
       "  <tbody>\n",
       "    <tr>\n",
       "      <th>0</th>\n",
       "      <td>A</td>\n",
       "      <td>1535</td>\n",
       "      <td>72820.0000</td>\n",
       "      <td>47.439739</td>\n",
       "      <td>0.050814</td>\n",
       "      <td>78</td>\n",
       "      <td>933.589744</td>\n",
       "    </tr>\n",
       "    <tr>\n",
       "      <th>1</th>\n",
       "      <td>B</td>\n",
       "      <td>6793</td>\n",
       "      <td>393074.0035</td>\n",
       "      <td>57.864567</td>\n",
       "      <td>0.046077</td>\n",
       "      <td>313</td>\n",
       "      <td>1255.827487</td>\n",
       "    </tr>\n",
       "  </tbody>\n",
       "</table>\n",
       "</div>"
      ],
      "text/plain": [
       "  grp  quantity        money       ARPU        CR  buyers        ARPPU\n",
       "0   A      1535   72820.0000  47.439739  0.050814      78   933.589744\n",
       "1   B      6793  393074.0035  57.864567  0.046077     313  1255.827487"
      ]
     },
     "execution_count": 162,
     "metadata": {},
     "output_type": "execute_result"
    }
   ],
   "source": [
    "metrics"
   ]
  },
  {
   "cell_type": "markdown",
   "metadata": {},
   "source": [
    "Сравним выборки на основе конверсии в покупку"
   ]
  },
  {
   "cell_type": "code",
   "execution_count": 163,
   "metadata": {},
   "outputs": [],
   "source": [
    "# в переменные запишем значения колонки purchase только из группы А и В\n",
    "# так как среднее по этой колонке - это CR, то так и проверим различия по этой метрике\n",
    "control = experiment.query('grp == \"A\"').purchase\n",
    "treatment = experiment.query('grp == \"B\"').purchase"
   ]
  },
  {
   "cell_type": "code",
   "execution_count": 164,
   "metadata": {},
   "outputs": [
    {
     "data": {
      "text/plain": [
       "Ttest_indResult(statistic=0.7924122313723829, pvalue=0.42814292677134336)"
      ]
     },
     "execution_count": 164,
     "metadata": {},
     "output_type": "execute_result"
    }
   ],
   "source": [
    "stats.ttest_ind(control, treatment)"
   ]
  },
  {
   "cell_type": "markdown",
   "metadata": {},
   "source": [
    "Вывод: p_value больше 0,05, следовательно, нулевую гипотезу о равенстве средних отклонить не можем. Значит, конверсии у контрольной и тестовой группы не имеют статистически значимых различий."
   ]
  },
  {
   "cell_type": "markdown",
   "metadata": {},
   "source": [
    "Сравним две выборки по метрике ARPU"
   ]
  },
  {
   "cell_type": "code",
   "execution_count": 165,
   "metadata": {},
   "outputs": [],
   "source": [
    "# в переменные запишем значения колонки rev только из группы А и В\n",
    "control = experiment.query('grp == \"A\"').rev\n",
    "treatment = experiment.query('grp == \"B\"').rev"
   ]
  },
  {
   "cell_type": "code",
   "execution_count": 166,
   "metadata": {},
   "outputs": [
    {
     "data": {
      "text/plain": [
       "Ttest_indResult(statistic=-1.193059426205367, pvalue=0.23288009643249283)"
      ]
     },
     "execution_count": 166,
     "metadata": {},
     "output_type": "execute_result"
    }
   ],
   "source": [
    "stats.ttest_ind(control, treatment)"
   ]
  },
  {
   "cell_type": "markdown",
   "metadata": {},
   "source": [
    "Вывод: p_value больше 0,05, таким образом, отклонить нулевую гипотезу не можем. Значит, группы не имеют статистически значимых различий."
   ]
  },
  {
   "cell_type": "markdown",
   "metadata": {},
   "source": [
    "Сравним две выборки по метрике ARPPU"
   ]
  },
  {
   "cell_type": "code",
   "execution_count": 167,
   "metadata": {},
   "outputs": [],
   "source": [
    "# в переменные запишем значения колонки rev только из группы А и В\n",
    "control = experiment.query('grp == \"A\" and rev > 0').rev\n",
    "treatment = experiment.query('grp == \"B\" and rev > 0').rev"
   ]
  },
  {
   "cell_type": "code",
   "execution_count": 168,
   "metadata": {},
   "outputs": [
    {
     "data": {
      "text/plain": [
       "Ttest_indResult(statistic=-3.1114389810411063, pvalue=0.001999178025210522)"
      ]
     },
     "execution_count": 168,
     "metadata": {},
     "output_type": "execute_result"
    }
   ],
   "source": [
    "stats.ttest_ind(control, treatment)"
   ]
  },
  {
   "cell_type": "markdown",
   "metadata": {},
   "source": [
    "Вывод: p_value сильно ниже 0,05, это означает, что присутствует различие в средних. Таким образом, средний чек платящего полязователя по группам ститистически значимо различаются."
   ]
  },
  {
   "cell_type": "markdown",
   "metadata": {},
   "source": [
    "Посмотри, где именно появилась разница"
   ]
  },
  {
   "cell_type": "code",
   "execution_count": 169,
   "metadata": {},
   "outputs": [],
   "source": [
    "# оставим только совершенные покупки\n",
    "only_purchase = experiment.query('rev > 0')"
   ]
  },
  {
   "cell_type": "code",
   "execution_count": 170,
   "metadata": {},
   "outputs": [
    {
     "data": {
      "image/png": "[encoded data removed]",
      "text/plain": [
       "<Figure size 432x288 with 1 Axes>"
      ]
     },
     "metadata": {},
     "output_type": "display_data"
    }
   ],
   "source": [
    "# boxplot только с дохода\n",
    "sns.boxplot(data=only_purchase, x='grp', y='rev')\n",
    "plt.title('Distribution of revenue by groups')\n",
    "plt.xlabel('Groups')\n",
    "plt.ylabel('Revenue');"
   ]
  },
  {
   "cell_type": "code",
   "execution_count": 171,
   "metadata": {},
   "outputs": [
    {
     "data": {
      "image/png": "[encoded data removed]",
      "text/plain": [
       "<Figure size 432x288 with 1 Axes>"
      ]
     },
     "metadata": {},
     "output_type": "display_data"
    }
   ],
   "source": [
    "# гистограмма распределения по группе А\n",
    "sns.histplot(only_purchase[only_purchase.grp == 'A'].rev, kde=False, stat='density', bins=30)\n",
    "plt.title('Distribution by price in group A')\n",
    "plt.xlabel('Revenue');"
   ]
  },
  {
   "cell_type": "code",
   "execution_count": 172,
   "metadata": {},
   "outputs": [
    {
     "data": {
      "image/png": "[encoded data removed]",
      "text/plain": [
       "<Figure size 432x288 with 1 Axes>"
      ]
     },
     "metadata": {},
     "output_type": "display_data"
    }
   ],
   "source": [
    "# гистограмма распределения по группе В\n",
    "sns.histplot(only_purchase[only_purchase.grp == 'B'].rev, kde=False, stat='density', bins=30)\n",
    "plt.title('Distribution by price in group B')\n",
    "plt.xlabel('Revenue');"
   ]
  },
  {
   "cell_type": "code",
   "execution_count": 173,
   "metadata": {},
   "outputs": [
    {
     "data": {
      "text/plain": [
       "290.0    0.320513\n",
       "580.0    0.076923\n",
       "990.0    0.064103\n",
       "590.0    0.064103\n",
       "199.0    0.064103\n",
       "Name: rev, dtype: float64"
      ]
     },
     "execution_count": 173,
     "metadata": {},
     "output_type": "execute_result"
    }
   ],
   "source": [
    "# посмотрим процентное распределение по сумме в группе А\n",
    "only_purchase[only_purchase.grp == 'A'].rev.value_counts(normalize=True).head()"
   ]
  },
  {
   "cell_type": "code",
   "execution_count": 174,
   "metadata": {},
   "outputs": [
    {
     "data": {
      "text/plain": [
       "1900.0000    0.293930\n",
       "290.0000     0.143770\n",
       "1900.0001    0.111821\n",
       "199.0000     0.086262\n",
       "840.0000     0.067093\n",
       "Name: rev, dtype: float64"
      ]
     },
     "execution_count": 174,
     "metadata": {},
     "output_type": "execute_result"
    }
   ],
   "source": [
    "# посмотрим процентное распределение по сумме в группе В\n",
    "only_purchase[only_purchase.grp == 'B'].rev.value_counts(normalize=True).head()"
   ]
  },
  {
   "cell_type": "markdown",
   "metadata": {},
   "source": [
    "Можно заметить, что существенное отличие в группе В в отличии от А по сумме 1900. Примерно 40% пользователей совершили покупку на эту сумму. И так же в группе В присутствует странное значение - 1900.0001. Что может говорить о том, что новая механика оплаты работает некорректно либо неправильная обработка данных. "
   ]
  },
  {
   "cell_type": "code",
   "execution_count": null,
   "metadata": {},
   "outputs": [],
   "source": []
  },
  {
   "cell_type": "markdown",
   "metadata": {},
   "source": [
    "# Вывод\n",
    "Эксперимент проводился на несбалансированной выборке, примерно 81,6% пользователей в тестовой группе и 18,4% в контрольной. Стоит заметить, что делать так не принято и не правильно, поскольку тестовая выборка обычно меньше контрольной. Это может быть связано с плохой работой сплит системы или неправильным проведением эксперимента.\n",
    "\n",
    "Основной метрикой для проверки гипотезы была выбрана конверсия в покупку, потому что новая механика оплаты должна упрощать процесс приобретения и пользователи должны чаще совершать целевое действие. Статистически значимых различий между группами выявлено не было. С другой стороны, наблюдалось повышение метрики ARPU(статистически незначимо) и ARPPU(статистически значимо). Исследовав, было обнаружено большое кол-во пользователей, которые совершили покупку на 1900, главное отличие от контрольной группы. Необходимо выяснить причины такого отклонения. Может, паралельно проводился еще один эксперимент либо какая-нибудь акция на товар по этой цене. Это могло повлиять на ход этого эксперимента и опять поставить под сомнение правильность его проведения.\n",
    "\n",
    "Таким образом, новую механику оплаты запускать на всех пользователей не стоит. Так как конверсия статистически значимо не изменилась. "
   ]
  },
  {
   "cell_type": "markdown",
   "metadata": {},
   "source": [
    "# Задание 2. SQL"
   ]
  },
  {
   "cell_type": "markdown",
   "metadata": {},
   "source": [
    "Подключение к clickhouse"
   ]
  },
  {
   "cell_type": "code",
   "execution_count": 175,
   "metadata": {},
   "outputs": [],
   "source": [
    "# чтение файла, где записаны данные для подключения к clickhouse: хост, имя пользователя и пароль\n",
    "# все записывается в соответствующие переменные\n",
    "with open('connect_to_sql', 'r') as f:\n",
    "    text = f.read().split('\\n')\n",
    "    host = text[0]\n",
    "    user = text[1]\n",
    "    password = text[2]"
   ]
  },
  {
   "cell_type": "code",
   "execution_count": 176,
   "metadata": {},
   "outputs": [],
   "source": [
    "# создаем переменную с данными для подключения\n",
    "connection = dict(database='default',\n",
    "                 host=host,\n",
    "                 user=user,\n",
    "                 password=password)"
   ]
  },
  {
   "cell_type": "markdown",
   "metadata": {},
   "source": [
    "Используются таблицы: \n",
    "- studs - разделение пользователей на группы, участвующих в эксперименте (control, pilot). 600 строк и 600 уникальных пользователей;\n",
    "- peas - данные о результатах решения задач пользователями (правильно или нет решена задача и по какому предмету). 13245 строк и 308 уникальных пользователей;\n",
    "- final_project_check - данные об оплате предметов пользователями. Оплата нужна, чтобы решать больше 30 задач в день. 61 строка и 47 уникальных пользователей."
   ]
  },
  {
   "cell_type": "markdown",
   "metadata": {},
   "source": [
    "# Необходимо написать оптимальный запрос, который даст информацию о количестве очень усердных студентов."
   ]
  },
  {
   "cell_type": "markdown",
   "metadata": {},
   "source": [
    "Напишем запрос и посчитаем количество усердных студентов. Под усердным студентом мы понимаем студента, который правильно решил 20 и более задач."
   ]
  },
  {
   "cell_type": "code",
   "execution_count": 177,
   "metadata": {},
   "outputs": [],
   "source": [
    "# посчитаем количество строк из подзапроса\n",
    "# подзапрос: сгруппируем студентов и посчитаем кол-во правильно сделаных задач(так как там правильно решенная - это 1, \n",
    "# то просто суммируем)\n",
    "# фильтруем через HAVING, отбираем только тех студентов, которые решили 20 и более задач\n",
    "\n",
    "query = \"\"\"\n",
    "SELECT \n",
    "    COUNT(*)\n",
    "FROM\n",
    "(SELECT \n",
    "    st_id,\n",
    "    SUM(correct) AS quantity_correct\n",
    "FROM default.peas\n",
    "GROUP BY st_id\n",
    "HAVING quantity_correct >= 20)\n",
    "\"\"\"\n",
    "\n",
    "diligent_students = ph.read_clickhouse(query, connection=connection)"
   ]
  },
  {
   "cell_type": "code",
   "execution_count": 178,
   "metadata": {},
   "outputs": [
    {
     "name": "stdout",
     "output_type": "stream",
     "text": [
      "136 усердных студентов учатся на курсе, которые решили 20 и более задач.\n"
     ]
    }
   ],
   "source": [
    "print(f'{diligent_students.iloc[0, 0]} усердных студентов учатся на курсе, которые решили 20 и более задач.')"
   ]
  },
  {
   "cell_type": "code",
   "execution_count": null,
   "metadata": {},
   "outputs": [],
   "source": []
  },
  {
   "cell_type": "markdown",
   "metadata": {},
   "source": [
    "# Образовательная платформа проводит эксперимент, где тестируется новый экран оплаты\n",
    "Необходимо в одном запросе выгрузить следующую информацию о группах пользователей:\n",
    "- ARPU - средний платеж на всех зарегистрированных игроков;\n",
    "- ARPAU - средний платеж на всех активных пользователей;\n",
    "- CR в покупку - отношение числа пользователей, которые совершили покупку к общему числу пользователей;\n",
    "- СR активного пользователя в покупку - отношение числа активных пользователей, которые совершили покупку к общему числу активных пользователей;\n",
    "- CR пользователя из активности по математике (subject = ’math’) в покупку курса по математике - отношение числа активных пользователей по математике, которые совершили покупку к общему числу активных пользователей по математике.\n",
    "\n",
    "Активным считается пользователь, за все время решивший больше 10 задач правильно в любых дисциплинах.\n",
    "\n",
    "Активным по математике считается пользователь, за все время решивший 2 или больше задач правильно по математике."
   ]
  },
  {
   "cell_type": "markdown",
   "metadata": {},
   "source": [
    "### Найдем необходимые нам метрики\n",
    "используем left join, чтобы не потерять данные из таблицы studs"
   ]
  },
  {
   "cell_type": "code",
   "execution_count": 179,
   "metadata": {},
   "outputs": [],
   "source": [
    "query = \"\"\"\n",
    "SELECT \n",
    "    test_grp,\n",
    "    uniqExact(studs.st_id) AS uniq_user,\n",
    "    uniqIf(studs.st_id, total_peas > 10) AS active_users,\n",
    "    uniqIf(studs.st_id, money > 0) AS buyers,\n",
    "    sum(money) AS users_money,\n",
    "    sum(money)/uniqExact(studs.st_id) AS ARPU,\n",
    "    sumIf(money, total_peas > 10)/uniqIf(studs.st_id, total_peas > 10) AS ARPAU,\n",
    "    uniqIf(studs.st_id, money > 0)/uniqExact(studs.st_id) AS CR,\n",
    "    uniqIf(studs.st_id, money > 0 AND total_peas > 10)/uniqIf(studs.st_id, total_peas > 10) AS CR_active,\n",
    "    uniqIf(studs.st_id, money > 0 AND peas_by_math > 1 AND subject = 'Math')/uniqIf(studs.st_id, peas_by_math > 1) AS CR_math\n",
    "\n",
    "FROM\n",
    "  default.studs AS a\n",
    "  LEFT JOIN (\n",
    "            SELECT\n",
    "              st_id,\n",
    "              subject,\n",
    "              money\n",
    "            FROM\n",
    "              default.final_project_check\n",
    "          ) AS b\n",
    "  ON a.st_id = b.st_id\n",
    "  LEFT JOIN (\n",
    "            SELECT\n",
    "              st_id,\n",
    "              SUM(correct) AS total_peas,\n",
    "              SUMIf(correct, subject = 'Math') AS peas_by_math\n",
    "            FROM\n",
    "              default.peas\n",
    "            GROUP BY\n",
    "              st_id\n",
    "          ) AS c \n",
    "  ON a.st_id = c.st_id\n",
    "GROUP BY test_grp\n",
    "\"\"\"\n",
    "payment_test = ph.read_clickhouse(query, connection=connection)"
   ]
  },
  {
   "cell_type": "code",
   "execution_count": 180,
   "metadata": {},
   "outputs": [
    {
     "data": {
      "text/html": [
       "<div>\n",
       "<style scoped>\n",
       "    .dataframe tbody tr th:only-of-type {\n",
       "        vertical-align: middle;\n",
       "    }\n",
       "\n",
       "    .dataframe tbody tr th {\n",
       "        vertical-align: top;\n",
       "    }\n",
       "\n",
       "    .dataframe thead th {\n",
       "        text-align: right;\n",
       "    }\n",
       "</style>\n",
       "<table border=\"1\" class=\"dataframe\">\n",
       "  <thead>\n",
       "    <tr style=\"text-align: right;\">\n",
       "      <th></th>\n",
       "      <th>test_grp</th>\n",
       "      <th>uniq_user</th>\n",
       "      <th>active_user</th>\n",
       "      <th>buyers</th>\n",
       "      <th>active_buyers</th>\n",
       "      <th>money</th>\n",
       "      <th>ARPU</th>\n",
       "      <th>ARPAU</th>\n",
       "      <th>CR</th>\n",
       "      <th>CR_active_buyers</th>\n",
       "      <th>CR_math</th>\n",
       "    </tr>\n",
       "  </thead>\n",
       "  <tbody>\n",
       "    <tr>\n",
       "      <th>0</th>\n",
       "      <td>control</td>\n",
       "      <td>305</td>\n",
       "      <td>127</td>\n",
       "      <td>15</td>\n",
       "      <td>14</td>\n",
       "      <td>1385000</td>\n",
       "      <td>4540.98</td>\n",
       "      <td>10393.70</td>\n",
       "      <td>0.049180</td>\n",
       "      <td>0.110236</td>\n",
       "      <td>0.061224</td>\n",
       "    </tr>\n",
       "    <tr>\n",
       "      <th>1</th>\n",
       "      <td>pilot</td>\n",
       "      <td>295</td>\n",
       "      <td>96</td>\n",
       "      <td>32</td>\n",
       "      <td>25</td>\n",
       "      <td>3395000</td>\n",
       "      <td>11508.47</td>\n",
       "      <td>29739.58</td>\n",
       "      <td>0.108475</td>\n",
       "      <td>0.260417</td>\n",
       "      <td>0.095238</td>\n",
       "    </tr>\n",
       "  </tbody>\n",
       "</table>\n",
       "</div>"
      ],
      "text/plain": [
       "  test_grp  uniq_user  active_user  buyers  active_buyers    money      ARPU  \\\n",
       "0  control        305          127      15             14  1385000   4540.98   \n",
       "1    pilot        295           96      32             25  3395000  11508.47   \n",
       "\n",
       "      ARPAU        CR  CR_active_buyers   CR_math  \n",
       "0  10393.70  0.049180          0.110236  0.061224  \n",
       "1  29739.58  0.108475          0.260417  0.095238  "
      ]
     },
     "execution_count": 180,
     "metadata": {},
     "output_type": "execute_result"
    }
   ],
   "source": [
    "payment_test"
   ]
  },
  {
   "cell_type": "code",
   "execution_count": 182,
   "metadata": {},
   "outputs": [],
   "source": [
    "# рассчитаем различия между метриками в процентах и запишем в переменную\n",
    "money_diff = round(100 - payment_test.loc[0, 'money'] / payment_test.loc[1, 'money'] * 100, 2)\n",
    "ARPU_diff = round(100 - payment_test.loc[0, 'ARPU'] / payment_test.loc[1, 'ARPU'] * 100, 2)\n",
    "ARPAU_diff = round(100 - payment_test.loc[0, 'ARPAU'] / payment_test.loc[1, 'ARPAU'] * 100, 2)\n",
    "CR_diff = round(100 - payment_test.loc[0, 'CR'] / payment_test.loc[1, 'CR'] * 100, 2)\n",
    "CR_active_buyers_diff = round(100 - payment_test.loc[0, 'CR_active_buyers'] / \n",
    "                              payment_test.loc[1, 'CR_active_buyers'] * 100, 2)\n",
    "CR_math_diff = round(100 - payment_test.loc[0, 'CR_math'] / payment_test.loc[1, 'CR_math'] * 100, 2)"
   ]
  },
  {
   "cell_type": "code",
   "execution_count": 183,
   "metadata": {},
   "outputs": [
    {
     "name": "stdout",
     "output_type": "stream",
     "text": [
      "Доход, принесенный пользователями в группе pilot выше на 59.2%, чем в группе control\n",
      "Значение метрики ARPU в группе pilot выше на 60.54%, чем в группе control\n",
      "Значение метрики ARPAU в группе pilot выше на 65.05%, чем в группе control\n",
      "Значение метрики CR в группе pilot выше на 54.66%, чем в группе control\n",
      "Количество активных пользователей купивших предмет в группе pilot выше на 57.67%, чем в группе control\n",
      "Количество активных пользователей по математике купивших этот предмет в группе pilot выше на 35.71%, чем в группе control\n"
     ]
    }
   ],
   "source": [
    "print(f\"Доход, принесенный пользователями в группе pilot выше на {money_diff}%, чем в группе control\")\n",
    "print(f\"Значение метрики ARPU в группе pilot выше на {ARPU_diff}%, чем в группе control\")\n",
    "print(f\"Значение метрики ARPAU в группе pilot выше на {ARPAU_diff}%, чем в группе control\")\n",
    "print(f\"Значение метрики CR в группе pilot выше на {CR_diff}%, чем в группе control\")\n",
    "print(f\"Количество активных пользователей купивших предмет в группе pilot выше \\\n",
    "на {CR_active_buyers_diff}%, чем в группе control\")\n",
    "print(f\"Количество активных пользователей по математике купивших этот предмет в группе pilot выше \\\n",
    "на {CR_math_diff}%, чем в группе control\")"
   ]
  },
  {
   "cell_type": "markdown",
   "metadata": {},
   "source": [
    "В итоге можно сделать промежуточный вывод: мы можем наблюдать положительную динамику в связи с внедрением новой системы оплаты. Все исследуемые метрики показывают улучшения более чем в полтора раза больше у тестовой по сравнению с контрольной группой. Так же, в контрольной группе активных пользователей (127) больше, чеи в тестовой (96). Что может говорить о том, что пользователи с новым экраном оплаты быстрее принимают решение о покупке.\n",
    "\n",
    "Но делать окончательные выводы еще рано, поскольку эксперимент охватил только примерно сутки (данные собраны с 2021-10-30 13:00 по 2021-10-31 17:30) и не учитывается поведение аудитории в остальные дни недели. Возможно, изменение имеет отложенный эффект: в понедельник пользователь попал в тестовую группу, а в пятницу принял решение. Так как у каждой метрики есть \"окно\" — пользователь не сразу принимает решение о том, чтобы совершить желанное действие для продукта. Обычно это связано с ценой продукта. Чем выше цена, тем больше времени требуется пользователю для принятия решения о покупке. Поэтому, чтобы сделать какие-то выводы, необходимо продлить эксперимент по времени и собрать больше данных. Если тенденция сохранится и пользователи будут быстрее принимать решение о покупке в тестовой группе, то можно будет считать эксперимент положительным."
   ]
  },
  {
   "cell_type": "code",
   "execution_count": null,
   "metadata": {},
   "outputs": [],
   "source": []
  },
  {
   "cell_type": "markdown",
   "metadata": {},
   "source": [
    "# Python\n",
    "- Реализовать функцию, которая будет автоматически подгружать информацию из дополнительного файла  и на основании дополнительных параметров пересчитывать метрики.\n",
    "- Реализовать функцию, которая будет строить графики по получаемым метрикам."
   ]
  },
  {
   "cell_type": "code",
   "execution_count": 184,
   "metadata": {},
   "outputs": [],
   "source": [
    "# в переменную public_key сохраним ссылку на Яндекс.Диск, где находятся данные для скачивания\n",
    "public_key = 'https://disk.yandex.ru/d/5Kxrz02m3IBUwQ'"
   ]
  },
  {
   "cell_type": "code",
   "execution_count": 185,
   "metadata": {},
   "outputs": [],
   "source": [
    "def add_information(public_key, active_studs, checks, experiment):\n",
    "    \"\"\"функция, которая будет автоматически подгружать информацию из дополнительного файла: \n",
    "    скачать, объеденить данные и подсчитать метрики\"\"\"\n",
    "    final_url = base_url + urlencode(dict(public_key=public_key)) \n",
    "    groups_add = pd.read_csv(requests.get(final_url).json()['href'])\n",
    "#   объединяем с active_studs, используем inner join, так останутся только те, совпадают по новой таблице\n",
    "    add_user = pd.merge(active_studs, groups_add, left_on='student_id', right_on='id').drop('id', axis=1)\n",
    "#   добавляем информацию о чеках\n",
    "    add_user = pd.merge(add_user, checks, how='left').fillna(0)\n",
    "#   делаем колонку, где купивший - 1, не купивший - 0\n",
    "    add_user['purchase'] = add_user.rev.apply(lambda x: 0 if x == 0 else 1)\n",
    "#   добавляем в основную таблицу новую информацию\n",
    "    experiment = pd.concat([experiment, add_user], ignore_index=True)\n",
    "#   группируем по группам, и подсчитываем кол-во пользоватлелей, принесенный ими доход, ARPU (средний платеж по группам)\n",
    "    metrics_add = experiment.groupby('grp', as_index=False).agg(quantity=('student_id', 'count'),\n",
    "                                                                money=('rev', 'sum'),\n",
    "                                                                ARPU=('rev', 'mean'),\n",
    "                                                                CR=('purchase', 'mean'),\n",
    "                                                                buyers=('purchase', 'sum'))\n",
    "# посчитаем ARPPU, разделим доход от пользователей на кол-во купивших пользователей\n",
    "    metrics_add['ARPPU'] = metrics_add.money / metrics_add.buyers\n",
    "    return metrics_add"
   ]
  },
  {
   "cell_type": "code",
   "execution_count": 186,
   "metadata": {},
   "outputs": [],
   "source": [
    "def vizualization(x):\n",
    "    \"\"\"функция, которая строит графики по метрикам: CR, ARPU, ARPPU\"\"\"\n",
    "    # рисуем три барплота подряд\n",
    "    fig, axes = plt.subplots(3, figsize=(8, 10), sharex=True)\n",
    "    fig.suptitle('Metrics')\n",
    "    # CR\n",
    "    sns.barplot(data=x, x='grp', y='CR', ax=axes[0])\n",
    "    axes[0].set_title('CR')\n",
    "    fig.get_axes()[0].set_ylabel('Purchases, %')\n",
    "    # ARPU\n",
    "    sns.barplot(data=x, x='grp', y='ARPU', ax=axes[1])\n",
    "    axes[1].set_title('ARPU')\n",
    "    fig.get_axes()[1].set_ylabel('Revenue')\n",
    "    # ARPPU\n",
    "    sns.barplot(data=x, x='grp', y='ARPPU', ax=axes[2])\n",
    "    axes[2].set_title('ARPPU')\n",
    "    fig.get_axes()[2].set_ylabel('Revenue')\n",
    "    fig.get_axes()[2].set_xlabel('Groups')\n",
    "    \n",
    "    # убирем подпись под графиками, кроме последнего\n",
    "    for ax in fig.get_axes():\n",
    "        ax.label_outer()"
   ]
  },
  {
   "cell_type": "code",
   "execution_count": 187,
   "metadata": {},
   "outputs": [
    {
     "ename": "KeyError",
     "evalue": "'href'",
     "output_type": "error",
     "traceback": [
      "\u001b[0;31m---------------------------------------------------------------------------\u001b[0m",
      "\u001b[0;31mKeyError\u001b[0m                                  Traceback (most recent call last)",
      "\u001b[0;32m<ipython-input-187-e6beecbfe372>\u001b[0m in \u001b[0;36m<module>\u001b[0;34m\u001b[0m\n\u001b[1;32m      1\u001b[0m \u001b[0;31m# применим функцию и обновим данные\u001b[0m\u001b[0;34m\u001b[0m\u001b[0;34m\u001b[0m\u001b[0;34m\u001b[0m\u001b[0m\n\u001b[0;32m----> 2\u001b[0;31m \u001b[0mmetrics_add\u001b[0m \u001b[0;34m=\u001b[0m \u001b[0madd_information\u001b[0m\u001b[0;34m(\u001b[0m\u001b[0mpublic_key\u001b[0m\u001b[0;34m,\u001b[0m \u001b[0mactive_studs\u001b[0m\u001b[0;34m,\u001b[0m \u001b[0mchecks\u001b[0m\u001b[0;34m,\u001b[0m \u001b[0mexperiment\u001b[0m\u001b[0;34m)\u001b[0m\u001b[0;34m\u001b[0m\u001b[0;34m\u001b[0m\u001b[0m\n\u001b[0m",
      "\u001b[0;32m<ipython-input-185-21bf936aeed8>\u001b[0m in \u001b[0;36madd_information\u001b[0;34m(public_key, active_studs, checks, experiment)\u001b[0m\n\u001b[1;32m      3\u001b[0m     скачать, объеденить данные и подсчитать метрики\"\"\"\n\u001b[1;32m      4\u001b[0m     \u001b[0mfinal_url\u001b[0m \u001b[0;34m=\u001b[0m \u001b[0mbase_url\u001b[0m \u001b[0;34m+\u001b[0m \u001b[0murlencode\u001b[0m\u001b[0;34m(\u001b[0m\u001b[0mdict\u001b[0m\u001b[0;34m(\u001b[0m\u001b[0mpublic_key\u001b[0m\u001b[0;34m=\u001b[0m\u001b[0mpublic_key\u001b[0m\u001b[0;34m)\u001b[0m\u001b[0;34m)\u001b[0m\u001b[0;34m\u001b[0m\u001b[0;34m\u001b[0m\u001b[0m\n\u001b[0;32m----> 5\u001b[0;31m     \u001b[0mgroups_add\u001b[0m \u001b[0;34m=\u001b[0m \u001b[0mpd\u001b[0m\u001b[0;34m.\u001b[0m\u001b[0mread_csv\u001b[0m\u001b[0;34m(\u001b[0m\u001b[0mrequests\u001b[0m\u001b[0;34m.\u001b[0m\u001b[0mget\u001b[0m\u001b[0;34m(\u001b[0m\u001b[0mfinal_url\u001b[0m\u001b[0;34m)\u001b[0m\u001b[0;34m.\u001b[0m\u001b[0mjson\u001b[0m\u001b[0;34m(\u001b[0m\u001b[0;34m)\u001b[0m\u001b[0;34m[\u001b[0m\u001b[0;34m'href'\u001b[0m\u001b[0;34m]\u001b[0m\u001b[0;34m)\u001b[0m\u001b[0;34m\u001b[0m\u001b[0;34m\u001b[0m\u001b[0m\n\u001b[0m\u001b[1;32m      6\u001b[0m \u001b[0;31m#   объединяем с active_studs, используем inner join, так останутся только те, совпадают по новой таблице\u001b[0m\u001b[0;34m\u001b[0m\u001b[0;34m\u001b[0m\u001b[0;34m\u001b[0m\u001b[0m\n\u001b[1;32m      7\u001b[0m     \u001b[0madd_user\u001b[0m \u001b[0;34m=\u001b[0m \u001b[0mpd\u001b[0m\u001b[0;34m.\u001b[0m\u001b[0mmerge\u001b[0m\u001b[0;34m(\u001b[0m\u001b[0mactive_studs\u001b[0m\u001b[0;34m,\u001b[0m \u001b[0mgroups_add\u001b[0m\u001b[0;34m,\u001b[0m \u001b[0mleft_on\u001b[0m\u001b[0;34m=\u001b[0m\u001b[0;34m'student_id'\u001b[0m\u001b[0;34m,\u001b[0m \u001b[0mright_on\u001b[0m\u001b[0;34m=\u001b[0m\u001b[0;34m'id'\u001b[0m\u001b[0;34m)\u001b[0m\u001b[0;34m.\u001b[0m\u001b[0mdrop\u001b[0m\u001b[0;34m(\u001b[0m\u001b[0;34m'id'\u001b[0m\u001b[0;34m,\u001b[0m \u001b[0maxis\u001b[0m\u001b[0;34m=\u001b[0m\u001b[0;36m1\u001b[0m\u001b[0;34m)\u001b[0m\u001b[0;34m\u001b[0m\u001b[0;34m\u001b[0m\u001b[0m\n",
      "\u001b[0;31mKeyError\u001b[0m: 'href'"
     ]
    }
   ],
   "source": [
    "# применим функцию и обновим данные\n",
    "metrics_add = add_information(public_key, active_studs, checks, experiment)"
   ]
  },
  {
   "cell_type": "code",
   "execution_count": null,
   "metadata": {},
   "outputs": [],
   "source": [
    "# рисуем графики по обновленным данным\n",
    "vizualization(metrics_add)"
   ]
  },
  {
   "cell_type": "code",
   "execution_count": null,
   "metadata": {},
   "outputs": [],
   "source": [
    "# таблица метрик без дополнительной информации\n",
    "metrics"
   ]
  },
  {
   "cell_type": "code",
   "execution_count": null,
   "metadata": {},
   "outputs": [],
   "source": [
    "# таблица метрик с обновленными данными\n",
    "metrics_add"
   ]
  }
 ],
 "metadata": {
  "kernelspec": {
   "display_name": "Python 3",
   "language": "python",
   "name": "python3"
  },
  "language_info": {
   "codemirror_mode": {
    "name": "ipython",
    "version": 3
   },
   "file_extension": ".py",
   "mimetype": "text/x-python",
   "name": "python",
   "nbconvert_exporter": "python",
   "pygments_lexer": "ipython3",
   "version": "3.7.3"
  }
 },
 "nbformat": 4,
 "nbformat_minor": 4
}
