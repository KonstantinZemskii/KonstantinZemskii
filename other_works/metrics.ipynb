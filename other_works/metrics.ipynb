{
 "cells": [
  {
   "cell_type": "code",
   "execution_count": 1,
   "metadata": {},
   "outputs": [],
   "source": [
    "import pandas as pd"
   ]
  },
  {
   "cell_type": "code",
   "execution_count": 2,
   "metadata": {},
   "outputs": [],
   "source": [
    "from urllib.parse import urlencode\n",
    "import requests\n",
    "# Чтобы загрузить данные в Jupyter Notebook, используем api Яндекс.Диска.\n",
    "base_url = 'https://cloud-api.yandex.net/v1/disk/public/resources/download?'"
   ]
  },
  {
   "cell_type": "code",
   "execution_count": 3,
   "metadata": {},
   "outputs": [],
   "source": [
    "# в переменную public_key сохраним ссылку на Яндекс.Диска, где находятся данные для скачивания\n",
    "public_key = 'https://disk.yandex.ru/d/Ta-weYfGM5CHjg' \n",
    "\n",
    "final_url = base_url + urlencode(dict(public_key=public_key)) \n",
    "data = pd.read_csv(requests.get(final_url).json()['href'])"
   ]
  },
  {
   "cell_type": "code",
   "execution_count": 4,
   "metadata": {},
   "outputs": [
    {
     "data": {
      "text/html": [
       "<div>\n",
       "<style scoped>\n",
       "    .dataframe tbody tr th:only-of-type {\n",
       "        vertical-align: middle;\n",
       "    }\n",
       "\n",
       "    .dataframe tbody tr th {\n",
       "        vertical-align: top;\n",
       "    }\n",
       "\n",
       "    .dataframe thead th {\n",
       "        text-align: right;\n",
       "    }\n",
       "</style>\n",
       "<table border=\"1\" class=\"dataframe\">\n",
       "  <thead>\n",
       "    <tr style=\"text-align: right;\">\n",
       "      <th></th>\n",
       "      <th>date</th>\n",
       "      <th>event</th>\n",
       "      <th>purchase_sum</th>\n",
       "      <th>os_name</th>\n",
       "      <th>device_id</th>\n",
       "      <th>gender</th>\n",
       "      <th>city</th>\n",
       "      <th>utm_source</th>\n",
       "    </tr>\n",
       "  </thead>\n",
       "  <tbody>\n",
       "    <tr>\n",
       "      <th>0</th>\n",
       "      <td>2020-01-01</td>\n",
       "      <td>app_start</td>\n",
       "      <td>NaN</td>\n",
       "      <td>android</td>\n",
       "      <td>669460</td>\n",
       "      <td>female</td>\n",
       "      <td>Moscow</td>\n",
       "      <td>-</td>\n",
       "    </tr>\n",
       "    <tr>\n",
       "      <th>1</th>\n",
       "      <td>2020-01-01</td>\n",
       "      <td>app_start</td>\n",
       "      <td>NaN</td>\n",
       "      <td>ios</td>\n",
       "      <td>833621</td>\n",
       "      <td>male</td>\n",
       "      <td>Moscow</td>\n",
       "      <td>vk_ads</td>\n",
       "    </tr>\n",
       "  </tbody>\n",
       "</table>\n",
       "</div>"
      ],
      "text/plain": [
       "         date      event  purchase_sum  os_name  device_id  gender    city  \\\n",
       "0  2020-01-01  app_start           NaN  android     669460  female  Moscow   \n",
       "1  2020-01-01  app_start           NaN      ios     833621    male  Moscow   \n",
       "\n",
       "  utm_source  \n",
       "0          -  \n",
       "1     vk_ads  "
      ]
     },
     "execution_count": 4,
     "metadata": {},
     "output_type": "execute_result"
    }
   ],
   "source": [
    "data.head(2)"
   ]
  },
  {
   "cell_type": "code",
   "execution_count": 5,
   "metadata": {},
   "outputs": [
    {
     "data": {
      "text/plain": [
       "date             object\n",
       "event            object\n",
       "purchase_sum    float64\n",
       "os_name          object\n",
       "device_id         int64\n",
       "gender           object\n",
       "city             object\n",
       "utm_source       object\n",
       "dtype: object"
      ]
     },
     "execution_count": 5,
     "metadata": {},
     "output_type": "execute_result"
    }
   ],
   "source": [
    "data.dtypes"
   ]
  },
  {
   "cell_type": "code",
   "execution_count": 6,
   "metadata": {},
   "outputs": [],
   "source": [
    "# перевод в дату\n",
    "data.date = pd.to_datetime(data.date)"
   ]
  },
  {
   "cell_type": "markdown",
   "metadata": {},
   "source": [
    "# MAU февраля:\n",
    "Количество уникальных пользователей за месяц"
   ]
  },
  {
   "cell_type": "code",
   "execution_count": 9,
   "metadata": {},
   "outputs": [],
   "source": [
    "# вытаскиваем из даты название месяца\n",
    "data['month'] = data.date.dt.month_name()"
   ]
  },
  {
   "cell_type": "code",
   "execution_count": 10,
   "metadata": {},
   "outputs": [
    {
     "data": {
      "text/html": [
       "<div>\n",
       "<style scoped>\n",
       "    .dataframe tbody tr th:only-of-type {\n",
       "        vertical-align: middle;\n",
       "    }\n",
       "\n",
       "    .dataframe tbody tr th {\n",
       "        vertical-align: top;\n",
       "    }\n",
       "\n",
       "    .dataframe thead th {\n",
       "        text-align: right;\n",
       "    }\n",
       "</style>\n",
       "<table border=\"1\" class=\"dataframe\">\n",
       "  <thead>\n",
       "    <tr style=\"text-align: right;\">\n",
       "      <th></th>\n",
       "      <th>date</th>\n",
       "      <th>event</th>\n",
       "      <th>purchase_sum</th>\n",
       "      <th>os_name</th>\n",
       "      <th>device_id</th>\n",
       "      <th>gender</th>\n",
       "      <th>city</th>\n",
       "      <th>utm_source</th>\n",
       "      <th>month</th>\n",
       "    </tr>\n",
       "  </thead>\n",
       "  <tbody>\n",
       "    <tr>\n",
       "      <th>0</th>\n",
       "      <td>2020-01-01</td>\n",
       "      <td>app_start</td>\n",
       "      <td>NaN</td>\n",
       "      <td>android</td>\n",
       "      <td>669460</td>\n",
       "      <td>female</td>\n",
       "      <td>Moscow</td>\n",
       "      <td>-</td>\n",
       "      <td>January</td>\n",
       "    </tr>\n",
       "    <tr>\n",
       "      <th>1</th>\n",
       "      <td>2020-01-01</td>\n",
       "      <td>app_start</td>\n",
       "      <td>NaN</td>\n",
       "      <td>ios</td>\n",
       "      <td>833621</td>\n",
       "      <td>male</td>\n",
       "      <td>Moscow</td>\n",
       "      <td>vk_ads</td>\n",
       "      <td>January</td>\n",
       "    </tr>\n",
       "  </tbody>\n",
       "</table>\n",
       "</div>"
      ],
      "text/plain": [
       "        date      event  purchase_sum  os_name  device_id  gender    city  \\\n",
       "0 2020-01-01  app_start           NaN  android     669460  female  Moscow   \n",
       "1 2020-01-01  app_start           NaN      ios     833621    male  Moscow   \n",
       "\n",
       "  utm_source    month  \n",
       "0          -  January  \n",
       "1     vk_ads  January  "
      ]
     },
     "execution_count": 10,
     "metadata": {},
     "output_type": "execute_result"
    }
   ],
   "source": [
    "# проверяем\n",
    "data.head(2)"
   ]
  },
  {
   "cell_type": "code",
   "execution_count": 11,
   "metadata": {},
   "outputs": [
    {
     "data": {
      "text/plain": [
       "array(['January', 'February', 'March'], dtype=object)"
      ]
     },
     "execution_count": 11,
     "metadata": {},
     "output_type": "execute_result"
    }
   ],
   "source": [
    "# посмотрим сколько всего месяцев есть в данных\n",
    "data.month.unique()"
   ]
  },
  {
   "cell_type": "code",
   "execution_count": 12,
   "metadata": {},
   "outputs": [],
   "source": [
    "# найдем ответ, посчитаем кол-во уникальных\n",
    "mau = data.query(\"month == 'February'\").device_id.nunique()"
   ]
  },
  {
   "cell_type": "code",
   "execution_count": 13,
   "metadata": {},
   "outputs": [
    {
     "name": "stdout",
     "output_type": "stream",
     "text": [
      "MAU february: 75032\n"
     ]
    }
   ],
   "source": [
    "print(f'MAU february: {mau}')"
   ]
  },
  {
   "cell_type": "markdown",
   "metadata": {},
   "source": [
    "# Количество установок в январе"
   ]
  },
  {
   "cell_type": "code",
   "execution_count": 14,
   "metadata": {},
   "outputs": [],
   "source": [
    "january_install = data.query('month == \"January\" and event == \"app_install\"').shape[0]"
   ]
  },
  {
   "cell_type": "code",
   "execution_count": 15,
   "metadata": {},
   "outputs": [
    {
     "name": "stdout",
     "output_type": "stream",
     "text": [
      "January install: 80297\n"
     ]
    }
   ],
   "source": [
    "print(f'January install: {january_install}')"
   ]
  },
  {
   "cell_type": "markdown",
   "metadata": {},
   "source": [
    "# Присвойте пользователям когорты по дню установки приложения и посчитайте для них  конверсию из установки в покупку в течение 7 дней. Для какой когорты конверсия была наибольшей?"
   ]
  },
  {
   "cell_type": "code",
   "execution_count": 16,
   "metadata": {},
   "outputs": [
    {
     "data": {
      "text/plain": [
       "2747968"
      ]
     },
     "execution_count": 16,
     "metadata": {},
     "output_type": "execute_result"
    }
   ],
   "source": [
    "data.shape[0]"
   ]
  },
  {
   "cell_type": "code",
   "execution_count": 17,
   "metadata": {},
   "outputs": [
    {
     "data": {
      "text/plain": [
       "array(['app_start', 'choose_item', 'purchase', 'search', 'tap_basket',\n",
       "       'app_install', 'register'], dtype=object)"
      ]
     },
     "execution_count": 17,
     "metadata": {},
     "output_type": "execute_result"
    }
   ],
   "source": [
    "data.event.unique()"
   ]
  },
  {
   "cell_type": "code",
   "execution_count": 18,
   "metadata": {},
   "outputs": [],
   "source": [
    "# отдельно в таблицу запишем только покупки пользователей\n",
    "purchases = data.query('event == \"purchase\"')"
   ]
  },
  {
   "cell_type": "code",
   "execution_count": 19,
   "metadata": {},
   "outputs": [],
   "source": [
    "# так же, но только для установок\n",
    "installs = data.query('event == \"app_install\"')"
   ]
  },
  {
   "cell_type": "code",
   "execution_count": 22,
   "metadata": {},
   "outputs": [],
   "source": [
    "# в покупках оставим у пользователей дату только первой покупки\n",
    "purchases = purchases.groupby('device_id', as_index=False).agg(date_purchase=('date', 'min'))"
   ]
  },
  {
   "cell_type": "code",
   "execution_count": 23,
   "metadata": {},
   "outputs": [],
   "source": [
    "# переименуем колонку для удобства\n",
    "installs = installs.rename(columns={'date': 'date_install'})"
   ]
  },
  {
   "cell_type": "code",
   "execution_count": 28,
   "metadata": {},
   "outputs": [],
   "source": [
    "# объединим таблицы, так у пользователя будет дата установки и дата покупки\n",
    "cohort_analysis = pd.merge(installs[['device_id', 'date_install']],\n",
    "         purchases[['device_id', 'date_purchase']],\n",
    "        on='device_id',\n",
    "        how='left')"
   ]
  },
  {
   "cell_type": "code",
   "execution_count": 30,
   "metadata": {},
   "outputs": [],
   "source": [
    "# посчитаем разницу по дням между установкой и первой покупкой\n",
    "cohort_analysis['date_diff'] = (cohort_analysis.date_purchase - cohort_analysis.date_install).dt.days"
   ]
  },
  {
   "cell_type": "code",
   "execution_count": 35,
   "metadata": {},
   "outputs": [
    {
     "data": {
      "text/html": [
       "<div>\n",
       "<style scoped>\n",
       "    .dataframe tbody tr th:only-of-type {\n",
       "        vertical-align: middle;\n",
       "    }\n",
       "\n",
       "    .dataframe tbody tr th {\n",
       "        vertical-align: top;\n",
       "    }\n",
       "\n",
       "    .dataframe thead th {\n",
       "        text-align: right;\n",
       "    }\n",
       "</style>\n",
       "<table border=\"1\" class=\"dataframe\">\n",
       "  <thead>\n",
       "    <tr style=\"text-align: right;\">\n",
       "      <th></th>\n",
       "      <th>device_id</th>\n",
       "      <th>date_install</th>\n",
       "      <th>date_purchase</th>\n",
       "      <th>date_diff</th>\n",
       "    </tr>\n",
       "  </thead>\n",
       "  <tbody>\n",
       "    <tr>\n",
       "      <th>0</th>\n",
       "      <td>4921563</td>\n",
       "      <td>2020-01-01</td>\n",
       "      <td>2020-01-10</td>\n",
       "      <td>9.0</td>\n",
       "    </tr>\n",
       "    <tr>\n",
       "      <th>1</th>\n",
       "      <td>1311583</td>\n",
       "      <td>2020-01-01</td>\n",
       "      <td>NaT</td>\n",
       "      <td>NaN</td>\n",
       "    </tr>\n",
       "    <tr>\n",
       "      <th>2</th>\n",
       "      <td>23006325</td>\n",
       "      <td>2020-01-01</td>\n",
       "      <td>2020-01-01</td>\n",
       "      <td>0.0</td>\n",
       "    </tr>\n",
       "    <tr>\n",
       "      <th>3</th>\n",
       "      <td>5645652</td>\n",
       "      <td>2020-01-01</td>\n",
       "      <td>NaT</td>\n",
       "      <td>NaN</td>\n",
       "    </tr>\n",
       "    <tr>\n",
       "      <th>4</th>\n",
       "      <td>8798567</td>\n",
       "      <td>2020-01-01</td>\n",
       "      <td>NaT</td>\n",
       "      <td>NaN</td>\n",
       "    </tr>\n",
       "  </tbody>\n",
       "</table>\n",
       "</div>"
      ],
      "text/plain": [
       "   device_id date_install date_purchase  date_diff\n",
       "0    4921563   2020-01-01    2020-01-10        9.0\n",
       "1    1311583   2020-01-01           NaT        NaN\n",
       "2   23006325   2020-01-01    2020-01-01        0.0\n",
       "3    5645652   2020-01-01           NaT        NaN\n",
       "4    8798567   2020-01-01           NaT        NaN"
      ]
     },
     "execution_count": 35,
     "metadata": {},
     "output_type": "execute_result"
    }
   ],
   "source": [
    "cohort_analysis.head()"
   ]
  },
  {
   "cell_type": "code",
   "execution_count": 32,
   "metadata": {},
   "outputs": [],
   "source": [
    "# оставим только покупки, совершенные в первую неделю и запишем в новую таблицу\n",
    "purchases_first_week = cohort_analysis.query('date_diff < 8')"
   ]
  },
  {
   "cell_type": "code",
   "execution_count": 36,
   "metadata": {},
   "outputs": [],
   "source": [
    "# группируем пользователей по дате установки, это когорта (т.к. когорты по дате установки) и посчитаем всех в этой когорте\n",
    "cohort_analysis = cohort_analysis.groupby('date_install', as_index=False) \\\n",
    "                .agg({'device_id': 'count'}) \\\n",
    "                .rename(columns={'device_id': 'installs'})"
   ]
  },
  {
   "cell_type": "code",
   "execution_count": 37,
   "metadata": {},
   "outputs": [],
   "source": [
    "# так же сгруппируем всех по когорте, и таким образом посчитаем тех, кто совершил покупку в течении недели\n",
    "purchases_first_week = purchases_first_week.groupby('date_install', as_index=False) \\\n",
    "                    .agg({'device_id': 'count'}) \\\n",
    "                    .rename(columns={'device_id': 'in_week'})"
   ]
  },
  {
   "cell_type": "code",
   "execution_count": 38,
   "metadata": {},
   "outputs": [],
   "source": [
    "# соединим 2 таблицу по когортам\n",
    "cohort_analysis = pd.merge(cohort_analysis, purchases_first_week)"
   ]
  },
  {
   "cell_type": "code",
   "execution_count": 39,
   "metadata": {},
   "outputs": [],
   "source": [
    "# посчитаем конверсию\n",
    "cohort_analysis['CR'] = cohort_analysis.in_week / cohort_analysis.installs"
   ]
  },
  {
   "cell_type": "code",
   "execution_count": 40,
   "metadata": {},
   "outputs": [
    {
     "data": {
      "text/html": [
       "<div>\n",
       "<style scoped>\n",
       "    .dataframe tbody tr th:only-of-type {\n",
       "        vertical-align: middle;\n",
       "    }\n",
       "\n",
       "    .dataframe tbody tr th {\n",
       "        vertical-align: top;\n",
       "    }\n",
       "\n",
       "    .dataframe thead th {\n",
       "        text-align: right;\n",
       "    }\n",
       "</style>\n",
       "<table border=\"1\" class=\"dataframe\">\n",
       "  <thead>\n",
       "    <tr style=\"text-align: right;\">\n",
       "      <th></th>\n",
       "      <th>date_install</th>\n",
       "      <th>installs</th>\n",
       "      <th>in_week</th>\n",
       "      <th>CR</th>\n",
       "    </tr>\n",
       "  </thead>\n",
       "  <tbody>\n",
       "    <tr>\n",
       "      <th>0</th>\n",
       "      <td>2020-01-01</td>\n",
       "      <td>3579</td>\n",
       "      <td>1408</td>\n",
       "      <td>0.393406</td>\n",
       "    </tr>\n",
       "    <tr>\n",
       "      <th>1</th>\n",
       "      <td>2020-01-02</td>\n",
       "      <td>3144</td>\n",
       "      <td>1186</td>\n",
       "      <td>0.377226</td>\n",
       "    </tr>\n",
       "    <tr>\n",
       "      <th>2</th>\n",
       "      <td>2020-01-03</td>\n",
       "      <td>2402</td>\n",
       "      <td>834</td>\n",
       "      <td>0.347211</td>\n",
       "    </tr>\n",
       "    <tr>\n",
       "      <th>3</th>\n",
       "      <td>2020-01-04</td>\n",
       "      <td>1831</td>\n",
       "      <td>639</td>\n",
       "      <td>0.348990</td>\n",
       "    </tr>\n",
       "    <tr>\n",
       "      <th>4</th>\n",
       "      <td>2020-01-05</td>\n",
       "      <td>1671</td>\n",
       "      <td>587</td>\n",
       "      <td>0.351287</td>\n",
       "    </tr>\n",
       "    <tr>\n",
       "      <th>...</th>\n",
       "      <td>...</td>\n",
       "      <td>...</td>\n",
       "      <td>...</td>\n",
       "      <td>...</td>\n",
       "    </tr>\n",
       "    <tr>\n",
       "      <th>86</th>\n",
       "      <td>2020-03-27</td>\n",
       "      <td>1199</td>\n",
       "      <td>277</td>\n",
       "      <td>0.231026</td>\n",
       "    </tr>\n",
       "    <tr>\n",
       "      <th>87</th>\n",
       "      <td>2020-03-28</td>\n",
       "      <td>1091</td>\n",
       "      <td>209</td>\n",
       "      <td>0.191567</td>\n",
       "    </tr>\n",
       "    <tr>\n",
       "      <th>88</th>\n",
       "      <td>2020-03-29</td>\n",
       "      <td>1117</td>\n",
       "      <td>223</td>\n",
       "      <td>0.199642</td>\n",
       "    </tr>\n",
       "    <tr>\n",
       "      <th>89</th>\n",
       "      <td>2020-03-30</td>\n",
       "      <td>994</td>\n",
       "      <td>204</td>\n",
       "      <td>0.205231</td>\n",
       "    </tr>\n",
       "    <tr>\n",
       "      <th>90</th>\n",
       "      <td>2020-03-31</td>\n",
       "      <td>968</td>\n",
       "      <td>241</td>\n",
       "      <td>0.248967</td>\n",
       "    </tr>\n",
       "  </tbody>\n",
       "</table>\n",
       "<p>91 rows × 4 columns</p>\n",
       "</div>"
      ],
      "text/plain": [
       "   date_install  installs  in_week        CR\n",
       "0    2020-01-01      3579     1408  0.393406\n",
       "1    2020-01-02      3144     1186  0.377226\n",
       "2    2020-01-03      2402      834  0.347211\n",
       "3    2020-01-04      1831      639  0.348990\n",
       "4    2020-01-05      1671      587  0.351287\n",
       "..          ...       ...      ...       ...\n",
       "86   2020-03-27      1199      277  0.231026\n",
       "87   2020-03-28      1091      209  0.191567\n",
       "88   2020-03-29      1117      223  0.199642\n",
       "89   2020-03-30       994      204  0.205231\n",
       "90   2020-03-31       968      241  0.248967\n",
       "\n",
       "[91 rows x 4 columns]"
      ]
     },
     "execution_count": 40,
     "metadata": {},
     "output_type": "execute_result"
    }
   ],
   "source": [
    "cohort_analysis"
   ]
  },
  {
   "cell_type": "code",
   "execution_count": 41,
   "metadata": {},
   "outputs": [
    {
     "data": {
      "text/plain": [
       "date_install    2020-01-01 00:00:00\n",
       "installs                       3579\n",
       "in_week                        1408\n",
       "CR                         0.393406\n",
       "Name: 0, dtype: object"
      ]
     },
     "execution_count": 41,
     "metadata": {},
     "output_type": "execute_result"
    }
   ],
   "source": [
    "# найдем когорту с самым высоким CR\n",
    "cohort_analysis.iloc[cohort_analysis.CR.idxmax()]"
   ]
  },
  {
   "cell_type": "code",
   "execution_count": null,
   "metadata": {},
   "outputs": [],
   "source": [
    "round(cohort_analysis.CR.max() * 100, 1)"
   ]
  },
  {
   "cell_type": "markdown",
   "metadata": {},
   "source": [
    "# С какого платного маркетингового канала пришло больше всего новых пользователей?"
   ]
  },
  {
   "cell_type": "code",
   "execution_count": null,
   "metadata": {},
   "outputs": [],
   "source": [
    "best_add = data.drop_duplicates('device_id')"
   ]
  },
  {
   "cell_type": "code",
   "execution_count": null,
   "metadata": {},
   "outputs": [],
   "source": [
    "best_add.device_id.nunique()"
   ]
  },
  {
   "cell_type": "code",
   "execution_count": null,
   "metadata": {},
   "outputs": [],
   "source": [
    "best_add = best_add.query('utm_source != \"-\"')"
   ]
  },
  {
   "cell_type": "code",
   "execution_count": null,
   "metadata": {},
   "outputs": [],
   "source": [
    "best_add.utm_source.value_counts().head(1).index"
   ]
  },
  {
   "cell_type": "markdown",
   "metadata": {},
   "source": [
    "# Проанализируйте на каком этапе воронки отваливается бОльшая часть клиентов. Посмотрите отдельно сценарии для зарегистрированных и для незарегистрированных пользователей. На каком шаге отваливается больше всего зарегистрированных пользователей?"
   ]
  },
  {
   "cell_type": "code",
   "execution_count": 7,
   "metadata": {},
   "outputs": [],
   "source": [
    "# это по всем, по уникальному device_id найдем распределение по событиям\n",
    "# app_install не рассматриваем, так как на момент сбора данных пользователь мог скачать раньше и не попасть в таблицу\n",
    "funnel_all = data.query('event != \"app_install\"') \\\n",
    "                .groupby('event', as_index=False) \\\n",
    "                .agg({'device_id': 'nunique'}) \\\n",
    "                .sort_values('device_id', ascending=False)"
   ]
  },
  {
   "cell_type": "code",
   "execution_count": 8,
   "metadata": {},
   "outputs": [],
   "source": [
    "# в переменную сохраним максимальное число(это как раз и будет первый шаг пользователя), чтобы долю найти\n",
    "first_step = funnel_all.device_id.max()"
   ]
  },
  {
   "cell_type": "code",
   "execution_count": 9,
   "metadata": {},
   "outputs": [],
   "source": [
    "# находим долю\n",
    "funnel_all['share'] = funnel_all.device_id.apply(lambda x: round(x / first_step * 100, 2))"
   ]
  },
  {
   "cell_type": "code",
   "execution_count": 10,
   "metadata": {},
   "outputs": [
    {
     "data": {
      "text/html": [
       "<div>\n",
       "<style scoped>\n",
       "    .dataframe tbody tr th:only-of-type {\n",
       "        vertical-align: middle;\n",
       "    }\n",
       "\n",
       "    .dataframe tbody tr th {\n",
       "        vertical-align: top;\n",
       "    }\n",
       "\n",
       "    .dataframe thead th {\n",
       "        text-align: right;\n",
       "    }\n",
       "</style>\n",
       "<table border=\"1\" class=\"dataframe\">\n",
       "  <thead>\n",
       "    <tr style=\"text-align: right;\">\n",
       "      <th></th>\n",
       "      <th>event</th>\n",
       "      <th>device_id</th>\n",
       "      <th>share</th>\n",
       "    </tr>\n",
       "  </thead>\n",
       "  <tbody>\n",
       "    <tr>\n",
       "      <th>0</th>\n",
       "      <td>app_start</td>\n",
       "      <td>190884</td>\n",
       "      <td>100.00</td>\n",
       "    </tr>\n",
       "    <tr>\n",
       "      <th>4</th>\n",
       "      <td>search</td>\n",
       "      <td>184488</td>\n",
       "      <td>96.65</td>\n",
       "    </tr>\n",
       "    <tr>\n",
       "      <th>1</th>\n",
       "      <td>choose_item</td>\n",
       "      <td>155691</td>\n",
       "      <td>81.56</td>\n",
       "    </tr>\n",
       "    <tr>\n",
       "      <th>5</th>\n",
       "      <td>tap_basket</td>\n",
       "      <td>125414</td>\n",
       "      <td>65.70</td>\n",
       "    </tr>\n",
       "    <tr>\n",
       "      <th>3</th>\n",
       "      <td>register</td>\n",
       "      <td>78310</td>\n",
       "      <td>41.02</td>\n",
       "    </tr>\n",
       "    <tr>\n",
       "      <th>2</th>\n",
       "      <td>purchase</td>\n",
       "      <td>70875</td>\n",
       "      <td>37.13</td>\n",
       "    </tr>\n",
       "  </tbody>\n",
       "</table>\n",
       "</div>"
      ],
      "text/plain": [
       "         event  device_id   share\n",
       "0    app_start     190884  100.00\n",
       "4       search     184488   96.65\n",
       "1  choose_item     155691   81.56\n",
       "5   tap_basket     125414   65.70\n",
       "3     register      78310   41.02\n",
       "2     purchase      70875   37.13"
      ]
     },
     "execution_count": 10,
     "metadata": {},
     "output_type": "execute_result"
    }
   ],
   "source": [
    "# между переходом в корзину и регистрацией теряется больше всего пользователей\n",
    "funnel_all"
   ]
  },
  {
   "cell_type": "markdown",
   "metadata": {},
   "source": [
    "посмотрим теперь отдельно зарегестрированных и нет"
   ]
  },
  {
   "cell_type": "code",
   "execution_count": 17,
   "metadata": {},
   "outputs": [],
   "source": [
    "# в отдельную переменную сохраняем дату регистрации каждого пользователя и device_id\n",
    "registration = data.query('event == \"register\"').rename(columns={'date': 'reg_date'})[['device_id', 'reg_date']]"
   ]
  },
  {
   "cell_type": "code",
   "execution_count": 21,
   "metadata": {},
   "outputs": [],
   "source": [
    "# объединим таблицы, чтобы создать колонку о дате регистрации для каждого пользователя\n",
    "# если регистрации небыло, то будет пропущенное значение\n",
    "funell_reg = pd.merge(data, registration, on='device_id', how='left')"
   ]
  },
  {
   "cell_type": "code",
   "execution_count": null,
   "metadata": {},
   "outputs": [],
   "source": []
  },
  {
   "cell_type": "code",
   "execution_count": 29,
   "metadata": {},
   "outputs": [
    {
     "data": {
      "text/plain": [
       "event\n",
       "app_start      153983\n",
       "search         143368\n",
       "choose_item     98202\n",
       "app_install     91071\n",
       "tap_basket      55378\n",
       "dtype: int64"
      ]
     },
     "execution_count": 29,
     "metadata": {},
     "output_type": "execute_result"
    }
   ],
   "source": [
    "# посмотрим на воронку не зарегестрированных, app_install не рассматриваем\n",
    "funell_reg[funell_reg.reg_date.isna()].value_counts('event', ascending=False)"
   ]
  },
  {
   "cell_type": "code",
   "execution_count": 34,
   "metadata": {},
   "outputs": [],
   "source": [
    "# уберем незареганных\n",
    "funell_reg = funell_reg.dropna(subset=['reg_date'])"
   ]
  },
  {
   "cell_type": "code",
   "execution_count": 46,
   "metadata": {},
   "outputs": [],
   "source": [
    "# найдем разницу между событием и регистрацией, так как нам надо найти действия только зарегистрированных пользователелй\n",
    "# если дата регистрации меньше даты события, то действие было после регистрации\n",
    "# PS, можно просто знак меньше и не создавать колонку, проще будет\n",
    "\n",
    "funell_reg['reg_diff'] = (funell_reg.reg_date - funell_reg.date).dt.days"
   ]
  },
  {
   "cell_type": "code",
   "execution_count": 52,
   "metadata": {},
   "outputs": [
    {
     "data": {
      "text/plain": [
       "app_start      519754\n",
       "search         495411\n",
       "choose_item    392783\n",
       "tap_basket     295566\n",
       "purchase       141383\n",
       "register        78310\n",
       "app_install     42448\n",
       "Name: event, dtype: int64"
      ]
     },
     "execution_count": 52,
     "metadata": {},
     "output_type": "execute_result"
    }
   ],
   "source": [
    "# отфильтруем, и оставим только действия после регистрации\n",
    "# не оставляем уникальных, тут почему-то так будет правильно, получается оставили все все действия\n",
    "# если уников оставить, то будет число кол-ва зареганных почти во всех событиях\n",
    "funell_reg.query('reg_diff < 1').event.value_counts()"
   ]
  },
  {
   "cell_type": "markdown",
   "metadata": {},
   "source": [
    "# Пользователи, пришедшие с каких каналов, показали самую низкую конверсию в первую покупку?\n",
    "CR = кол-во юзеров, впервые совершивших покупку/кол-во юзеров, впервые открывших приложение"
   ]
  },
  {
   "cell_type": "code",
   "execution_count": 7,
   "metadata": {},
   "outputs": [],
   "source": [
    "cr_analysis = data[['event', 'utm_source', 'device_id']].query('event == \"app_start\" or event == \"purchase\"')"
   ]
  },
  {
   "cell_type": "code",
   "execution_count": 12,
   "metadata": {},
   "outputs": [
    {
     "data": {
      "text/plain": [
       "app_start    748705\n",
       "purchase     141383\n",
       "Name: event, dtype: int64"
      ]
     },
     "execution_count": 12,
     "metadata": {},
     "output_type": "execute_result"
    }
   ],
   "source": [
    "cr_analysis.event.value_counts()"
   ]
  },
  {
   "cell_type": "code",
   "execution_count": 16,
   "metadata": {},
   "outputs": [],
   "source": [
    "cr_table = cr_analysis.groupby(['event', 'utm_source'], as_index=False).agg({'device_id': 'nunique'})"
   ]
  },
  {
   "cell_type": "code",
   "execution_count": 20,
   "metadata": {},
   "outputs": [],
   "source": [
    "cr_table = pd.pivot_table(cr_table, index='utm_source', columns='event', values='device_id')"
   ]
  },
  {
   "cell_type": "code",
   "execution_count": 25,
   "metadata": {},
   "outputs": [],
   "source": [
    "cr_table['CR'] = round(cr_table.purchase / cr_table.app_start, 3)"
   ]
  },
  {
   "cell_type": "code",
   "execution_count": 26,
   "metadata": {},
   "outputs": [
    {
     "data": {
      "text/html": [
       "<div>\n",
       "<style scoped>\n",
       "    .dataframe tbody tr th:only-of-type {\n",
       "        vertical-align: middle;\n",
       "    }\n",
       "\n",
       "    .dataframe tbody tr th {\n",
       "        vertical-align: top;\n",
       "    }\n",
       "\n",
       "    .dataframe thead th {\n",
       "        text-align: right;\n",
       "    }\n",
       "</style>\n",
       "<table border=\"1\" class=\"dataframe\">\n",
       "  <thead>\n",
       "    <tr style=\"text-align: right;\">\n",
       "      <th>event</th>\n",
       "      <th>app_start</th>\n",
       "      <th>purchase</th>\n",
       "      <th>CR</th>\n",
       "    </tr>\n",
       "    <tr>\n",
       "      <th>utm_source</th>\n",
       "      <th></th>\n",
       "      <th></th>\n",
       "      <th></th>\n",
       "    </tr>\n",
       "  </thead>\n",
       "  <tbody>\n",
       "    <tr>\n",
       "      <th>-</th>\n",
       "      <td>52268</td>\n",
       "      <td>16598</td>\n",
       "      <td>0.318</td>\n",
       "    </tr>\n",
       "    <tr>\n",
       "      <th>facebook_ads</th>\n",
       "      <td>25957</td>\n",
       "      <td>9017</td>\n",
       "      <td>0.347</td>\n",
       "    </tr>\n",
       "    <tr>\n",
       "      <th>google_ads</th>\n",
       "      <td>38092</td>\n",
       "      <td>11339</td>\n",
       "      <td>0.298</td>\n",
       "    </tr>\n",
       "    <tr>\n",
       "      <th>instagram_ads</th>\n",
       "      <td>31045</td>\n",
       "      <td>10762</td>\n",
       "      <td>0.347</td>\n",
       "    </tr>\n",
       "    <tr>\n",
       "      <th>referal</th>\n",
       "      <td>15924</td>\n",
       "      <td>6362</td>\n",
       "      <td>0.400</td>\n",
       "    </tr>\n",
       "    <tr>\n",
       "      <th>vk_ads</th>\n",
       "      <td>34079</td>\n",
       "      <td>12364</td>\n",
       "      <td>0.363</td>\n",
       "    </tr>\n",
       "    <tr>\n",
       "      <th>yandex-direct</th>\n",
       "      <td>40707</td>\n",
       "      <td>12028</td>\n",
       "      <td>0.295</td>\n",
       "    </tr>\n",
       "  </tbody>\n",
       "</table>\n",
       "</div>"
      ],
      "text/plain": [
       "event          app_start  purchase     CR\n",
       "utm_source                               \n",
       "-                  52268     16598  0.318\n",
       "facebook_ads       25957      9017  0.347\n",
       "google_ads         38092     11339  0.298\n",
       "instagram_ads      31045     10762  0.347\n",
       "referal            15924      6362  0.400\n",
       "vk_ads             34079     12364  0.363\n",
       "yandex-direct      40707     12028  0.295"
      ]
     },
     "execution_count": 26,
     "metadata": {},
     "output_type": "execute_result"
    }
   ],
   "source": [
    "cr_table"
   ]
  },
  {
   "cell_type": "code",
   "execution_count": 28,
   "metadata": {},
   "outputs": [
    {
     "name": "stdout",
     "output_type": "stream",
     "text": [
      "Пользователи, пришедшие с yandex-direct, показали самую низкую конверсию в первую покупку\n"
     ]
    }
   ],
   "source": [
    "print(f'Пользователи, пришедшие с {cr_table.CR.idxmin()}, показали самую низкую конверсию в первую покупку')"
   ]
  },
  {
   "cell_type": "markdown",
   "metadata": {},
   "source": [
    "# Пользователи, пришедшие с какого канала, имеют медианный первый чек выше? (учитываются только первые покупки пользователей)"
   ]
  },
  {
   "cell_type": "code",
   "execution_count": 39,
   "metadata": {},
   "outputs": [],
   "source": [
    "checks = data.query('event == \"purchase\" and utm_source != \"-\"')"
   ]
  },
  {
   "cell_type": "code",
   "execution_count": 40,
   "metadata": {},
   "outputs": [],
   "source": [
    "checks = checks.drop_duplicates(subset=['device_id'])"
   ]
  },
  {
   "cell_type": "code",
   "execution_count": 42,
   "metadata": {},
   "outputs": [],
   "source": [
    "checks = checks.groupby('utm_source').agg({'purchase_sum': 'median'})"
   ]
  },
  {
   "cell_type": "code",
   "execution_count": 44,
   "metadata": {},
   "outputs": [
    {
     "name": "stdout",
     "output_type": "stream",
     "text": [
      "Пользователи, пришедшие с referal, имеют медианный первый чек выше\n"
     ]
    }
   ],
   "source": [
    "print(f'Пользователи, пришедшие с {checks.purchase_sum.idxmax()}, имеют медианный первый чек выше')"
   ]
  },
  {
   "cell_type": "markdown",
   "metadata": {},
   "source": [
    "# Какой платный канал привлечения (среди рекламных) имеет самый высокий ROMI? \n",
    "Данные по затратам на рекламу:\n",
    "\n",
    "Яндекс – 10 491 707 руб.\n",
    "\n",
    "Гугл – 10 534 878 руб.\n",
    "\n",
    "Фейсбук – 8 590 498 руб.\n",
    "\n",
    "Инстаграм – 8 561626 руб.\n",
    "\n",
    "ВК – 9 553 531руб."
   ]
  },
  {
   "cell_type": "code",
   "execution_count": 53,
   "metadata": {},
   "outputs": [],
   "source": [
    "# отфильтруем неизвестный канал и referal, сгруппируем по рекламному каналу, и посчитаем доход по каждой рекламе\n",
    "romi = data.query('utm_source != \"-\" and utm_source != \"referal\"').groupby('utm_source').agg({'purchase_sum': 'sum'})"
   ]
  },
  {
   "cell_type": "code",
   "execution_count": 58,
   "metadata": {},
   "outputs": [],
   "source": [
    "# добавим в таблицу данные о расходах по реклами, создадим новый столбец\n",
    "romi['costs'] = pd.Series([8590498, 9553531, 10534878, 8561626, 10491707], \n",
    "          index=['facebook_ads', 'vk_ads', 'google_ads', 'instagram_ads', 'yandex-direct'])"
   ]
  },
  {
   "cell_type": "code",
   "execution_count": 62,
   "metadata": {},
   "outputs": [
    {
     "data": {
      "text/html": [
       "<div>\n",
       "<style scoped>\n",
       "    .dataframe tbody tr th:only-of-type {\n",
       "        vertical-align: middle;\n",
       "    }\n",
       "\n",
       "    .dataframe tbody tr th {\n",
       "        vertical-align: top;\n",
       "    }\n",
       "\n",
       "    .dataframe thead th {\n",
       "        text-align: right;\n",
       "    }\n",
       "</style>\n",
       "<table border=\"1\" class=\"dataframe\">\n",
       "  <thead>\n",
       "    <tr style=\"text-align: right;\">\n",
       "      <th></th>\n",
       "      <th>purchase_sum</th>\n",
       "      <th>costs</th>\n",
       "      <th>ROMI</th>\n",
       "    </tr>\n",
       "    <tr>\n",
       "      <th>utm_source</th>\n",
       "      <th></th>\n",
       "      <th></th>\n",
       "      <th></th>\n",
       "    </tr>\n",
       "  </thead>\n",
       "  <tbody>\n",
       "    <tr>\n",
       "      <th>facebook_ads</th>\n",
       "      <td>12249901.0</td>\n",
       "      <td>8590498</td>\n",
       "      <td>0.426</td>\n",
       "    </tr>\n",
       "    <tr>\n",
       "      <th>google_ads</th>\n",
       "      <td>12868276.0</td>\n",
       "      <td>10534878</td>\n",
       "      <td>0.221</td>\n",
       "    </tr>\n",
       "    <tr>\n",
       "      <th>instagram_ads</th>\n",
       "      <td>14546969.0</td>\n",
       "      <td>8561626</td>\n",
       "      <td>0.699</td>\n",
       "    </tr>\n",
       "    <tr>\n",
       "      <th>vk_ads</th>\n",
       "      <td>16389652.5</td>\n",
       "      <td>9553531</td>\n",
       "      <td>0.716</td>\n",
       "    </tr>\n",
       "    <tr>\n",
       "      <th>yandex-direct</th>\n",
       "      <td>13915368.0</td>\n",
       "      <td>10491707</td>\n",
       "      <td>0.326</td>\n",
       "    </tr>\n",
       "  </tbody>\n",
       "</table>\n",
       "</div>"
      ],
      "text/plain": [
       "               purchase_sum     costs   ROMI\n",
       "utm_source                                  \n",
       "facebook_ads     12249901.0   8590498  0.426\n",
       "google_ads       12868276.0  10534878  0.221\n",
       "instagram_ads    14546969.0   8561626  0.699\n",
       "vk_ads           16389652.5   9553531  0.716\n",
       "yandex-direct    13915368.0  10491707  0.326"
      ]
     },
     "execution_count": 62,
     "metadata": {},
     "output_type": "execute_result"
    }
   ],
   "source": [
    "romi"
   ]
  },
  {
   "cell_type": "code",
   "execution_count": 61,
   "metadata": {},
   "outputs": [],
   "source": [
    "# найдем ROMI, (валовая прибыль(доход с продаж) минус расходы на маркетинг(рекламу)) делить на расходы на маркетинг(рекламу)\n",
    "romi['ROMI'] = round((romi.purchase_sum - romi.costs) / romi.costs, 3)"
   ]
  },
  {
   "cell_type": "code",
   "execution_count": 63,
   "metadata": {},
   "outputs": [
    {
     "name": "stdout",
     "output_type": "stream",
     "text": [
      "vk_ads канал привлечения имеет самый высокий ROMI\n"
     ]
    }
   ],
   "source": [
    "print(f'{romi.ROMI.idxmax()} канал привлечения имеет самый высокий ROMI')"
   ]
  }
 ],
 "metadata": {
  "kernelspec": {
   "display_name": "Python 3",
   "language": "python",
   "name": "python3"
  },
  "language_info": {
   "codemirror_mode": {
    "name": "ipython",
    "version": 3
   },
   "file_extension": ".py",
   "mimetype": "text/x-python",
   "name": "python",
   "nbconvert_exporter": "python",
   "pygments_lexer": "ipython3",
   "version": "3.7.3"
  }
 },
 "nbformat": 4,
 "nbformat_minor": 4
}
