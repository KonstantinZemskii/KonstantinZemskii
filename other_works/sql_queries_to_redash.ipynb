{
 "cells": [
  {
   "cell_type": "code",
   "execution_count": null,
   "id": "73195e19",
   "metadata": {},
   "outputs": [],
   "source": [
    "from redashAPI import RedashAPIClient"
   ]
  },
  {
   "cell_type": "code",
   "execution_count": null,
   "id": "cb143aa4",
   "metadata": {},
   "outputs": [],
   "source": [
    "with open('connect_to_redash', 'r') as f:\n",
    "    text = f.read().split('\\n')\n",
    "    API_KEY = text[0]\n",
    "    REDASH_HOST = text[1]"
   ]
  },
  {
   "cell_type": "code",
   "execution_count": null,
   "id": "d19ca192",
   "metadata": {},
   "outputs": [],
   "source": [
    "Redash = RedashAPIClient(API_KEY, REDASH_HOST)"
   ]
  },
  {
   "cell_type": "code",
   "execution_count": null,
   "id": "67841f49",
   "metadata": {},
   "outputs": [],
   "source": [
    "res = Redash.get('data_sources')"
   ]
  },
  {
   "cell_type": "markdown",
   "id": "fbb2957c",
   "metadata": {},
   "source": [
    "# JOIN"
   ]
  },
  {
   "cell_type": "markdown",
   "id": "b48ae3b8",
   "metadata": {},
   "source": [
    "# Необходимо получить списки наименований товаров в заказах\n",
    "Описание запроса:\n",
    "\n",
    "1) Делаем INNER JOIN подзапроса и таблицы products (с именами продуктов).\n",
    "- Подзапрос: колонка product_ids в таблице orders - это массив, поэтому необходимо вытащить id продуктов при помощи UNNEST\n",
    "\n",
    "2) далее имена полученные имена возвращаем в массив при помощи array_agg"
   ]
  },
  {
   "cell_type": "code",
   "execution_count": null,
   "id": "0fe40026",
   "metadata": {},
   "outputs": [],
   "source": [
    "Redash.create_query(res.json()[0]['id'], \n",
    "                    \"Match ids with names\", \n",
    "                    \"SELECT \\\n",
    "                        order_id, \\\n",
    "                        array_agg(name) AS product_names \\\n",
    "                    FROM (SELECT  \\\n",
    "                        order_id, \\\n",
    "                        UNNEST(product_ids) AS prod \\\n",
    "                    FROM orders) AS A \\\n",
    "                    JOIN products AS B \\\n",
    "                        ON A.prod = B.product_id \\\n",
    "                    GROUP BY order_id \\\n",
    "                    LIMIT 1000;\")"
   ]
  },
  {
   "cell_type": "markdown",
   "id": "89c82d3a",
   "metadata": {},
   "source": [
    "# Выясните, какие пары товаров покупают вместе чаще всего.\n",
    "Описание запроса:\n",
    "\n",
    "Сделаем таблицу в CTE, чтобы дважды не писать одно и то же, так как в этом запросе необходимо сделать SELF JOIN.\n",
    "\n",
    "CTE: \n",
    "- необходимо отсортировать и оставить только не отмененные заказы, поэтому в WHERE подзапросе найдем отмененные заказы и отсортируем при помощи NOT IN\n",
    "- колонка product_ids в таблице orders - это массив, поэтому необходимо вытащить id продуктов при помощи UNNEST\n",
    "- соединим с таблицей products, чтобы соотнести имена и id продуктов\n",
    "\n",
    "Произведем SELF JOIN по id заказов и отфильтруем совпадающие id продуктов, так как они не могут составить пару. Далее делаем пары и группируем по ним. Считаем их количество."
   ]
  },
  {
   "cell_type": "code",
   "execution_count": null,
   "id": "b776e791",
   "metadata": {},
   "outputs": [],
   "source": [
    "Redash.create_query(res.json()[0]['id'], \n",
    "                    \"Pairs are bought often\", \n",
    "                    \"WITH complete_orders AS (SELECT \\\n",
    "                                                order_id, \\\n",
    "                                                name \\\n",
    "                                            FROM \\\n",
    "                                                (SELECT order_id, UNNEST(product_ids) AS goods \\\n",
    "                                                FROM orders \\\n",
    "                                                WHERE order_id NOT IN (SELECT order_id FROM user_actions \\\n",
    "                                                                       WHERE action = 'cancel_order')) AS A \\\n",
    "                                            JOIN products AS B \\\n",
    "                                            ON A.goods = B.product_id) \\\n",
    "\n",
    "\n",
    "                    SELECT \\\n",
    "                        array_sort(A.name || ARRAY[B.name]) AS pair \\\n",
    "                        COUNT(DISTINCT A.order_id) as count_pair \\\n",
    "                    FROM complete_orders AS A \\\n",
    "                    JOIN complete_orders AS B \\\n",
    "                        ON A.order_id = B.order_id AND A.name != B.name \\\n",
    "                    GROUP BY array_sort(A.name || ARRAY[B.name]) \\\n",
    "                    ORDER BY count_pair DESC, pair;\")"
   ]
  },
  {
   "cell_type": "markdown",
   "id": "8b9d91ec",
   "metadata": {},
   "source": [
    "# Оконные функции"
   ]
  },
  {
   "cell_type": "markdown",
   "id": "e9314d0e",
   "metadata": {},
   "source": [
    "# Посчитать, сколько заказов сделал и сколько отменил каждый пользователь на момент совершения нового действия\n",
    "Иными словами, для каждого пользователя в каждый момент времени посчитать две накопительные суммы — числа оформленных и числа отменённых заказов. Если пользователь оформляет заказ, то число оформленных им заказов увеличивайте на 1, если отменяет — увеличивается на 1 количество отмен. В результате получатся три новые колонки с динамическими показателями, которые изменяются во времени с каждым новым действием пользователя.\n",
    "\n",
    "Используем таблицу user_actions, где записаны действия пользователей. В SELECT отбираем необходимые колонки. Считаем, используя оконные функции и фильтруя через FILTER, количество оформленных и отмененных заказов в столбцах created_orders и canceled_orders соответственно. Далее считаем в колонке cancel_rate долю отмененных заказов на каждый момент времени"
   ]
  },
  {
   "cell_type": "code",
   "execution_count": null,
   "id": "5eef72c4",
   "metadata": {},
   "outputs": [],
   "source": [
    "Redash.create_query(res.json()[0]['id'], \n",
    "                    \"Create and cancel orders by users\", \n",
    "                    \"SELECT \\\n",
    "                        user_id, \\\n",
    "                        order_id, \\\n",
    "                        action, \\\n",
    "                        time, \\\n",
    "                        COUNT(order_id) FILTER(WHERE action = 'create_order') \\\n",
    "                            OVER(PARTITION BY user_id ORDER BY time) AS created_orders, \\\n",
    "                        COUNT(order_id) FILTER(WHERE action = 'cancel_order') \\\n",
    "                            OVER(PARTITION BY user_id ORDER BY time) AS canceled_orders, \\\n",
    "                        ROUND(1.0 * COUNT(order_id) FILTER(WHERE action = 'cancel_order') \\\n",
    "                            OVER(PARTITION BY user_id ORDER BY time) \\\n",
    "                          / COUNT(order_id) FILTER(WHERE action = 'create_order') \\\n",
    "                              OVER(PARTITION BY user_id ORDER BY time), 2) AS cancel_rate \\\n",
    "                    FROM user_actions \\\n",
    "                    ORDER BY user_id, order_id, action, time \\\n",
    "                    LIMIT 1000;\")"
   ]
  },
  {
   "attachments": {},
   "cell_type": "markdown",
   "id": "8789037e",
   "metadata": {},
   "source": [
    "# Рассчить ежедневную выручку сервиса и прирост (относительный и абсолютный)\n",
    "Таблица в подзапросе:\n",
    "- необходимо отсортировать и оставить только не отмененные заказы, поэтому в WHERE подзапросе найдем отмененные заказы и отсортируем при помощи NOT IN\n",
    "- колонка product_ids в таблице orders - это массив, поэтому необходимо вытащить id продуктов при помощи UNNEST\n",
    "\n",
    "Соединим подзапрос с таблицей products, чтобы соотнести имена и id продуктов\n",
    "\n",
    "Группируем по дням, чтобы считать ежедневную выручку. Считаем сумму. И при помощи оконных функций и функций смещения считаем ежедневный прирост выручки. Чтобы пропусков в первой строке не было, используем COALESCE, чтобы заменить на 0"
   ]
  },
  {
   "cell_type": "code",
   "execution_count": null,
   "id": "8a5d8d57",
   "metadata": {},
   "outputs": [],
   "source": [
    "Redash.create_query(res.json()[0]['id'], \n",
    "                    \"Service daily revenue\", \n",
    "                    \"SELECT \\\n",
    "                        creation_time::DATE AS date, \\\n",
    "                        ROUND(SUM(price), 1) AS daily_revenue, \\\n",
    "                        COALESCE(NULL, \\\n",
    "                                 ROUND(SUM(price) \\\n",
    "                                 - LAG(SUM(price)) OVER(ORDER BY creation_time::DATE), 1), 0) \\\n",
    "                            AS revenue_growth_abs, \\\n",
    "                        COALESCE(NULL, \\\n",
    "                                 ROUND(SUM(price) \\\n",
    "                                 / LAG(SUM(price)) OVER(ORDER BY creation_time::DATE) * 100 - 100, 1), 0) \\\n",
    "                            AS revenue_growth_percentage \\\n",
    "                    FROM \\\n",
    "                    (SELECT \\\n",
    "                        order_id, \\\n",
    "                        creation_time, \\\n",
    "                        UNNEST(product_ids) AS product_id \\\n",
    "                    FROM orders \\\n",
    "                    WHERE order_id NOT IN (SELECT \\\n",
    "                                           order_id \\\n",
    "                                           FROM user_actions \\\n",
    "                                           WHERE action = 'cancel_order')) AS A \\\n",
    "                    JOIN products AS B \\\n",
    "                        ON A.product_id = B.product_id \\\n",
    "                    GROUP BY creation_time::DATE \\\n",
    "                    ORDER BY date;\")"
   ]
  }
 ],
 "metadata": {
  "kernelspec": {
   "display_name": "Python 3 (ipykernel)",
   "language": "python",
   "name": "python3"
  },
  "language_info": {
   "codemirror_mode": {
    "name": "ipython",
    "version": 3
   },
   "file_extension": ".py",
   "mimetype": "text/x-python",
   "name": "python",
   "nbconvert_exporter": "python",
   "pygments_lexer": "ipython3",
   "version": "3.10.4"
  }
 },
 "nbformat": 4,
 "nbformat_minor": 5
}
