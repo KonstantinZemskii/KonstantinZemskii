{
 "cells": [
  {
   "cell_type": "code",
   "execution_count": 1,
   "metadata": {},
   "outputs": [],
   "source": [
    "import pandas as pd"
   ]
  },
  {
   "cell_type": "code",
   "execution_count": 2,
   "metadata": {},
   "outputs": [],
   "source": [
    "# плохо считывалось из-за формата, пришлось все в строку сделать\n",
    "rfm_analysis = pd.read_csv('https://stepik.org/media/attachments/lesson/413464/RFM_ht_data.csv', dtype=str)"
   ]
  },
  {
   "cell_type": "code",
   "execution_count": 3,
   "metadata": {},
   "outputs": [],
   "source": [
    "# меняем цифровой столбец на float\n",
    "rfm_analysis = rfm_analysis.astype({'Amount': float})"
   ]
  },
  {
   "cell_type": "code",
   "execution_count": 4,
   "metadata": {},
   "outputs": [],
   "source": [
    "# дату тоже форматируем\n",
    "rfm_analysis.InvoiceDate = pd.to_datetime(rfm_analysis.InvoiceDate)"
   ]
  },
  {
   "cell_type": "code",
   "execution_count": 5,
   "metadata": {},
   "outputs": [
    {
     "data": {
      "text/plain": [
       "InvoiceNo               object\n",
       "CustomerCode            object\n",
       "InvoiceDate     datetime64[ns]\n",
       "Amount                 float64\n",
       "dtype: object"
      ]
     },
     "execution_count": 5,
     "metadata": {},
     "output_type": "execute_result"
    }
   ],
   "source": [
    "# проверяем\n",
    "rfm_analysis.dtypes"
   ]
  },
  {
   "cell_type": "code",
   "execution_count": 6,
   "metadata": {},
   "outputs": [
    {
     "data": {
      "text/html": [
       "<div>\n",
       "<style scoped>\n",
       "    .dataframe tbody tr th:only-of-type {\n",
       "        vertical-align: middle;\n",
       "    }\n",
       "\n",
       "    .dataframe tbody tr th {\n",
       "        vertical-align: top;\n",
       "    }\n",
       "\n",
       "    .dataframe thead th {\n",
       "        text-align: right;\n",
       "    }\n",
       "</style>\n",
       "<table border=\"1\" class=\"dataframe\">\n",
       "  <thead>\n",
       "    <tr style=\"text-align: right;\">\n",
       "      <th></th>\n",
       "      <th>InvoiceNo</th>\n",
       "      <th>CustomerCode</th>\n",
       "      <th>InvoiceDate</th>\n",
       "      <th>Amount</th>\n",
       "    </tr>\n",
       "  </thead>\n",
       "  <tbody>\n",
       "    <tr>\n",
       "      <th>0</th>\n",
       "      <td>C0011810010001</td>\n",
       "      <td>19067290</td>\n",
       "      <td>2020-09-01</td>\n",
       "      <td>1716.00</td>\n",
       "    </tr>\n",
       "    <tr>\n",
       "      <th>1</th>\n",
       "      <td>C0011810010017</td>\n",
       "      <td>13233933</td>\n",
       "      <td>2020-09-01</td>\n",
       "      <td>1489.74</td>\n",
       "    </tr>\n",
       "    <tr>\n",
       "      <th>2</th>\n",
       "      <td>C0011810010020</td>\n",
       "      <td>99057968</td>\n",
       "      <td>2020-09-01</td>\n",
       "      <td>151.47</td>\n",
       "    </tr>\n",
       "    <tr>\n",
       "      <th>3</th>\n",
       "      <td>C0011810010021</td>\n",
       "      <td>80007276</td>\n",
       "      <td>2020-09-01</td>\n",
       "      <td>146.72</td>\n",
       "    </tr>\n",
       "    <tr>\n",
       "      <th>4</th>\n",
       "      <td>C0011810010024</td>\n",
       "      <td>13164076</td>\n",
       "      <td>2020-09-01</td>\n",
       "      <td>104.00</td>\n",
       "    </tr>\n",
       "    <tr>\n",
       "      <th>...</th>\n",
       "      <td>...</td>\n",
       "      <td>...</td>\n",
       "      <td>...</td>\n",
       "      <td>...</td>\n",
       "    </tr>\n",
       "    <tr>\n",
       "      <th>332725</th>\n",
       "      <td>S0081810310459</td>\n",
       "      <td>14092500</td>\n",
       "      <td>2020-09-30</td>\n",
       "      <td>3801.87</td>\n",
       "    </tr>\n",
       "    <tr>\n",
       "      <th>332726</th>\n",
       "      <td>S0081810310461</td>\n",
       "      <td>99065678</td>\n",
       "      <td>2020-09-30</td>\n",
       "      <td>5769.88</td>\n",
       "    </tr>\n",
       "    <tr>\n",
       "      <th>332727</th>\n",
       "      <td>S0081810310462</td>\n",
       "      <td>19029918</td>\n",
       "      <td>2020-09-30</td>\n",
       "      <td>736.88</td>\n",
       "    </tr>\n",
       "    <tr>\n",
       "      <th>332728</th>\n",
       "      <td>S0081810310463</td>\n",
       "      <td>13020033</td>\n",
       "      <td>2020-09-30</td>\n",
       "      <td>1475.20</td>\n",
       "    </tr>\n",
       "    <tr>\n",
       "      <th>332729</th>\n",
       "      <td>S0081810310466</td>\n",
       "      <td>13046679</td>\n",
       "      <td>2020-09-30</td>\n",
       "      <td>709.56</td>\n",
       "    </tr>\n",
       "  </tbody>\n",
       "</table>\n",
       "<p>332730 rows × 4 columns</p>\n",
       "</div>"
      ],
      "text/plain": [
       "             InvoiceNo CustomerCode InvoiceDate   Amount\n",
       "0       C0011810010001     19067290  2020-09-01  1716.00\n",
       "1       C0011810010017     13233933  2020-09-01  1489.74\n",
       "2       C0011810010020     99057968  2020-09-01   151.47\n",
       "3       C0011810010021     80007276  2020-09-01   146.72\n",
       "4       C0011810010024     13164076  2020-09-01   104.00\n",
       "...                ...          ...         ...      ...\n",
       "332725  S0081810310459     14092500  2020-09-30  3801.87\n",
       "332726  S0081810310461     99065678  2020-09-30  5769.88\n",
       "332727  S0081810310462     19029918  2020-09-30   736.88\n",
       "332728  S0081810310463     13020033  2020-09-30  1475.20\n",
       "332729  S0081810310466     13046679  2020-09-30   709.56\n",
       "\n",
       "[332730 rows x 4 columns]"
      ]
     },
     "execution_count": 6,
     "metadata": {},
     "output_type": "execute_result"
    }
   ],
   "source": [
    "rfm_analysis.head(2)"
   ]
  },
  {
   "cell_type": "markdown",
   "metadata": {},
   "source": [
    "# RFM analysis"
   ]
  },
  {
   "cell_type": "code",
   "execution_count": 7,
   "metadata": {},
   "outputs": [],
   "source": [
    "# вытаскиваем последнюю дату, чтобы по ней сравнивать как давно была последняя покупка\n",
    "last_date = rfm_analysis.InvoiceDate.max()"
   ]
  },
  {
   "cell_type": "code",
   "execution_count": 8,
   "metadata": {},
   "outputs": [
    {
     "data": {
      "text/plain": [
       "Timestamp('2020-09-30 00:00:00')"
      ]
     },
     "execution_count": 8,
     "metadata": {},
     "output_type": "execute_result"
    }
   ],
   "source": [
    "# проверим\n",
    "last_date"
   ]
  },
  {
   "cell_type": "code",
   "execution_count": 9,
   "metadata": {},
   "outputs": [],
   "source": [
    "# теперь посчитаем эту разницу в днях\n",
    "rfm_analysis['recency'] = (last_date - rfm_analysis.InvoiceDate).dt.days"
   ]
  },
  {
   "cell_type": "code",
   "execution_count": 10,
   "metadata": {},
   "outputs": [],
   "source": [
    "# находим данные для rfm\n",
    "# группируем по пользователю, находим минимальную дату(последняя покупка), считаем кол-во покупок, считаем потраченную сумму\n",
    "rfm_table = rfm_analysis \\\n",
    "            .groupby('CustomerCode') \\\n",
    "            .agg({'recency': 'min', 'InvoiceNo': 'count', 'Amount': 'sum'}) \\\n",
    "            .rename(columns={'InvoiceNo': 'frequency', 'Amount': 'monetary'})"
   ]
  },
  {
   "cell_type": "code",
   "execution_count": 11,
   "metadata": {},
   "outputs": [
    {
     "data": {
      "text/plain": [
       "{'recency': {0.25: 2.0, 0.5: 8.0, 0.75: 16.0},\n",
       " 'frequency': {0.25: 1.0, 0.5: 2.0, 0.75: 3.0},\n",
       " 'monetary': {0.25: 765.0, 0.5: 1834.48, 0.75: 4008.84}}"
      ]
     },
     "execution_count": 11,
     "metadata": {},
     "output_type": "execute_result"
    }
   ],
   "source": [
    "# разделим пользователей на сегменты при помощи квантилей\n",
    "# в переменную(quartile) запишем значение квантилей\n",
    "quartile = rfm_table.quantile([0.25, 0.5, 0.75])\n",
    "quartile = quartile.to_dict()\n",
    "quartile"
   ]
  },
  {
   "cell_type": "code",
   "execution_count": 12,
   "metadata": {},
   "outputs": [],
   "source": [
    "# функция для разделения на сегменты при помощи квантилей\n",
    "def for_r(x):\n",
    "    if x <= quartile['recency'][0.25]:\n",
    "        return 1\n",
    "    elif x <= quartile['recency'][0.5]:\n",
    "        return 2\n",
    "    elif x <= quartile['recency'][0.75]:\n",
    "        return 3\n",
    "    else:\n",
    "        return 4\n",
    "    \n",
    "def for_f(x):\n",
    "    if x <= quartile['frequency'][0.25]:\n",
    "        return 4\n",
    "    elif x <= quartile['frequency'][0.5]:\n",
    "        return 3\n",
    "    elif x <= quartile['frequency'][0.75]:\n",
    "        return 2\n",
    "    else:\n",
    "        return 1\n",
    "\n",
    "def for_m(x):\n",
    "    if x <= quartile['monetary'][0.25]:\n",
    "        return 4\n",
    "    elif x <= quartile['monetary'][0.5]:\n",
    "        return 3\n",
    "    elif x <= quartile['monetary'][0.75]:\n",
    "        return 2\n",
    "    else:\n",
    "        return 1"
   ]
  },
  {
   "cell_type": "code",
   "execution_count": 13,
   "metadata": {},
   "outputs": [],
   "source": [
    "# применяем функцию к столбцам\n",
    "rfm_table['r'] = rfm_table.recency.apply(for_r)\n",
    "rfm_table['f'] = rfm_table.frequency.apply(for_f)\n",
    "rfm_table['m'] = rfm_table.monetary.apply(for_m)"
   ]
  },
  {
   "cell_type": "code",
   "execution_count": 14,
   "metadata": {},
   "outputs": [],
   "source": [
    "# соединяем полученные разделения, тем самым получим сегменты\n",
    "rfm_table['rfm_score'] = rfm_table['r'].map(str) + rfm_table['f'].map(str) + rfm_table['m'].map(str)"
   ]
  },
  {
   "cell_type": "code",
   "execution_count": null,
   "metadata": {},
   "outputs": [],
   "source": []
  },
  {
   "cell_type": "code",
   "execution_count": 15,
   "metadata": {},
   "outputs": [
    {
     "data": {
      "text/html": [
       "<div>\n",
       "<style scoped>\n",
       "    .dataframe tbody tr th:only-of-type {\n",
       "        vertical-align: middle;\n",
       "    }\n",
       "\n",
       "    .dataframe tbody tr th {\n",
       "        vertical-align: top;\n",
       "    }\n",
       "\n",
       "    .dataframe thead th {\n",
       "        text-align: right;\n",
       "    }\n",
       "</style>\n",
       "<table border=\"1\" class=\"dataframe\">\n",
       "  <thead>\n",
       "    <tr style=\"text-align: right;\">\n",
       "      <th></th>\n",
       "      <th>recency</th>\n",
       "      <th>frequency</th>\n",
       "      <th>monetary</th>\n",
       "      <th>r</th>\n",
       "      <th>f</th>\n",
       "      <th>m</th>\n",
       "      <th>rfm_score</th>\n",
       "    </tr>\n",
       "    <tr>\n",
       "      <th>CustomerCode</th>\n",
       "      <th></th>\n",
       "      <th></th>\n",
       "      <th></th>\n",
       "      <th></th>\n",
       "      <th></th>\n",
       "      <th></th>\n",
       "      <th></th>\n",
       "    </tr>\n",
       "  </thead>\n",
       "  <tbody>\n",
       "    <tr>\n",
       "      <th>02213019</th>\n",
       "      <td>19</td>\n",
       "      <td>1</td>\n",
       "      <td>1609.20</td>\n",
       "      <td>4</td>\n",
       "      <td>4</td>\n",
       "      <td>3</td>\n",
       "      <td>443</td>\n",
       "    </tr>\n",
       "    <tr>\n",
       "      <th>02213042</th>\n",
       "      <td>22</td>\n",
       "      <td>3</td>\n",
       "      <td>9685.48</td>\n",
       "      <td>4</td>\n",
       "      <td>2</td>\n",
       "      <td>1</td>\n",
       "      <td>421</td>\n",
       "    </tr>\n",
       "    <tr>\n",
       "      <th>02213071</th>\n",
       "      <td>29</td>\n",
       "      <td>1</td>\n",
       "      <td>415.00</td>\n",
       "      <td>4</td>\n",
       "      <td>4</td>\n",
       "      <td>4</td>\n",
       "      <td>444</td>\n",
       "    </tr>\n",
       "  </tbody>\n",
       "</table>\n",
       "</div>"
      ],
      "text/plain": [
       "              recency  frequency  monetary  r  f  m rfm_score\n",
       "CustomerCode                                                 \n",
       "02213019           19          1   1609.20  4  4  3       443\n",
       "02213042           22          3   9685.48  4  2  1       421\n",
       "02213071           29          1    415.00  4  4  4       444"
      ]
     },
     "execution_count": 15,
     "metadata": {},
     "output_type": "execute_result"
    }
   ],
   "source": [
    "rfm_table.head(3)"
   ]
  },
  {
   "cell_type": "code",
   "execution_count": 16,
   "metadata": {},
   "outputs": [
    {
     "name": "stdout",
     "output_type": "stream",
     "text": [
      "204 максимальное кол-во покупок было совершено одним пользователем\n"
     ]
    }
   ],
   "source": [
    "print(f'{rfm_table.frequency.max()} максимальное кол-во покупок было совершено одним пользователем')"
   ]
  },
  {
   "cell_type": "code",
   "execution_count": 17,
   "metadata": {},
   "outputs": [
    {
     "name": "stdout",
     "output_type": "stream",
     "text": [
      "1609 пользователей попало в сегмент 311\n"
     ]
    }
   ],
   "source": [
    "print(f\"{rfm_table.rfm_score.value_counts().loc['311']} пользователей попало в сегмент 311\")"
   ]
  },
  {
   "cell_type": "code",
   "execution_count": 18,
   "metadata": {},
   "outputs": [
    {
     "data": {
      "text/plain": [
       "444    10624\n",
       "111     9705\n",
       "443     6729\n",
       "344     6593\n",
       "211     5847\n",
       "       ...  \n",
       "424       63\n",
       "214       60\n",
       "114       60\n",
       "314       33\n",
       "414        2\n",
       "Name: rfm_score, Length: 64, dtype: int64"
      ]
     },
     "execution_count": 18,
     "metadata": {},
     "output_type": "execute_result"
    }
   ],
   "source": [
    "rfm_table.rfm_score.value_counts()"
   ]
  },
  {
   "cell_type": "code",
   "execution_count": null,
   "metadata": {},
   "outputs": [],
   "source": []
  }
 ],
 "metadata": {
  "kernelspec": {
   "display_name": "Python 3",
   "language": "python",
   "name": "python3"
  },
  "language_info": {
   "codemirror_mode": {
    "name": "ipython",
    "version": 3
   },
   "file_extension": ".py",
   "mimetype": "text/x-python",
   "name": "python",
   "nbconvert_exporter": "python",
   "pygments_lexer": "ipython3",
   "version": "3.7.3"
  }
 },
 "nbformat": 4,
 "nbformat_minor": 4
}
