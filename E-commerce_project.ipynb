{
 "cells": [
  {
   "cell_type": "code",
   "execution_count": 1,
   "metadata": {},
   "outputs": [],
   "source": [
    "import pandas as pd\n",
    "import seaborn as sns\n",
    "import matplotlib.pyplot as plt\n",
    "%matplotlib inline\n",
    "\n",
    "# настроим seaborn и установим стиль whitegrid\n",
    "sns.set(style='whitegrid')"
   ]
  },
  {
   "cell_type": "code",
   "execution_count": 2,
   "metadata": {},
   "outputs": [],
   "source": [
    "from urllib.parse import urlencode\n",
    "import requests\n",
    "# Чтобы загрузить данные в Jupyter Notebook, используем api Яндекс.Диска.\n",
    "base_url = 'https://cloud-api.yandex.net/v1/disk/public/resources/download?' "
   ]
  },
  {
   "cell_type": "code",
   "execution_count": 3,
   "metadata": {},
   "outputs": [
    {
     "data": {
      "text/html": [
       "<div>\n",
       "<style scoped>\n",
       "    .dataframe tbody tr th:only-of-type {\n",
       "        vertical-align: middle;\n",
       "    }\n",
       "\n",
       "    .dataframe tbody tr th {\n",
       "        vertical-align: top;\n",
       "    }\n",
       "\n",
       "    .dataframe thead th {\n",
       "        text-align: right;\n",
       "    }\n",
       "</style>\n",
       "<table border=\"1\" class=\"dataframe\">\n",
       "  <thead>\n",
       "    <tr style=\"text-align: right;\">\n",
       "      <th></th>\n",
       "      <th>customer_id</th>\n",
       "      <th>customer_unique_id</th>\n",
       "      <th>customer_zip_code_prefix</th>\n",
       "      <th>customer_city</th>\n",
       "      <th>customer_state</th>\n",
       "    </tr>\n",
       "  </thead>\n",
       "  <tbody>\n",
       "    <tr>\n",
       "      <th>0</th>\n",
       "      <td>06b8999e2fba1a1fbc88172c00ba8bc7</td>\n",
       "      <td>861eff4711a542e4b93843c6dd7febb0</td>\n",
       "      <td>14409</td>\n",
       "      <td>franca</td>\n",
       "      <td>SP</td>\n",
       "    </tr>\n",
       "    <tr>\n",
       "      <th>1</th>\n",
       "      <td>18955e83d337fd6b2def6b18a428ac77</td>\n",
       "      <td>290c77bc529b7ac935b93aa66c333dc3</td>\n",
       "      <td>9790</td>\n",
       "      <td>sao bernardo do campo</td>\n",
       "      <td>SP</td>\n",
       "    </tr>\n",
       "  </tbody>\n",
       "</table>\n",
       "</div>"
      ],
      "text/plain": [
       "                        customer_id                customer_unique_id  \\\n",
       "0  06b8999e2fba1a1fbc88172c00ba8bc7  861eff4711a542e4b93843c6dd7febb0   \n",
       "1  18955e83d337fd6b2def6b18a428ac77  290c77bc529b7ac935b93aa66c333dc3   \n",
       "\n",
       "   customer_zip_code_prefix          customer_city customer_state  \n",
       "0                     14409                 franca             SP  \n",
       "1                      9790  sao bernardo do campo             SP  "
      ]
     },
     "execution_count": 3,
     "metadata": {},
     "output_type": "execute_result"
    }
   ],
   "source": [
    "# в переменную public_key сохраним ссылку на Яндекс.Диска, где находятся данные для скачивания\n",
    "# сохраним ссылку на таблицу olist_customers_datase.csv и сохраним в переменную customers_df\n",
    "public_key = 'https://disk.yandex.ru/d/FUi5uSd6BfG_ig' \n",
    "\n",
    "final_url = base_url + urlencode(dict(public_key=public_key)) \n",
    "customers_df = pd.read_csv(requests.get(final_url).json()['href'])\n",
    "customers_df.head(2)"
   ]
  },
  {
   "cell_type": "markdown",
   "metadata": {},
   "source": [
    " olist_customers_datase.csv — таблица с уникальными идентификаторами пользователей\n",
    "\n",
    "customer_id — позаказный идентификатор пользователя\n",
    "\n",
    "customer_unique_id —  уникальный идентификатор пользователя  (в идеальных данных не может быть двух пользователей с одинаковым значением, является уникальным айдишником пользователя)\n",
    "\n",
    "customer_zip_code_prefix —  почтовый индекс пользователя\n",
    "\n",
    "customer_city —  город доставки пользователя\n",
    "\n",
    "customer_state —  штат доставки пользователя"
   ]
  },
  {
   "cell_type": "code",
   "execution_count": 4,
   "metadata": {},
   "outputs": [
    {
     "data": {
      "text/html": [
       "<div>\n",
       "<style scoped>\n",
       "    .dataframe tbody tr th:only-of-type {\n",
       "        vertical-align: middle;\n",
       "    }\n",
       "\n",
       "    .dataframe tbody tr th {\n",
       "        vertical-align: top;\n",
       "    }\n",
       "\n",
       "    .dataframe thead th {\n",
       "        text-align: right;\n",
       "    }\n",
       "</style>\n",
       "<table border=\"1\" class=\"dataframe\">\n",
       "  <thead>\n",
       "    <tr style=\"text-align: right;\">\n",
       "      <th></th>\n",
       "      <th>order_id</th>\n",
       "      <th>order_item_id</th>\n",
       "      <th>product_id</th>\n",
       "      <th>seller_id</th>\n",
       "      <th>shipping_limit_date</th>\n",
       "      <th>price</th>\n",
       "      <th>freight_value</th>\n",
       "    </tr>\n",
       "  </thead>\n",
       "  <tbody>\n",
       "    <tr>\n",
       "      <th>0</th>\n",
       "      <td>00010242fe8c5a6d1ba2dd792cb16214</td>\n",
       "      <td>1</td>\n",
       "      <td>4244733e06e7ecb4970a6e2683c13e61</td>\n",
       "      <td>48436dade18ac8b2bce089ec2a041202</td>\n",
       "      <td>2017-09-19 09:45:35</td>\n",
       "      <td>58.9</td>\n",
       "      <td>13.29</td>\n",
       "    </tr>\n",
       "    <tr>\n",
       "      <th>1</th>\n",
       "      <td>00018f77f2f0320c557190d7a144bdd3</td>\n",
       "      <td>1</td>\n",
       "      <td>e5f2d52b802189ee658865ca93d83a8f</td>\n",
       "      <td>dd7ddc04e1b6c2c614352b383efe2d36</td>\n",
       "      <td>2017-05-03 11:05:13</td>\n",
       "      <td>239.9</td>\n",
       "      <td>19.93</td>\n",
       "    </tr>\n",
       "  </tbody>\n",
       "</table>\n",
       "</div>"
      ],
      "text/plain": [
       "                           order_id  order_item_id  \\\n",
       "0  00010242fe8c5a6d1ba2dd792cb16214              1   \n",
       "1  00018f77f2f0320c557190d7a144bdd3              1   \n",
       "\n",
       "                         product_id                         seller_id  \\\n",
       "0  4244733e06e7ecb4970a6e2683c13e61  48436dade18ac8b2bce089ec2a041202   \n",
       "1  e5f2d52b802189ee658865ca93d83a8f  dd7ddc04e1b6c2c614352b383efe2d36   \n",
       "\n",
       "   shipping_limit_date  price  freight_value  \n",
       "0  2017-09-19 09:45:35   58.9          13.29  \n",
       "1  2017-05-03 11:05:13  239.9          19.93  "
      ]
     },
     "execution_count": 4,
     "metadata": {},
     "output_type": "execute_result"
    }
   ],
   "source": [
    "# в переменную public_key сохраним ссылку на Яндекс.Диска, где находятся данные для скачивания\n",
    "# сохраним ссылку на таблицу olist_order_items_dataset.csv и сохраним в переменную order_items_df\n",
    "public_key = 'https://disk.yandex.ru/d/Gbt-yAcQrOe3Pw' \n",
    "\n",
    "final_url = base_url + urlencode(dict(public_key=public_key)) \n",
    "order_items_df = pd.read_csv(requests.get(final_url).json()['href'])\n",
    "order_items_df.head(2)"
   ]
  },
  {
   "cell_type": "markdown",
   "metadata": {},
   "source": [
    "olist_order_items_dataset.csv —  товарные позиции, входящие в заказы\n",
    "\n",
    "order_id —  уникальный идентификатор заказа (номер чека)\n",
    "\n",
    "order_item_id —  идентификатор товара внутри одного заказа (не содержит информацию о количестве товаров)\n",
    "\n",
    "product_id —  уникальный идентефикатор товара (аналог штрихкода)\n",
    "\n",
    "seller_id — уникальный идентефикатор производителя товара\n",
    "\n",
    "shipping_limit_date —  максимальная дата доставки продавцом для передачи заказа партнеру по логистике\n",
    "\n",
    "price —  цена за единицу товара\n",
    "\n",
    "freight_value —  вес товара"
   ]
  },
  {
   "cell_type": "code",
   "execution_count": 5,
   "metadata": {},
   "outputs": [
    {
     "data": {
      "text/html": [
       "<div>\n",
       "<style scoped>\n",
       "    .dataframe tbody tr th:only-of-type {\n",
       "        vertical-align: middle;\n",
       "    }\n",
       "\n",
       "    .dataframe tbody tr th {\n",
       "        vertical-align: top;\n",
       "    }\n",
       "\n",
       "    .dataframe thead th {\n",
       "        text-align: right;\n",
       "    }\n",
       "</style>\n",
       "<table border=\"1\" class=\"dataframe\">\n",
       "  <thead>\n",
       "    <tr style=\"text-align: right;\">\n",
       "      <th></th>\n",
       "      <th>order_id</th>\n",
       "      <th>customer_id</th>\n",
       "      <th>order_status</th>\n",
       "      <th>order_purchase_timestamp</th>\n",
       "      <th>order_approved_at</th>\n",
       "      <th>order_delivered_carrier_date</th>\n",
       "      <th>order_delivered_customer_date</th>\n",
       "      <th>order_estimated_delivery_date</th>\n",
       "    </tr>\n",
       "  </thead>\n",
       "  <tbody>\n",
       "    <tr>\n",
       "      <th>0</th>\n",
       "      <td>e481f51cbdc54678b7cc49136f2d6af7</td>\n",
       "      <td>9ef432eb6251297304e76186b10a928d</td>\n",
       "      <td>delivered</td>\n",
       "      <td>2017-10-02 10:56:33</td>\n",
       "      <td>2017-10-02 11:07:15</td>\n",
       "      <td>2017-10-04 19:55:00</td>\n",
       "      <td>2017-10-10 21:25:13</td>\n",
       "      <td>2017-10-18 00:00:00</td>\n",
       "    </tr>\n",
       "    <tr>\n",
       "      <th>1</th>\n",
       "      <td>53cdb2fc8bc7dce0b6741e2150273451</td>\n",
       "      <td>b0830fb4747a6c6d20dea0b8c802d7ef</td>\n",
       "      <td>delivered</td>\n",
       "      <td>2018-07-24 20:41:37</td>\n",
       "      <td>2018-07-26 03:24:27</td>\n",
       "      <td>2018-07-26 14:31:00</td>\n",
       "      <td>2018-08-07 15:27:45</td>\n",
       "      <td>2018-08-13 00:00:00</td>\n",
       "    </tr>\n",
       "  </tbody>\n",
       "</table>\n",
       "</div>"
      ],
      "text/plain": [
       "                           order_id                       customer_id  \\\n",
       "0  e481f51cbdc54678b7cc49136f2d6af7  9ef432eb6251297304e76186b10a928d   \n",
       "1  53cdb2fc8bc7dce0b6741e2150273451  b0830fb4747a6c6d20dea0b8c802d7ef   \n",
       "\n",
       "  order_status order_purchase_timestamp    order_approved_at  \\\n",
       "0    delivered      2017-10-02 10:56:33  2017-10-02 11:07:15   \n",
       "1    delivered      2018-07-24 20:41:37  2018-07-26 03:24:27   \n",
       "\n",
       "  order_delivered_carrier_date order_delivered_customer_date  \\\n",
       "0          2017-10-04 19:55:00           2017-10-10 21:25:13   \n",
       "1          2018-07-26 14:31:00           2018-08-07 15:27:45   \n",
       "\n",
       "  order_estimated_delivery_date  \n",
       "0           2017-10-18 00:00:00  \n",
       "1           2018-08-13 00:00:00  "
      ]
     },
     "execution_count": 5,
     "metadata": {},
     "output_type": "execute_result"
    }
   ],
   "source": [
    "# в переменную public_key сохраним ссылку на Яндекс.Диска, где находятся данные для скачивания\n",
    "# сохраним ссылку на таблицу olist_orders_dataset.csv и сохраним в переменную orders_df\n",
    "public_key = 'https://disk.yandex.ru/d/t9Li4JOfgxuUrg' \n",
    "\n",
    "final_url = base_url + urlencode(dict(public_key=public_key)) \n",
    "orders_df = pd.read_csv(requests.get(final_url).json()['href'])\n",
    "orders_df.head(2)"
   ]
  },
  {
   "cell_type": "markdown",
   "metadata": {},
   "source": [
    "olist_orders_dataset.csv —  таблица заказов\n",
    "\n",
    "order_id —  уникальный идентификатор заказа (номер чека)\n",
    "\n",
    "customer_id —  позаказный идентификатор пользователя\n",
    "\n",
    "order_status —  статус заказа\n",
    "\n",
    "order_purchase_timestamp —  время создания заказа\n",
    "\n",
    "order_approved_at —  время подтверждения оплаты заказа\n",
    "\n",
    "order_delivered_carrier_date —  время передачи заказа в логистическую службу\n",
    "\n",
    "order_delivered_customer_date —  время доставки заказа\n",
    "\n",
    "order_estimated_delivery_date —  обещанная дата доставки"
   ]
  },
  {
   "cell_type": "markdown",
   "metadata": {},
   "source": [
    "# Посмотрим форму таблицы, типы данных и есть ли пропущенные значения"
   ]
  },
  {
   "cell_type": "code",
   "execution_count": 6,
   "metadata": {},
   "outputs": [
    {
     "name": "stdout",
     "output_type": "stream",
     "text": [
      "<class 'pandas.core.frame.DataFrame'>\n",
      "RangeIndex: 99441 entries, 0 to 99440\n",
      "Data columns (total 5 columns):\n",
      " #   Column                    Non-Null Count  Dtype \n",
      "---  ------                    --------------  ----- \n",
      " 0   customer_id               99441 non-null  object\n",
      " 1   customer_unique_id        99441 non-null  object\n",
      " 2   customer_zip_code_prefix  99441 non-null  int64 \n",
      " 3   customer_city             99441 non-null  object\n",
      " 4   customer_state            99441 non-null  object\n",
      "dtypes: int64(1), object(4)\n",
      "memory usage: 3.8+ MB\n"
     ]
    }
   ],
   "source": [
    "# таблица customers_df\n",
    "customers_df.info()"
   ]
  },
  {
   "cell_type": "code",
   "execution_count": 7,
   "metadata": {},
   "outputs": [
    {
     "name": "stdout",
     "output_type": "stream",
     "text": [
      "<class 'pandas.core.frame.DataFrame'>\n",
      "RangeIndex: 112650 entries, 0 to 112649\n",
      "Data columns (total 7 columns):\n",
      " #   Column               Non-Null Count   Dtype  \n",
      "---  ------               --------------   -----  \n",
      " 0   order_id             112650 non-null  object \n",
      " 1   order_item_id        112650 non-null  int64  \n",
      " 2   product_id           112650 non-null  object \n",
      " 3   seller_id            112650 non-null  object \n",
      " 4   shipping_limit_date  112650 non-null  object \n",
      " 5   price                112650 non-null  float64\n",
      " 6   freight_value        112650 non-null  float64\n",
      "dtypes: float64(2), int64(1), object(4)\n",
      "memory usage: 6.0+ MB\n"
     ]
    }
   ],
   "source": [
    "# таблица order_items_df\n",
    "order_items_df.info()"
   ]
  },
  {
   "cell_type": "code",
   "execution_count": 8,
   "metadata": {},
   "outputs": [
    {
     "name": "stdout",
     "output_type": "stream",
     "text": [
      "<class 'pandas.core.frame.DataFrame'>\n",
      "RangeIndex: 99441 entries, 0 to 99440\n",
      "Data columns (total 8 columns):\n",
      " #   Column                         Non-Null Count  Dtype \n",
      "---  ------                         --------------  ----- \n",
      " 0   order_id                       99441 non-null  object\n",
      " 1   customer_id                    99441 non-null  object\n",
      " 2   order_status                   99441 non-null  object\n",
      " 3   order_purchase_timestamp       99441 non-null  object\n",
      " 4   order_approved_at              99281 non-null  object\n",
      " 5   order_delivered_carrier_date   97658 non-null  object\n",
      " 6   order_delivered_customer_date  96476 non-null  object\n",
      " 7   order_estimated_delivery_date  99441 non-null  object\n",
      "dtypes: object(8)\n",
      "memory usage: 6.1+ MB\n"
     ]
    }
   ],
   "source": [
    "# таблица orders_df\n",
    "orders_df.info()"
   ]
  },
  {
   "cell_type": "code",
   "execution_count": 9,
   "metadata": {},
   "outputs": [
    {
     "data": {
      "text/plain": [
       "order_id                            0\n",
       "customer_id                         0\n",
       "order_status                        0\n",
       "order_purchase_timestamp            0\n",
       "order_approved_at                 160\n",
       "order_delivered_carrier_date     1783\n",
       "order_delivered_customer_date    2965\n",
       "order_estimated_delivery_date       0\n",
       "dtype: int64"
      ]
     },
     "execution_count": 9,
     "metadata": {},
     "output_type": "execute_result"
    }
   ],
   "source": [
    "# пропущенные значения есть только в одной таблице\n",
    "orders_df.isna().sum()"
   ]
  },
  {
   "cell_type": "code",
   "execution_count": 10,
   "metadata": {},
   "outputs": [
    {
     "data": {
      "text/plain": [
       "delivered      96478\n",
       "shipped         1107\n",
       "canceled         625\n",
       "unavailable      609\n",
       "invoiced         314\n",
       "processing       301\n",
       "created            5\n",
       "approved           2\n",
       "Name: order_status, dtype: int64"
      ]
     },
     "execution_count": 10,
     "metadata": {},
     "output_type": "execute_result"
    }
   ],
   "source": [
    "# посмотрим, на количество заказов в разбивке по статусам\n",
    "orders_df.order_status.value_counts()"
   ]
  },
  {
   "cell_type": "code",
   "execution_count": 11,
   "metadata": {},
   "outputs": [],
   "source": [
    "# так как у нас есть колонки с датой, но у них тип данных object\n",
    "# лучше сразу поменяем тип данных на дату, чтобы легче было работать с этими столбцами\n",
    "\n",
    "orders_df = orders_df.astype({'order_purchase_timestamp': 'datetime64',\n",
    "                     'order_approved_at': 'datetime64',\n",
    "                     'order_delivered_carrier_date': 'datetime64',\n",
    "                     'order_delivered_customer_date': 'datetime64',\n",
    "                     'order_estimated_delivery_date': 'datetime64'})"
   ]
  },
  {
   "cell_type": "code",
   "execution_count": 12,
   "metadata": {},
   "outputs": [
    {
     "data": {
      "text/plain": [
       "order_id                                 object\n",
       "customer_id                              object\n",
       "order_status                             object\n",
       "order_purchase_timestamp         datetime64[ns]\n",
       "order_approved_at                datetime64[ns]\n",
       "order_delivered_carrier_date     datetime64[ns]\n",
       "order_delivered_customer_date    datetime64[ns]\n",
       "order_estimated_delivery_date    datetime64[ns]\n",
       "dtype: object"
      ]
     },
     "execution_count": 12,
     "metadata": {},
     "output_type": "execute_result"
    }
   ],
   "source": [
    "# проверим, поменялся ли тип данных на дату\n",
    "orders_df.dtypes"
   ]
  },
  {
   "cell_type": "markdown",
   "metadata": {},
   "source": [
    "# Предварительное исследование данных"
   ]
  },
  {
   "cell_type": "markdown",
   "metadata": {},
   "source": [
    "Чтобы понять, с каким статусом заказ будет считаться покупкой, необходимо определить, когда переходит право собственности на товар. Покупка означает вступление во владение данным активом, собственностью, предметом или правом, заплатив заранее определенную сумму денег для успешного завершения транзакции. При доставке право собственности переходит в момент вручения товара покупателю или указанному им лицу. Таким образом, до того, как товар будет передан клиенту, владеет и несет ответственность за него компания. Значит в определении понятия покупка, совершенная клиентом, нам подойдут только те заказы, которые уже переданы пользователю, то есть со статусом delivered(доставлен). Тогда как моментом совершения покупки можно считать фактическую дату оплаты заказа. Следовательно, покупкой будут считаться те товары, которые были оплачены и доставлены до пользователя.\n",
    "\n",
    "Уникальные статусы заказов в таблице orders_df:\n",
    "\n",
    "Есть такие уникальные заказы, как created —  создан, approved —  подтверждён, invoiced —  выставлен счёт, processing —  в процессе сборки заказа, shipped —  отгружен со склада.\n",
    "\n",
    "delivered —  доставлен пользователю. В данных есть заказы(14 штук) со статусом delivered(доставлен), но нет даты оплаты. Будем считать, что это ошибка в данных и дата просто не загрузилась. Так же в заказах со статусом delivered есть заказы(8 штук), у которых нет даты доставки, хотя по статусу знаем, что клиенту товар был доставлен. Будем считать, что это тоже просто ошибка в данных.\n",
    "\n",
    "unavailable —  недоступен. Это означает, что товар не доступен(к примеру, его нет на складе) и пользователь не сможет получить заказ, следовательно ему вернут потраченные средства, если он оплатил.\n",
    "\n",
    "canceled —  отменён. Все заказы со статусом canceled(отмененные) не считаем покупкой, совершенной пользователем, даже если оплата была произведена(в данных есть заказы, которые отменены,  но оплачены) или были доставлены(есть заказы, которые были доставлены, но отменены, скорее всего не понравилось качество товара или не вовремя доставили), так как пользователь отказался от заказа и ему будут возвращены деньги."
   ]
  },
  {
   "cell_type": "markdown",
   "metadata": {},
   "source": [
    "Найдем эти 14 заказов, где есть статус delivered(доставлен), но нет даты оплаты.\n",
    "Можно заметить, что очень много заказов(8 штук) было сделано 2017-02-18(колонка order_purchase_timestamp)\n",
    "и еще 3 заказа за день до этого и 1 после.\n",
    "Явно есть какая-то взаимосвязь, скорее всего в этот день плохо работал сайт или по какой-то другой причине не внеслась дата,\n",
    "но так как заказы были доставлены пользователю, оставим эти данные и не будем их удалять."
   ]
  },
  {
   "cell_type": "code",
   "execution_count": 13,
   "metadata": {},
   "outputs": [
    {
     "data": {
      "text/html": [
       "<div>\n",
       "<style scoped>\n",
       "    .dataframe tbody tr th:only-of-type {\n",
       "        vertical-align: middle;\n",
       "    }\n",
       "\n",
       "    .dataframe tbody tr th {\n",
       "        vertical-align: top;\n",
       "    }\n",
       "\n",
       "    .dataframe thead th {\n",
       "        text-align: right;\n",
       "    }\n",
       "</style>\n",
       "<table border=\"1\" class=\"dataframe\">\n",
       "  <thead>\n",
       "    <tr style=\"text-align: right;\">\n",
       "      <th></th>\n",
       "      <th>order_id</th>\n",
       "      <th>customer_id</th>\n",
       "      <th>order_status</th>\n",
       "      <th>order_purchase_timestamp</th>\n",
       "      <th>order_approved_at</th>\n",
       "      <th>order_delivered_carrier_date</th>\n",
       "      <th>order_delivered_customer_date</th>\n",
       "      <th>order_estimated_delivery_date</th>\n",
       "    </tr>\n",
       "  </thead>\n",
       "  <tbody>\n",
       "    <tr>\n",
       "      <th>5323</th>\n",
       "      <td>e04abd8149ef81b95221e88f6ed9ab6a</td>\n",
       "      <td>2127dc6603ac33544953ef05ec155771</td>\n",
       "      <td>delivered</td>\n",
       "      <td>2017-02-18 14:40:00</td>\n",
       "      <td>NaT</td>\n",
       "      <td>2017-02-23 12:04:47</td>\n",
       "      <td>2017-03-01 13:25:33</td>\n",
       "      <td>2017-03-17</td>\n",
       "    </tr>\n",
       "    <tr>\n",
       "      <th>16567</th>\n",
       "      <td>8a9adc69528e1001fc68dd0aaebbb54a</td>\n",
       "      <td>4c1ccc74e00993733742a3c786dc3c1f</td>\n",
       "      <td>delivered</td>\n",
       "      <td>2017-02-18 12:45:31</td>\n",
       "      <td>NaT</td>\n",
       "      <td>2017-02-23 09:01:52</td>\n",
       "      <td>2017-03-02 10:05:06</td>\n",
       "      <td>2017-03-21</td>\n",
       "    </tr>\n",
       "    <tr>\n",
       "      <th>19031</th>\n",
       "      <td>7013bcfc1c97fe719a7b5e05e61c12db</td>\n",
       "      <td>2941af76d38100e0f8740a374f1a5dc3</td>\n",
       "      <td>delivered</td>\n",
       "      <td>2017-02-18 13:29:47</td>\n",
       "      <td>NaT</td>\n",
       "      <td>2017-02-22 16:25:25</td>\n",
       "      <td>2017-03-01 08:07:38</td>\n",
       "      <td>2017-03-17</td>\n",
       "    </tr>\n",
       "    <tr>\n",
       "      <th>22663</th>\n",
       "      <td>5cf925b116421afa85ee25e99b4c34fb</td>\n",
       "      <td>29c35fc91fc13fb5073c8f30505d860d</td>\n",
       "      <td>delivered</td>\n",
       "      <td>2017-02-18 16:48:35</td>\n",
       "      <td>NaT</td>\n",
       "      <td>2017-02-22 11:23:10</td>\n",
       "      <td>2017-03-09 07:28:47</td>\n",
       "      <td>2017-03-31</td>\n",
       "    </tr>\n",
       "    <tr>\n",
       "      <th>23156</th>\n",
       "      <td>12a95a3c06dbaec84bcfb0e2da5d228a</td>\n",
       "      <td>1e101e0daffaddce8159d25a8e53f2b2</td>\n",
       "      <td>delivered</td>\n",
       "      <td>2017-02-17 13:05:55</td>\n",
       "      <td>NaT</td>\n",
       "      <td>2017-02-22 11:23:11</td>\n",
       "      <td>2017-03-02 11:09:19</td>\n",
       "      <td>2017-03-20</td>\n",
       "    </tr>\n",
       "    <tr>\n",
       "      <th>26800</th>\n",
       "      <td>c1d4211b3dae76144deccd6c74144a88</td>\n",
       "      <td>684cb238dc5b5d6366244e0e0776b450</td>\n",
       "      <td>delivered</td>\n",
       "      <td>2017-01-19 12:48:08</td>\n",
       "      <td>NaT</td>\n",
       "      <td>2017-01-25 14:56:50</td>\n",
       "      <td>2017-01-30 18:16:01</td>\n",
       "      <td>2017-03-01</td>\n",
       "    </tr>\n",
       "    <tr>\n",
       "      <th>38290</th>\n",
       "      <td>d69e5d356402adc8cf17e08b5033acfb</td>\n",
       "      <td>68d081753ad4fe22fc4d410a9eb1ca01</td>\n",
       "      <td>delivered</td>\n",
       "      <td>2017-02-19 01:28:47</td>\n",
       "      <td>NaT</td>\n",
       "      <td>2017-02-23 03:11:48</td>\n",
       "      <td>2017-03-02 03:41:58</td>\n",
       "      <td>2017-03-27</td>\n",
       "    </tr>\n",
       "    <tr>\n",
       "      <th>39334</th>\n",
       "      <td>d77031d6a3c8a52f019764e68f211c69</td>\n",
       "      <td>0bf35cac6cc7327065da879e2d90fae8</td>\n",
       "      <td>delivered</td>\n",
       "      <td>2017-02-18 11:04:19</td>\n",
       "      <td>NaT</td>\n",
       "      <td>2017-02-23 07:23:36</td>\n",
       "      <td>2017-03-02 16:15:23</td>\n",
       "      <td>2017-03-22</td>\n",
       "    </tr>\n",
       "    <tr>\n",
       "      <th>48401</th>\n",
       "      <td>7002a78c79c519ac54022d4f8a65e6e8</td>\n",
       "      <td>d5de688c321096d15508faae67a27051</td>\n",
       "      <td>delivered</td>\n",
       "      <td>2017-01-19 22:26:59</td>\n",
       "      <td>NaT</td>\n",
       "      <td>2017-01-27 11:08:05</td>\n",
       "      <td>2017-02-06 14:22:19</td>\n",
       "      <td>2017-03-16</td>\n",
       "    </tr>\n",
       "    <tr>\n",
       "      <th>61743</th>\n",
       "      <td>2eecb0d85f281280f79fa00f9cec1a95</td>\n",
       "      <td>a3d3c38e58b9d2dfb9207cab690b6310</td>\n",
       "      <td>delivered</td>\n",
       "      <td>2017-02-17 17:21:55</td>\n",
       "      <td>NaT</td>\n",
       "      <td>2017-02-22 11:42:51</td>\n",
       "      <td>2017-03-03 12:16:03</td>\n",
       "      <td>2017-03-20</td>\n",
       "    </tr>\n",
       "    <tr>\n",
       "      <th>63052</th>\n",
       "      <td>51eb2eebd5d76a24625b31c33dd41449</td>\n",
       "      <td>07a2a7e0f63fd8cb757ed77d4245623c</td>\n",
       "      <td>delivered</td>\n",
       "      <td>2017-02-18 15:52:27</td>\n",
       "      <td>NaT</td>\n",
       "      <td>2017-02-23 03:09:14</td>\n",
       "      <td>2017-03-07 13:57:47</td>\n",
       "      <td>2017-03-29</td>\n",
       "    </tr>\n",
       "    <tr>\n",
       "      <th>67697</th>\n",
       "      <td>88083e8f64d95b932164187484d90212</td>\n",
       "      <td>f67cd1a215aae2a1074638bbd35a223a</td>\n",
       "      <td>delivered</td>\n",
       "      <td>2017-02-18 22:49:19</td>\n",
       "      <td>NaT</td>\n",
       "      <td>2017-02-22 11:31:06</td>\n",
       "      <td>2017-03-02 12:06:06</td>\n",
       "      <td>2017-03-21</td>\n",
       "    </tr>\n",
       "    <tr>\n",
       "      <th>72407</th>\n",
       "      <td>3c0b8706b065f9919d0505d3b3343881</td>\n",
       "      <td>d85919cb3c0529589c6fa617f5f43281</td>\n",
       "      <td>delivered</td>\n",
       "      <td>2017-02-17 15:53:27</td>\n",
       "      <td>NaT</td>\n",
       "      <td>2017-02-22 11:31:30</td>\n",
       "      <td>2017-03-03 11:47:47</td>\n",
       "      <td>2017-03-23</td>\n",
       "    </tr>\n",
       "    <tr>\n",
       "      <th>84999</th>\n",
       "      <td>2babbb4b15e6d2dfe95e2de765c97bce</td>\n",
       "      <td>74bebaf46603f9340e3b50c6b086f992</td>\n",
       "      <td>delivered</td>\n",
       "      <td>2017-02-18 17:15:03</td>\n",
       "      <td>NaT</td>\n",
       "      <td>2017-02-22 11:23:11</td>\n",
       "      <td>2017-03-03 18:43:43</td>\n",
       "      <td>2017-03-31</td>\n",
       "    </tr>\n",
       "  </tbody>\n",
       "</table>\n",
       "</div>"
      ],
      "text/plain": [
       "                               order_id                       customer_id  \\\n",
       "5323   e04abd8149ef81b95221e88f6ed9ab6a  2127dc6603ac33544953ef05ec155771   \n",
       "16567  8a9adc69528e1001fc68dd0aaebbb54a  4c1ccc74e00993733742a3c786dc3c1f   \n",
       "19031  7013bcfc1c97fe719a7b5e05e61c12db  2941af76d38100e0f8740a374f1a5dc3   \n",
       "22663  5cf925b116421afa85ee25e99b4c34fb  29c35fc91fc13fb5073c8f30505d860d   \n",
       "23156  12a95a3c06dbaec84bcfb0e2da5d228a  1e101e0daffaddce8159d25a8e53f2b2   \n",
       "26800  c1d4211b3dae76144deccd6c74144a88  684cb238dc5b5d6366244e0e0776b450   \n",
       "38290  d69e5d356402adc8cf17e08b5033acfb  68d081753ad4fe22fc4d410a9eb1ca01   \n",
       "39334  d77031d6a3c8a52f019764e68f211c69  0bf35cac6cc7327065da879e2d90fae8   \n",
       "48401  7002a78c79c519ac54022d4f8a65e6e8  d5de688c321096d15508faae67a27051   \n",
       "61743  2eecb0d85f281280f79fa00f9cec1a95  a3d3c38e58b9d2dfb9207cab690b6310   \n",
       "63052  51eb2eebd5d76a24625b31c33dd41449  07a2a7e0f63fd8cb757ed77d4245623c   \n",
       "67697  88083e8f64d95b932164187484d90212  f67cd1a215aae2a1074638bbd35a223a   \n",
       "72407  3c0b8706b065f9919d0505d3b3343881  d85919cb3c0529589c6fa617f5f43281   \n",
       "84999  2babbb4b15e6d2dfe95e2de765c97bce  74bebaf46603f9340e3b50c6b086f992   \n",
       "\n",
       "      order_status order_purchase_timestamp order_approved_at  \\\n",
       "5323     delivered      2017-02-18 14:40:00               NaT   \n",
       "16567    delivered      2017-02-18 12:45:31               NaT   \n",
       "19031    delivered      2017-02-18 13:29:47               NaT   \n",
       "22663    delivered      2017-02-18 16:48:35               NaT   \n",
       "23156    delivered      2017-02-17 13:05:55               NaT   \n",
       "26800    delivered      2017-01-19 12:48:08               NaT   \n",
       "38290    delivered      2017-02-19 01:28:47               NaT   \n",
       "39334    delivered      2017-02-18 11:04:19               NaT   \n",
       "48401    delivered      2017-01-19 22:26:59               NaT   \n",
       "61743    delivered      2017-02-17 17:21:55               NaT   \n",
       "63052    delivered      2017-02-18 15:52:27               NaT   \n",
       "67697    delivered      2017-02-18 22:49:19               NaT   \n",
       "72407    delivered      2017-02-17 15:53:27               NaT   \n",
       "84999    delivered      2017-02-18 17:15:03               NaT   \n",
       "\n",
       "      order_delivered_carrier_date order_delivered_customer_date  \\\n",
       "5323           2017-02-23 12:04:47           2017-03-01 13:25:33   \n",
       "16567          2017-02-23 09:01:52           2017-03-02 10:05:06   \n",
       "19031          2017-02-22 16:25:25           2017-03-01 08:07:38   \n",
       "22663          2017-02-22 11:23:10           2017-03-09 07:28:47   \n",
       "23156          2017-02-22 11:23:11           2017-03-02 11:09:19   \n",
       "26800          2017-01-25 14:56:50           2017-01-30 18:16:01   \n",
       "38290          2017-02-23 03:11:48           2017-03-02 03:41:58   \n",
       "39334          2017-02-23 07:23:36           2017-03-02 16:15:23   \n",
       "48401          2017-01-27 11:08:05           2017-02-06 14:22:19   \n",
       "61743          2017-02-22 11:42:51           2017-03-03 12:16:03   \n",
       "63052          2017-02-23 03:09:14           2017-03-07 13:57:47   \n",
       "67697          2017-02-22 11:31:06           2017-03-02 12:06:06   \n",
       "72407          2017-02-22 11:31:30           2017-03-03 11:47:47   \n",
       "84999          2017-02-22 11:23:11           2017-03-03 18:43:43   \n",
       "\n",
       "      order_estimated_delivery_date  \n",
       "5323                     2017-03-17  \n",
       "16567                    2017-03-21  \n",
       "19031                    2017-03-17  \n",
       "22663                    2017-03-31  \n",
       "23156                    2017-03-20  \n",
       "26800                    2017-03-01  \n",
       "38290                    2017-03-27  \n",
       "39334                    2017-03-22  \n",
       "48401                    2017-03-16  \n",
       "61743                    2017-03-20  \n",
       "63052                    2017-03-29  \n",
       "67697                    2017-03-21  \n",
       "72407                    2017-03-23  \n",
       "84999                    2017-03-31  "
      ]
     },
     "execution_count": 13,
     "metadata": {},
     "output_type": "execute_result"
    }
   ],
   "source": [
    "orders_df[orders_df['order_approved_at'].isna()].query('order_status == \"delivered\"')"
   ]
  },
  {
   "cell_type": "markdown",
   "metadata": {},
   "source": [
    "Посмотрим на заказы со статусом delivered(8 штук), у которых нет даты доставки. Можем предположить, что клиент лично забрал товар и не воспользовался доставкой. Так как можно заметить, что сделан заказ и оплачен в один день, и они отличаются примерно на 20 минут, но точно мы сказать не можем, может это просто ошибка в данных"
   ]
  },
  {
   "cell_type": "code",
   "execution_count": 14,
   "metadata": {},
   "outputs": [
    {
     "data": {
      "text/html": [
       "<div>\n",
       "<style scoped>\n",
       "    .dataframe tbody tr th:only-of-type {\n",
       "        vertical-align: middle;\n",
       "    }\n",
       "\n",
       "    .dataframe tbody tr th {\n",
       "        vertical-align: top;\n",
       "    }\n",
       "\n",
       "    .dataframe thead th {\n",
       "        text-align: right;\n",
       "    }\n",
       "</style>\n",
       "<table border=\"1\" class=\"dataframe\">\n",
       "  <thead>\n",
       "    <tr style=\"text-align: right;\">\n",
       "      <th></th>\n",
       "      <th>order_id</th>\n",
       "      <th>customer_id</th>\n",
       "      <th>order_status</th>\n",
       "      <th>order_purchase_timestamp</th>\n",
       "      <th>order_approved_at</th>\n",
       "      <th>order_delivered_carrier_date</th>\n",
       "      <th>order_delivered_customer_date</th>\n",
       "      <th>order_estimated_delivery_date</th>\n",
       "    </tr>\n",
       "  </thead>\n",
       "  <tbody>\n",
       "    <tr>\n",
       "      <th>3002</th>\n",
       "      <td>2d1e2d5bf4dc7227b3bfebb81328c15f</td>\n",
       "      <td>ec05a6d8558c6455f0cbbd8a420ad34f</td>\n",
       "      <td>delivered</td>\n",
       "      <td>2017-11-28 17:44:07</td>\n",
       "      <td>2017-11-28 17:56:40</td>\n",
       "      <td>2017-11-30 18:12:23</td>\n",
       "      <td>NaT</td>\n",
       "      <td>2017-12-18</td>\n",
       "    </tr>\n",
       "    <tr>\n",
       "      <th>20618</th>\n",
       "      <td>f5dd62b788049ad9fc0526e3ad11a097</td>\n",
       "      <td>5e89028e024b381dc84a13a3570decb4</td>\n",
       "      <td>delivered</td>\n",
       "      <td>2018-06-20 06:58:43</td>\n",
       "      <td>2018-06-20 07:19:05</td>\n",
       "      <td>2018-06-25 08:05:00</td>\n",
       "      <td>NaT</td>\n",
       "      <td>2018-07-16</td>\n",
       "    </tr>\n",
       "    <tr>\n",
       "      <th>43834</th>\n",
       "      <td>2ebdfc4f15f23b91474edf87475f108e</td>\n",
       "      <td>29f0540231702fda0cfdee0a310f11aa</td>\n",
       "      <td>delivered</td>\n",
       "      <td>2018-07-01 17:05:11</td>\n",
       "      <td>2018-07-01 17:15:12</td>\n",
       "      <td>2018-07-03 13:57:00</td>\n",
       "      <td>NaT</td>\n",
       "      <td>2018-07-30</td>\n",
       "    </tr>\n",
       "    <tr>\n",
       "      <th>79263</th>\n",
       "      <td>e69f75a717d64fc5ecdfae42b2e8e086</td>\n",
       "      <td>cfda40ca8dd0a5d486a9635b611b398a</td>\n",
       "      <td>delivered</td>\n",
       "      <td>2018-07-01 22:05:55</td>\n",
       "      <td>2018-07-01 22:15:14</td>\n",
       "      <td>2018-07-03 13:57:00</td>\n",
       "      <td>NaT</td>\n",
       "      <td>2018-07-30</td>\n",
       "    </tr>\n",
       "    <tr>\n",
       "      <th>82868</th>\n",
       "      <td>0d3268bad9b086af767785e3f0fc0133</td>\n",
       "      <td>4f1d63d35fb7c8999853b2699f5c7649</td>\n",
       "      <td>delivered</td>\n",
       "      <td>2018-07-01 21:14:02</td>\n",
       "      <td>2018-07-01 21:29:54</td>\n",
       "      <td>2018-07-03 09:28:00</td>\n",
       "      <td>NaT</td>\n",
       "      <td>2018-07-24</td>\n",
       "    </tr>\n",
       "    <tr>\n",
       "      <th>92643</th>\n",
       "      <td>2d858f451373b04fb5c984a1cc2defaf</td>\n",
       "      <td>e08caf668d499a6d643dafd7c5cc498a</td>\n",
       "      <td>delivered</td>\n",
       "      <td>2017-05-25 23:22:43</td>\n",
       "      <td>2017-05-25 23:30:16</td>\n",
       "      <td>NaT</td>\n",
       "      <td>NaT</td>\n",
       "      <td>2017-06-23</td>\n",
       "    </tr>\n",
       "    <tr>\n",
       "      <th>97647</th>\n",
       "      <td>ab7c89dc1bf4a1ead9d6ec1ec8968a84</td>\n",
       "      <td>dd1b84a7286eb4524d52af4256c0ba24</td>\n",
       "      <td>delivered</td>\n",
       "      <td>2018-06-08 12:09:39</td>\n",
       "      <td>2018-06-08 12:36:39</td>\n",
       "      <td>2018-06-12 14:10:00</td>\n",
       "      <td>NaT</td>\n",
       "      <td>2018-06-26</td>\n",
       "    </tr>\n",
       "    <tr>\n",
       "      <th>98038</th>\n",
       "      <td>20edc82cf5400ce95e1afacc25798b31</td>\n",
       "      <td>28c37425f1127d887d7337f284080a0f</td>\n",
       "      <td>delivered</td>\n",
       "      <td>2018-06-27 16:09:12</td>\n",
       "      <td>2018-06-27 16:29:30</td>\n",
       "      <td>2018-07-03 19:26:00</td>\n",
       "      <td>NaT</td>\n",
       "      <td>2018-07-19</td>\n",
       "    </tr>\n",
       "  </tbody>\n",
       "</table>\n",
       "</div>"
      ],
      "text/plain": [
       "                               order_id                       customer_id  \\\n",
       "3002   2d1e2d5bf4dc7227b3bfebb81328c15f  ec05a6d8558c6455f0cbbd8a420ad34f   \n",
       "20618  f5dd62b788049ad9fc0526e3ad11a097  5e89028e024b381dc84a13a3570decb4   \n",
       "43834  2ebdfc4f15f23b91474edf87475f108e  29f0540231702fda0cfdee0a310f11aa   \n",
       "79263  e69f75a717d64fc5ecdfae42b2e8e086  cfda40ca8dd0a5d486a9635b611b398a   \n",
       "82868  0d3268bad9b086af767785e3f0fc0133  4f1d63d35fb7c8999853b2699f5c7649   \n",
       "92643  2d858f451373b04fb5c984a1cc2defaf  e08caf668d499a6d643dafd7c5cc498a   \n",
       "97647  ab7c89dc1bf4a1ead9d6ec1ec8968a84  dd1b84a7286eb4524d52af4256c0ba24   \n",
       "98038  20edc82cf5400ce95e1afacc25798b31  28c37425f1127d887d7337f284080a0f   \n",
       "\n",
       "      order_status order_purchase_timestamp   order_approved_at  \\\n",
       "3002     delivered      2017-11-28 17:44:07 2017-11-28 17:56:40   \n",
       "20618    delivered      2018-06-20 06:58:43 2018-06-20 07:19:05   \n",
       "43834    delivered      2018-07-01 17:05:11 2018-07-01 17:15:12   \n",
       "79263    delivered      2018-07-01 22:05:55 2018-07-01 22:15:14   \n",
       "82868    delivered      2018-07-01 21:14:02 2018-07-01 21:29:54   \n",
       "92643    delivered      2017-05-25 23:22:43 2017-05-25 23:30:16   \n",
       "97647    delivered      2018-06-08 12:09:39 2018-06-08 12:36:39   \n",
       "98038    delivered      2018-06-27 16:09:12 2018-06-27 16:29:30   \n",
       "\n",
       "      order_delivered_carrier_date order_delivered_customer_date  \\\n",
       "3002           2017-11-30 18:12:23                           NaT   \n",
       "20618          2018-06-25 08:05:00                           NaT   \n",
       "43834          2018-07-03 13:57:00                           NaT   \n",
       "79263          2018-07-03 13:57:00                           NaT   \n",
       "82868          2018-07-03 09:28:00                           NaT   \n",
       "92643                          NaT                           NaT   \n",
       "97647          2018-06-12 14:10:00                           NaT   \n",
       "98038          2018-07-03 19:26:00                           NaT   \n",
       "\n",
       "      order_estimated_delivery_date  \n",
       "3002                     2017-12-18  \n",
       "20618                    2018-07-16  \n",
       "43834                    2018-07-30  \n",
       "79263                    2018-07-30  \n",
       "82868                    2018-07-24  \n",
       "92643                    2017-06-23  \n",
       "97647                    2018-06-26  \n",
       "98038                    2018-07-19  "
      ]
     },
     "execution_count": 14,
     "metadata": {},
     "output_type": "execute_result"
    }
   ],
   "source": [
    "orders_df[orders_df.order_delivered_customer_date.isna()].query('order_status == \"delivered\"')"
   ]
  },
  {
   "cell_type": "markdown",
   "metadata": {},
   "source": [
    "Посмотрим на заказы со статусом canceled(6 штук), у которых есть дата доставки. Можем предположить, что товар был доставлен клиенту, поэтому есть дата доставки, но клиенту не понравилось качество товара(к примеру, может что-то сломано было) и он отказался от заказа и отменил его. А может, слишком поздно или рано доставили, что тоже могло повлиять на то, что клиент отказался."
   ]
  },
  {
   "cell_type": "code",
   "execution_count": 15,
   "metadata": {},
   "outputs": [
    {
     "data": {
      "text/html": [
       "<div>\n",
       "<style scoped>\n",
       "    .dataframe tbody tr th:only-of-type {\n",
       "        vertical-align: middle;\n",
       "    }\n",
       "\n",
       "    .dataframe tbody tr th {\n",
       "        vertical-align: top;\n",
       "    }\n",
       "\n",
       "    .dataframe thead th {\n",
       "        text-align: right;\n",
       "    }\n",
       "</style>\n",
       "<table border=\"1\" class=\"dataframe\">\n",
       "  <thead>\n",
       "    <tr style=\"text-align: right;\">\n",
       "      <th></th>\n",
       "      <th>order_id</th>\n",
       "      <th>customer_id</th>\n",
       "      <th>order_status</th>\n",
       "      <th>order_purchase_timestamp</th>\n",
       "      <th>order_approved_at</th>\n",
       "      <th>order_delivered_carrier_date</th>\n",
       "      <th>order_delivered_customer_date</th>\n",
       "      <th>order_estimated_delivery_date</th>\n",
       "    </tr>\n",
       "  </thead>\n",
       "  <tbody>\n",
       "    <tr>\n",
       "      <th>2921</th>\n",
       "      <td>1950d777989f6a877539f53795b4c3c3</td>\n",
       "      <td>1bccb206de9f0f25adc6871a1bcf77b2</td>\n",
       "      <td>canceled</td>\n",
       "      <td>2018-02-19 19:48:52</td>\n",
       "      <td>2018-02-19 20:56:05</td>\n",
       "      <td>2018-02-20 19:57:13</td>\n",
       "      <td>2018-03-21 22:03:51</td>\n",
       "      <td>2018-03-09</td>\n",
       "    </tr>\n",
       "    <tr>\n",
       "      <th>8791</th>\n",
       "      <td>dabf2b0e35b423f94618bf965fcb7514</td>\n",
       "      <td>5cdec0bb8cbdf53ffc8fdc212cd247c6</td>\n",
       "      <td>canceled</td>\n",
       "      <td>2016-10-09 00:56:52</td>\n",
       "      <td>2016-10-09 13:36:58</td>\n",
       "      <td>2016-10-13 13:36:59</td>\n",
       "      <td>2016-10-16 14:36:59</td>\n",
       "      <td>2016-11-30</td>\n",
       "    </tr>\n",
       "    <tr>\n",
       "      <th>58266</th>\n",
       "      <td>770d331c84e5b214bd9dc70a10b829d0</td>\n",
       "      <td>6c57e6119369185e575b36712766b0ef</td>\n",
       "      <td>canceled</td>\n",
       "      <td>2016-10-07 14:52:30</td>\n",
       "      <td>2016-10-07 15:07:10</td>\n",
       "      <td>2016-10-11 15:07:11</td>\n",
       "      <td>2016-10-14 15:07:11</td>\n",
       "      <td>2016-11-29</td>\n",
       "    </tr>\n",
       "    <tr>\n",
       "      <th>59332</th>\n",
       "      <td>8beb59392e21af5eb9547ae1a9938d06</td>\n",
       "      <td>bf609b5741f71697f65ce3852c5d2623</td>\n",
       "      <td>canceled</td>\n",
       "      <td>2016-10-08 20:17:50</td>\n",
       "      <td>2016-10-09 14:34:30</td>\n",
       "      <td>2016-10-14 22:45:26</td>\n",
       "      <td>2016-10-19 18:47:43</td>\n",
       "      <td>2016-11-30</td>\n",
       "    </tr>\n",
       "    <tr>\n",
       "      <th>92636</th>\n",
       "      <td>65d1e226dfaeb8cdc42f665422522d14</td>\n",
       "      <td>70fc57eeae292675927697fe03ad3ff5</td>\n",
       "      <td>canceled</td>\n",
       "      <td>2016-10-03 21:01:41</td>\n",
       "      <td>2016-10-04 10:18:57</td>\n",
       "      <td>2016-10-25 12:14:28</td>\n",
       "      <td>2016-11-08 10:58:34</td>\n",
       "      <td>2016-11-25</td>\n",
       "    </tr>\n",
       "    <tr>\n",
       "      <th>94399</th>\n",
       "      <td>2c45c33d2f9cb8ff8b1c86cc28c11c30</td>\n",
       "      <td>de4caa97afa80c8eeac2ff4c8da5b72e</td>\n",
       "      <td>canceled</td>\n",
       "      <td>2016-10-09 15:39:56</td>\n",
       "      <td>2016-10-10 10:40:49</td>\n",
       "      <td>2016-10-14 10:40:50</td>\n",
       "      <td>2016-11-09 14:53:50</td>\n",
       "      <td>2016-12-08</td>\n",
       "    </tr>\n",
       "  </tbody>\n",
       "</table>\n",
       "</div>"
      ],
      "text/plain": [
       "                               order_id                       customer_id  \\\n",
       "2921   1950d777989f6a877539f53795b4c3c3  1bccb206de9f0f25adc6871a1bcf77b2   \n",
       "8791   dabf2b0e35b423f94618bf965fcb7514  5cdec0bb8cbdf53ffc8fdc212cd247c6   \n",
       "58266  770d331c84e5b214bd9dc70a10b829d0  6c57e6119369185e575b36712766b0ef   \n",
       "59332  8beb59392e21af5eb9547ae1a9938d06  bf609b5741f71697f65ce3852c5d2623   \n",
       "92636  65d1e226dfaeb8cdc42f665422522d14  70fc57eeae292675927697fe03ad3ff5   \n",
       "94399  2c45c33d2f9cb8ff8b1c86cc28c11c30  de4caa97afa80c8eeac2ff4c8da5b72e   \n",
       "\n",
       "      order_status order_purchase_timestamp   order_approved_at  \\\n",
       "2921      canceled      2018-02-19 19:48:52 2018-02-19 20:56:05   \n",
       "8791      canceled      2016-10-09 00:56:52 2016-10-09 13:36:58   \n",
       "58266     canceled      2016-10-07 14:52:30 2016-10-07 15:07:10   \n",
       "59332     canceled      2016-10-08 20:17:50 2016-10-09 14:34:30   \n",
       "92636     canceled      2016-10-03 21:01:41 2016-10-04 10:18:57   \n",
       "94399     canceled      2016-10-09 15:39:56 2016-10-10 10:40:49   \n",
       "\n",
       "      order_delivered_carrier_date order_delivered_customer_date  \\\n",
       "2921           2018-02-20 19:57:13           2018-03-21 22:03:51   \n",
       "8791           2016-10-13 13:36:59           2016-10-16 14:36:59   \n",
       "58266          2016-10-11 15:07:11           2016-10-14 15:07:11   \n",
       "59332          2016-10-14 22:45:26           2016-10-19 18:47:43   \n",
       "92636          2016-10-25 12:14:28           2016-11-08 10:58:34   \n",
       "94399          2016-10-14 10:40:50           2016-11-09 14:53:50   \n",
       "\n",
       "      order_estimated_delivery_date  \n",
       "2921                     2018-03-09  \n",
       "8791                     2016-11-30  \n",
       "58266                    2016-11-29  \n",
       "59332                    2016-11-30  \n",
       "92636                    2016-11-25  \n",
       "94399                    2016-12-08  "
      ]
     },
     "execution_count": 15,
     "metadata": {},
     "output_type": "execute_result"
    }
   ],
   "source": [
    "orders_df.query('order_status == \"canceled\"').dropna(subset=['order_delivered_customer_date'])"
   ]
  },
  {
   "cell_type": "code",
   "execution_count": null,
   "metadata": {},
   "outputs": [],
   "source": []
  },
  {
   "cell_type": "markdown",
   "metadata": {},
   "source": [
    "# Сколько у нас пользователей, которые совершили покупку только один раз?"
   ]
  },
  {
   "cell_type": "markdown",
   "metadata": {},
   "source": [
    "Необходимо найти то, когда пользователь совершил покупку только один раз. В экономическом смысле покупка - это процесс приобретения товаров или услуг для достижения своих целей. Покупкой можно называть то, когда приобретают один или несколько товаров в одном чеке. Понадобится таблицы customers_df и orders_df. Так как customer_id — позаказный идентификатор пользователя, customer_unique_id - уникальный номер пользователя, а из таблицы orders_df понадобится статус заказа.\n",
    "\n",
    "Чтобы понять, с каким статусом заказ будет считаться покупкой, необходимо определить, когда переходит право собственности на товар. Покупка означает вступление во владение данным активом, собственностью, предметом или правом, заплатив заранее определенную сумму денег для успешного завершения транзакции. При доставке право собственности переходит в момент вручения товара покупателю или указанному им лицу. Таким образом, до того, как товар будет передан клиенту, владеет и несет ответственность за него компания. Значит нам подойдут только те заказы, которые уже переданы пользователю, то есть со статусом delivered(доставлен)."
   ]
  },
  {
   "cell_type": "code",
   "execution_count": 16,
   "metadata": {},
   "outputs": [],
   "source": [
    "# объединим orders_df с customers_df, не будем брать по всем столбцам, а возьмем только нужные, inner join\n",
    "\n",
    "customer_purchases = pd.merge(customers_df[['customer_unique_id', 'customer_id']],\n",
    "                             orders_df[['customer_id', 'order_status']],\n",
    "                             on='customer_id')"
   ]
  },
  {
   "cell_type": "code",
   "execution_count": 17,
   "metadata": {},
   "outputs": [
    {
     "name": "stdout",
     "output_type": "stream",
     "text": [
      "Вывод: 90557 пользователей совершили покупку только один раз.\n"
     ]
    }
   ],
   "source": [
    "# найдем кол-во пользователей, совершивших одну покупку\n",
    "# оствим только доставленные заказы, сгруппируем по customer_unique_id и посчитаем кол-во позаказных идентификаторов \n",
    "# далее отфильтруем и оставим только 1\n",
    "\n",
    "customers_with_one_purchase = customer_purchases \\\n",
    "                                .query('order_status == \"delivered\"') \\\n",
    "                                .groupby('customer_unique_id') \\\n",
    "                                .agg({'customer_id': 'count'}) \\\n",
    "                                .query('customer_id == 1') \\\n",
    "                                .shape[0]\n",
    "print(f'Вывод: {customers_with_one_purchase} пользователей совершили покупку только один раз.')"
   ]
  },
  {
   "cell_type": "markdown",
   "metadata": {},
   "source": [
    "# Сколько заказов в месяц в среднем не доставляется по разным причинам (вывести детализацию по причинам)?"
   ]
  },
  {
   "cell_type": "markdown",
   "metadata": {},
   "source": [
    "Заказ не считается доставленным, если не имеет статус delivered(доставлен). Следовательно, у таких заказов не будет времени доставки заказа пользователю, данные которого хранятся в колонке order_delivered_customer_date. Так же не будем использовать заказы, со статусом created(так как такие заказы только создаются).\n",
    "\n",
    "В данных есть заказы со статусом canceled(6 штук), у которых есть дата доставки. Хоть такие заказы и были отменены, но их можно считать доставленными. Так как до клиента они дошли, но он мог отказаться от заказа при получении. Поэтому целесообразно использовать заказы, у которых нет даты доставки.\n",
    "\n",
    "Так как будем смотреть не доставленные заказы по разным причинам, то будем использовать дату из колонки order_purchase_timestamp(время создание заказа). Это дата, когда пользователь создал заказ и если в дальнейшем он не был доставлен, не важно по какой причине, то такие данные будут нам интересны для исследования."
   ]
  },
  {
   "cell_type": "code",
   "execution_count": 18,
   "metadata": {},
   "outputs": [],
   "source": [
    "# оставим только те заказы, у которых нет времени доставки пользователю и сохраним таблицу в новую переменную\n",
    "orders_without_deliver = orders_df[orders_df['order_delivered_customer_date'].isna()]"
   ]
  },
  {
   "cell_type": "markdown",
   "metadata": {},
   "source": [
    "Проверим, заказы с какими статусами не доставлялись. Можно заметить, что есть заказы со статусом delivered(доставлен). Если заказ доставлен и нет даты, значит ощибка в данных, такие заказы будем считать доставлеными до пользователя."
   ]
  },
  {
   "cell_type": "code",
   "execution_count": 19,
   "metadata": {},
   "outputs": [
    {
     "data": {
      "text/plain": [
       "shipped        1107\n",
       "canceled        619\n",
       "unavailable     609\n",
       "invoiced        314\n",
       "processing      301\n",
       "delivered         8\n",
       "created           5\n",
       "approved          2\n",
       "Name: order_status, dtype: int64"
      ]
     },
     "execution_count": 19,
     "metadata": {},
     "output_type": "execute_result"
    }
   ],
   "source": [
    "orders_without_deliver.order_status.value_counts()"
   ]
  },
  {
   "cell_type": "code",
   "execution_count": 20,
   "metadata": {},
   "outputs": [],
   "source": [
    "# отфильтруем таблицу, убрав заказы со статусом delivered и created\n",
    "orders_without_deliver = orders_without_deliver.query('order_status != \"delivered\" and order_status != \"created\"')"
   ]
  },
  {
   "cell_type": "code",
   "execution_count": 21,
   "metadata": {},
   "outputs": [],
   "source": [
    "# чтобы удобнее было работать с данными, создадим новую колонку, куда поместим год и месяц\n",
    "# чтобы в дальнейшем посчитать уникальное количество месяцев\n",
    "orders_without_deliver['year_month'] = orders_without_deliver['order_purchase_timestamp'].dt.strftime('%Y-%m')"
   ]
  },
  {
   "cell_type": "code",
   "execution_count": 22,
   "metadata": {},
   "outputs": [
    {
     "name": "stdout",
     "output_type": "stream",
     "text": [
      "Вывод: 123 заказа в месяц в среднем не доставляется\n"
     ]
    }
   ],
   "source": [
    "# найдем общее среднее количество недоставленных заказов за эти месяцы\n",
    "# сгруппируем по колонке year_month, посчитаем количество заказов в этих месяцах и посчитаем среднее через метод mean()\n",
    "# округлим среднее до целого\n",
    "\n",
    "not_delivered_mean = orders_without_deliver.shape[0] / orders_without_deliver.year_month.nunique()\n",
    "print(f'Вывод: {round(not_delivered_mean)} заказа в месяц в среднем не доставляется')"
   ]
  },
  {
   "cell_type": "markdown",
   "metadata": {},
   "source": [
    "Далее выведем детализацию по причинам, то есть узнаем общее количество недоставленных заказов по разным статусам, а также найдем сколько заказов в месяц в среднем не доставляется по разным причинам"
   ]
  },
  {
   "cell_type": "code",
   "execution_count": 23,
   "metadata": {},
   "outputs": [],
   "source": [
    "# отсортируем по убыванию и проставим индексы по порядку\n",
    "mean_by_status = orders_without_deliver \\\n",
    "                .groupby('order_status', as_index=False) \\\n",
    "                .agg({'customer_id': 'count'}) \\\n",
    "                .rename(columns={'customer_id': 'quantity'}) \\\n",
    "                .sort_values('quantity', ascending=False) \\\n",
    "                .reset_index(drop=True)"
   ]
  },
  {
   "cell_type": "code",
   "execution_count": 24,
   "metadata": {},
   "outputs": [],
   "source": [
    "# найдем среднее, разделив общее количество недоставленных заказов по разным статусам на количество исследуемых месяцев\n",
    "# округлим результат среднего до двух знаков после запятой\n",
    "mean_by_status['mean_by_status'] = round(mean_by_status.quantity / orders_without_deliver.year_month.nunique(), 2)"
   ]
  },
  {
   "cell_type": "code",
   "execution_count": 25,
   "metadata": {},
   "outputs": [],
   "source": [
    "# колонка с количеством недоставленных товаров нам больше не нужна, так как нам необходимо найти только среднюю\n",
    "# поэтому удалим столбец quantity\n",
    "mean_by_status = mean_by_status.drop('quantity', axis=1)"
   ]
  },
  {
   "cell_type": "code",
   "execution_count": 26,
   "metadata": {},
   "outputs": [
    {
     "data": {
      "text/html": [
       "<div>\n",
       "<style scoped>\n",
       "    .dataframe tbody tr th:only-of-type {\n",
       "        vertical-align: middle;\n",
       "    }\n",
       "\n",
       "    .dataframe tbody tr th {\n",
       "        vertical-align: top;\n",
       "    }\n",
       "\n",
       "    .dataframe thead th {\n",
       "        text-align: right;\n",
       "    }\n",
       "</style>\n",
       "<table border=\"1\" class=\"dataframe\">\n",
       "  <thead>\n",
       "    <tr style=\"text-align: right;\">\n",
       "      <th></th>\n",
       "      <th>order_status</th>\n",
       "      <th>mean_by_status</th>\n",
       "    </tr>\n",
       "  </thead>\n",
       "  <tbody>\n",
       "    <tr>\n",
       "      <th>0</th>\n",
       "      <td>shipped</td>\n",
       "      <td>46.12</td>\n",
       "    </tr>\n",
       "    <tr>\n",
       "      <th>1</th>\n",
       "      <td>canceled</td>\n",
       "      <td>25.79</td>\n",
       "    </tr>\n",
       "    <tr>\n",
       "      <th>2</th>\n",
       "      <td>unavailable</td>\n",
       "      <td>25.38</td>\n",
       "    </tr>\n",
       "    <tr>\n",
       "      <th>3</th>\n",
       "      <td>invoiced</td>\n",
       "      <td>13.08</td>\n",
       "    </tr>\n",
       "    <tr>\n",
       "      <th>4</th>\n",
       "      <td>processing</td>\n",
       "      <td>12.54</td>\n",
       "    </tr>\n",
       "    <tr>\n",
       "      <th>5</th>\n",
       "      <td>approved</td>\n",
       "      <td>0.08</td>\n",
       "    </tr>\n",
       "  </tbody>\n",
       "</table>\n",
       "</div>"
      ],
      "text/plain": [
       "  order_status  mean_by_status\n",
       "0      shipped           46.12\n",
       "1     canceled           25.79\n",
       "2  unavailable           25.38\n",
       "3     invoiced           13.08\n",
       "4   processing           12.54\n",
       "5     approved            0.08"
      ]
     },
     "execution_count": 26,
     "metadata": {},
     "output_type": "execute_result"
    }
   ],
   "source": [
    "# так мы получили таблицу с детализацией причин заказов по месяцам, которые в среднем не доставляются по разным причинам\n",
    "mean_by_status"
   ]
  },
  {
   "cell_type": "code",
   "execution_count": 27,
   "metadata": {
    "scrolled": true
   },
   "outputs": [
    {
     "data": {
      "image/png": "[encoded data removed]",
      "text/plain": [
       "<Figure size 432x288 with 1 Axes>"
      ]
     },
     "metadata": {},
     "output_type": "display_data"
    }
   ],
   "source": [
    "# нарисуем график, где покажем различия в недоставленных товарах по разным причинам\n",
    "# больше всего недоставленных товаров по причине того, что они отгружены со склада(shipped)\n",
    "sns.barplot(data=mean_by_status, x='order_status', y='mean_by_status')\n",
    "plt.title('Недоставленные товары по разным причинам')\n",
    "plt.xlabel('Статус заказа')\n",
    "plt.ylabel('Среднее количество в месяц')\n",
    "plt.xticks(rotation=45);"
   ]
  },
  {
   "cell_type": "markdown",
   "metadata": {},
   "source": [
    "В итоге можно сделать вывод, что 123 заказа в месяц в среднем не доставляется по разным причинам. Из них больше всего недоставленных товаров по причине того, что они отгружены со склада(shipped)."
   ]
  },
  {
   "cell_type": "markdown",
   "metadata": {},
   "source": [
    "# По каждому товару определить, в какой день недели товар чаще всего покупается."
   ]
  },
  {
   "cell_type": "markdown",
   "metadata": {},
   "source": [
    "Необходимо найти то, в какой день недели товар чаще всего покупается. Значит, смотреть надо со стороны компании, когда товар был продан. Таким образом, товар будет считаться проданным, когда покупатель заплатил за него деньги. Следовательно, день недели продажи будет определяться по дате оплаты(колонка order_approved_at). Именно в этот момент единица товара становится недоступна для других, так как одну единицу товара два раза продать не получится. \n",
    "\n",
    "Интересовать будут все заказы, кроме заказов со статусом unavailable(так как они недоступны) и created(заказ только создается). Остальные нам подходят, если есть фактический день оплаты, даже если не были доставлены. Так как на какой-то момент времени они все же были проданы, хоть и застряли в каком-нибудь статусе и дальнейшего движения не было. Например, даже если пользователь в итоге отказался (статус canceled) от товара, то он все же был продан в какой-то день. И для статистики по дням недели нам такие данные подойдут."
   ]
  },
  {
   "cell_type": "code",
   "execution_count": 28,
   "metadata": {},
   "outputs": [],
   "source": [
    "# объединим 2 таблицы (order_items_df и orders_df), inner join\n",
    "\n",
    "product_by_day = pd.merge(order_items_df[['order_id', 'product_id']],\n",
    "                       orders_df[['order_id', 'order_status', 'order_approved_at']],\n",
    "                       on='order_id')"
   ]
  },
  {
   "cell_type": "code",
   "execution_count": 29,
   "metadata": {},
   "outputs": [],
   "source": [
    "# перезапишем данные, отфильтруя статусы, которые нам не подходят, так как не считаются покупкой\n",
    "product_by_day = product_by_day.query('order_status != \"created\" & order_status != \"unavailable\"')"
   ]
  },
  {
   "cell_type": "code",
   "execution_count": 30,
   "metadata": {},
   "outputs": [
    {
     "data": {
      "text/plain": [
       "order_id              0\n",
       "product_id            0\n",
       "order_status          0\n",
       "order_approved_at    15\n",
       "dtype: int64"
      ]
     },
     "execution_count": 30,
     "metadata": {},
     "output_type": "execute_result"
    }
   ],
   "source": [
    "# сначала проверим, во всех ли заказах есть дата оплаты\n",
    "product_by_day.isna().sum()"
   ]
  },
  {
   "cell_type": "code",
   "execution_count": 31,
   "metadata": {},
   "outputs": [
    {
     "data": {
      "text/plain": [
       "delivered    15\n",
       "Name: order_status, dtype: int64"
      ]
     },
     "execution_count": 31,
     "metadata": {},
     "output_type": "execute_result"
    }
   ],
   "source": [
    "# найдем эти 15 заказов без даты оплаты и посмотрим их статус\n",
    "product_by_day[product_by_day.order_approved_at.isna()].order_status.value_counts()"
   ]
  },
  {
   "cell_type": "code",
   "execution_count": 32,
   "metadata": {},
   "outputs": [
    {
     "data": {
      "text/plain": [
       "112643"
      ]
     },
     "execution_count": 32,
     "metadata": {},
     "output_type": "execute_result"
    }
   ],
   "source": [
    "# нам необходимо удалить эти данные без даты оплаты, так как мы не сможем определить, в какой день недели поступила оплата\n",
    "# для начала посмотрим, сколько всего строк было изначально, чтобы проверить, были ли удалены эти 15 строк\n",
    "product_by_day.shape[0]"
   ]
  },
  {
   "cell_type": "code",
   "execution_count": 33,
   "metadata": {},
   "outputs": [],
   "source": [
    "# удаляем строки без дат оплаты, используя dropna и параметр subset, чтобы удалить только по этой колонке\n",
    "product_by_day = product_by_day.dropna(subset=['order_approved_at'])"
   ]
  },
  {
   "cell_type": "code",
   "execution_count": 34,
   "metadata": {},
   "outputs": [
    {
     "data": {
      "text/plain": [
       "112628"
      ]
     },
     "execution_count": 34,
     "metadata": {},
     "output_type": "execute_result"
    }
   ],
   "source": [
    "# можем убедиться, что сделали все правильно и 15 строк были удалены\n",
    "product_by_day.shape[0]"
   ]
  },
  {
   "cell_type": "code",
   "execution_count": 35,
   "metadata": {},
   "outputs": [],
   "source": [
    "# создадим новую колонку и запишем в нее название дня недели, когда была совершена покупка\n",
    "product_by_day['name_of_day'] = product_by_day.order_approved_at.dt.day_name()"
   ]
  },
  {
   "cell_type": "code",
   "execution_count": 36,
   "metadata": {},
   "outputs": [],
   "source": [
    "# в переменную сохраним таблицу о том, в какой день недели товар чаще всего покупается\n",
    "# в начале сгруппировали по айди товара и дням недели, посчитали количество купленных товаров по дням\n",
    "# отсортировали в порядке убывания, тем самым выше будет находится самый часто покупаемый товар\n",
    "# далее воспользуемся drop_duplicates с параметром subset='product_id', удалим повторяющиеся значения по колонке product_id\n",
    "# так как первым вхождением будет день недели, в котором больше всего раз товар был куплен\n",
    "# остальные повторы по айди товара удалятся, которые с меньшими покупками, чем первое вхождение\n",
    "# и в конце удалим столбец с количеством заказов, так как мы ищем только дни недели, когда чаще всего покупался товар\n",
    "\n",
    "product_by_day = product_by_day \\\n",
    "                    .groupby(['product_id', 'name_of_day'], as_index=False) \\\n",
    "                    .agg({'order_id': 'count'}) \\\n",
    "                    .sort_values('order_id', ascending=False) \\\n",
    "                    .drop_duplicates(subset='product_id') \\\n",
    "                    .drop('order_id', axis=1)"
   ]
  },
  {
   "cell_type": "code",
   "execution_count": 37,
   "metadata": {},
   "outputs": [
    {
     "data": {
      "text/html": [
       "<div>\n",
       "<style scoped>\n",
       "    .dataframe tbody tr th:only-of-type {\n",
       "        vertical-align: middle;\n",
       "    }\n",
       "\n",
       "    .dataframe tbody tr th {\n",
       "        vertical-align: top;\n",
       "    }\n",
       "\n",
       "    .dataframe thead th {\n",
       "        text-align: right;\n",
       "    }\n",
       "</style>\n",
       "<table border=\"1\" class=\"dataframe\">\n",
       "  <thead>\n",
       "    <tr style=\"text-align: right;\">\n",
       "      <th></th>\n",
       "      <th>product_id</th>\n",
       "      <th>name_of_day</th>\n",
       "    </tr>\n",
       "  </thead>\n",
       "  <tbody>\n",
       "    <tr>\n",
       "      <th>41078</th>\n",
       "      <td>aca2eb7d00ea1a7b8ebd4e68314663af</td>\n",
       "      <td>Tuesday</td>\n",
       "    </tr>\n",
       "    <tr>\n",
       "      <th>20150</th>\n",
       "      <td>53b36df67ebb7c41585e8d54d6772e08</td>\n",
       "      <td>Tuesday</td>\n",
       "    </tr>\n",
       "    <tr>\n",
       "      <th>15931</th>\n",
       "      <td>422879e10f46682990de24d770e7f83d</td>\n",
       "      <td>Tuesday</td>\n",
       "    </tr>\n",
       "    <tr>\n",
       "      <th>36571</th>\n",
       "      <td>99a4788cb24856965c36a24e339b6058</td>\n",
       "      <td>Tuesday</td>\n",
       "    </tr>\n",
       "    <tr>\n",
       "      <th>13058</th>\n",
       "      <td>368c6c730842d78016ad823897a372db</td>\n",
       "      <td>Thursday</td>\n",
       "    </tr>\n",
       "    <tr>\n",
       "      <th>...</th>\n",
       "      <td>...</td>\n",
       "      <td>...</td>\n",
       "    </tr>\n",
       "    <tr>\n",
       "      <th>23974</th>\n",
       "      <td>63dfa8b12200610ed7b5e41d3c888a25</td>\n",
       "      <td>Saturday</td>\n",
       "    </tr>\n",
       "    <tr>\n",
       "      <th>23978</th>\n",
       "      <td>63e51e65ec59b56039c6427eed73dcf0</td>\n",
       "      <td>Tuesday</td>\n",
       "    </tr>\n",
       "    <tr>\n",
       "      <th>23979</th>\n",
       "      <td>63eb97106bfe47fe857edcf78f3e3e08</td>\n",
       "      <td>Saturday</td>\n",
       "    </tr>\n",
       "    <tr>\n",
       "      <th>23989</th>\n",
       "      <td>63f52009dc3ddb733394e80183aed0f0</td>\n",
       "      <td>Saturday</td>\n",
       "    </tr>\n",
       "    <tr>\n",
       "      <th>61136</th>\n",
       "      <td>fffe9eeff12fcbd74a2f2b007dde0c58</td>\n",
       "      <td>Wednesday</td>\n",
       "    </tr>\n",
       "  </tbody>\n",
       "</table>\n",
       "<p>32942 rows × 2 columns</p>\n",
       "</div>"
      ],
      "text/plain": [
       "                             product_id name_of_day\n",
       "41078  aca2eb7d00ea1a7b8ebd4e68314663af     Tuesday\n",
       "20150  53b36df67ebb7c41585e8d54d6772e08     Tuesday\n",
       "15931  422879e10f46682990de24d770e7f83d     Tuesday\n",
       "36571  99a4788cb24856965c36a24e339b6058     Tuesday\n",
       "13058  368c6c730842d78016ad823897a372db    Thursday\n",
       "...                                 ...         ...\n",
       "23974  63dfa8b12200610ed7b5e41d3c888a25    Saturday\n",
       "23978  63e51e65ec59b56039c6427eed73dcf0     Tuesday\n",
       "23979  63eb97106bfe47fe857edcf78f3e3e08    Saturday\n",
       "23989  63f52009dc3ddb733394e80183aed0f0    Saturday\n",
       "61136  fffe9eeff12fcbd74a2f2b007dde0c58   Wednesday\n",
       "\n",
       "[32942 rows x 2 columns]"
      ]
     },
     "execution_count": 37,
     "metadata": {},
     "output_type": "execute_result"
    }
   ],
   "source": [
    "# полученна таблица, в которой хранится информация о том, в какой день недели товар чаще всего покупается\n",
    "product_by_day"
   ]
  },
  {
   "cell_type": "code",
   "execution_count": 38,
   "metadata": {},
   "outputs": [
    {
     "data": {
      "text/plain": [
       "Tuesday      6109\n",
       "Friday       5667\n",
       "Thursday     4943\n",
       "Monday       4710\n",
       "Wednesday    4630\n",
       "Saturday     4088\n",
       "Sunday       2795\n",
       "Name: name_of_day, dtype: int64"
      ]
     },
     "execution_count": 38,
     "metadata": {},
     "output_type": "execute_result"
    }
   ],
   "source": [
    "# теперь выясним, сколько товаров с максимальной продажей по дням недели\n",
    "product_by_day.name_of_day.value_counts()"
   ]
  },
  {
   "cell_type": "markdown",
   "metadata": {},
   "source": [
    "Теперь нарисуем график и посмотрим, в какие дни недели продается максимальное количество одного товара"
   ]
  },
  {
   "cell_type": "code",
   "execution_count": 39,
   "metadata": {},
   "outputs": [
    {
     "data": {
      "image/png": "[encoded data removed]",
      "text/plain": [
       "<Figure size 432x288 with 1 Axes>"
      ]
     },
     "metadata": {},
     "output_type": "display_data"
    }
   ],
   "source": [
    "# отсортируем график так, чтобы слева был день недели когда больше всего было продано различных товаров\n",
    "sns.countplot(data=product_by_day, x='name_of_day', order=product_by_day['name_of_day'].value_counts().index)\n",
    "plt.title('День недели, когда товар чаще всего покупается')\n",
    "plt.xlabel('Дни недели')\n",
    "plt.ylabel('Количество товаров')\n",
    "plt.xticks(rotation=45);"
   ]
  },
  {
   "cell_type": "markdown",
   "metadata": {},
   "source": [
    "В итоге можно сделать вывод, что вторник(Tuesday) является днем недели, когда происходит больше всего максимальных продаж по разным товарам. 6109 товаров с максимальной продажей во вторник."
   ]
  },
  {
   "cell_type": "markdown",
   "metadata": {},
   "source": [
    "# Сколько у каждого из пользователей в среднем покупок в неделю (по месяцам)? "
   ]
  },
  {
   "cell_type": "markdown",
   "metadata": {},
   "source": [
    "Необходимо найти среднее число покупок по пользователям в неделю и по месяцам. Покупка совершается тогда, когда есть факт оплаты и происходит передача прав собственности. При доставке право собственности переходит в момент вручения товара покупателю или указанному им лицу. Следовательно, определять день недели, когда свершился факт покупки, будем по времени оплаты заказа клиентом, которое находится в колонке order_approved_at. Таким образом, нам подойдут заказы только со статусом delivered, так как они фактически оплачены и доставлены. \n",
    "\n",
    "Так же в заказах со статусом delivered есть заказы(8 штук), у которых нет даты доставки. Будем считать, что это ошибка в данных и дата просто не загрузилась. Так как заказы были доставлены пользователю(так как у них статус delivered), оставим эти данные и не будем их удалять, потому что знаем дату оплаты.\n",
    "\n",
    "В данных есть заказы(14 штук) со статусом delivered(доставлен), но нет даты оплаты. Это тоже ошибка в данных, но такие заказы мы не можем учитывать, так как не знаем дату оплаты клиентом. Следовательно, не узнаем в каком месяце или на какой неделе была совершена оплата, такие данные лучше удалить."
   ]
  },
  {
   "cell_type": "markdown",
   "metadata": {},
   "source": [
    "посчитаем количество купленных товаров по каждому чеку"
   ]
  },
  {
   "cell_type": "code",
   "execution_count": 40,
   "metadata": {},
   "outputs": [
    {
     "data": {
      "text/html": [
       "<div>\n",
       "<style scoped>\n",
       "    .dataframe tbody tr th:only-of-type {\n",
       "        vertical-align: middle;\n",
       "    }\n",
       "\n",
       "    .dataframe tbody tr th {\n",
       "        vertical-align: top;\n",
       "    }\n",
       "\n",
       "    .dataframe thead th {\n",
       "        text-align: right;\n",
       "    }\n",
       "</style>\n",
       "<table border=\"1\" class=\"dataframe\">\n",
       "  <thead>\n",
       "    <tr style=\"text-align: right;\">\n",
       "      <th></th>\n",
       "      <th>order_id</th>\n",
       "      <th>quantity</th>\n",
       "    </tr>\n",
       "  </thead>\n",
       "  <tbody>\n",
       "    <tr>\n",
       "      <th>0</th>\n",
       "      <td>00010242fe8c5a6d1ba2dd792cb16214</td>\n",
       "      <td>1</td>\n",
       "    </tr>\n",
       "    <tr>\n",
       "      <th>1</th>\n",
       "      <td>00018f77f2f0320c557190d7a144bdd3</td>\n",
       "      <td>1</td>\n",
       "    </tr>\n",
       "    <tr>\n",
       "      <th>2</th>\n",
       "      <td>000229ec398224ef6ca0657da4fc703e</td>\n",
       "      <td>1</td>\n",
       "    </tr>\n",
       "    <tr>\n",
       "      <th>3</th>\n",
       "      <td>00024acbcdf0a6daa1e931b038114c75</td>\n",
       "      <td>1</td>\n",
       "    </tr>\n",
       "    <tr>\n",
       "      <th>4</th>\n",
       "      <td>00042b26cf59d7ce69dfabb4e55b4fd9</td>\n",
       "      <td>1</td>\n",
       "    </tr>\n",
       "  </tbody>\n",
       "</table>\n",
       "</div>"
      ],
      "text/plain": [
       "                           order_id  quantity\n",
       "0  00010242fe8c5a6d1ba2dd792cb16214         1\n",
       "1  00018f77f2f0320c557190d7a144bdd3         1\n",
       "2  000229ec398224ef6ca0657da4fc703e         1\n",
       "3  00024acbcdf0a6daa1e931b038114c75         1\n",
       "4  00042b26cf59d7ce69dfabb4e55b4fd9         1"
      ]
     },
     "execution_count": 40,
     "metadata": {},
     "output_type": "execute_result"
    }
   ],
   "source": [
    "# нужна информация по купленным товарам, данные по чекам находятся в таблице order_items_df\n",
    "# сгруппируем по чекам, посчитаем количество купленных товаров\n",
    "\n",
    "purchases_in_orders = order_items_df \\\n",
    "                            .groupby('order_id', as_index=False) \\\n",
    "                            .agg({'product_id': 'count'}) \\\n",
    "                            .rename(columns={'product_id': 'quantity'})\n",
    "purchases_in_orders.head()"
   ]
  },
  {
   "cell_type": "markdown",
   "metadata": {},
   "source": [
    "Далее нам необходимо объеденить несколько таблиц, так как надо связать чеки с пользователями. В начале объединим полученную таблицу purchases_in_orders по номеру чека с таблицей orders_df, в которой находятся данные по позаказному идентификатору пользователя. Далее, по этому позаказному идентификатору пользователя свяжем объединенную таблицу с customers_df. Тем самым получим таблицу, где каждому пользователю будет соотносится сделанный заказ."
   ]
  },
  {
   "cell_type": "code",
   "execution_count": 41,
   "metadata": {},
   "outputs": [
    {
     "data": {
      "text/html": [
       "<div>\n",
       "<style scoped>\n",
       "    .dataframe tbody tr th:only-of-type {\n",
       "        vertical-align: middle;\n",
       "    }\n",
       "\n",
       "    .dataframe tbody tr th {\n",
       "        vertical-align: top;\n",
       "    }\n",
       "\n",
       "    .dataframe thead th {\n",
       "        text-align: right;\n",
       "    }\n",
       "</style>\n",
       "<table border=\"1\" class=\"dataframe\">\n",
       "  <thead>\n",
       "    <tr style=\"text-align: right;\">\n",
       "      <th></th>\n",
       "      <th>order_id</th>\n",
       "      <th>quantity</th>\n",
       "      <th>customer_id</th>\n",
       "      <th>order_status</th>\n",
       "      <th>order_approved_at</th>\n",
       "    </tr>\n",
       "  </thead>\n",
       "  <tbody>\n",
       "    <tr>\n",
       "      <th>0</th>\n",
       "      <td>00010242fe8c5a6d1ba2dd792cb16214</td>\n",
       "      <td>1</td>\n",
       "      <td>3ce436f183e68e07877b285a838db11a</td>\n",
       "      <td>delivered</td>\n",
       "      <td>2017-09-13 09:45:35</td>\n",
       "    </tr>\n",
       "    <tr>\n",
       "      <th>1</th>\n",
       "      <td>00018f77f2f0320c557190d7a144bdd3</td>\n",
       "      <td>1</td>\n",
       "      <td>f6dd3ec061db4e3987629fe6b26e5cce</td>\n",
       "      <td>delivered</td>\n",
       "      <td>2017-04-26 11:05:13</td>\n",
       "    </tr>\n",
       "  </tbody>\n",
       "</table>\n",
       "</div>"
      ],
      "text/plain": [
       "                           order_id  quantity  \\\n",
       "0  00010242fe8c5a6d1ba2dd792cb16214         1   \n",
       "1  00018f77f2f0320c557190d7a144bdd3         1   \n",
       "\n",
       "                        customer_id order_status   order_approved_at  \n",
       "0  3ce436f183e68e07877b285a838db11a    delivered 2017-09-13 09:45:35  \n",
       "1  f6dd3ec061db4e3987629fe6b26e5cce    delivered 2017-04-26 11:05:13  "
      ]
     },
     "execution_count": 41,
     "metadata": {},
     "output_type": "execute_result"
    }
   ],
   "source": [
    "# объединим таблицы purchases_in_orders и orders_df, inner join\n",
    "\n",
    "purchases_in_orders = pd.merge(purchases_in_orders,\n",
    "                              orders_df[['order_id', 'customer_id', 'order_status', 'order_approved_at']],\n",
    "                              on='order_id')\n",
    "purchases_in_orders.head(2)"
   ]
  },
  {
   "cell_type": "code",
   "execution_count": 42,
   "metadata": {},
   "outputs": [],
   "source": [
    "# зная, что необходимые данные нужны только со статусом delivered, отфильтруем полученную таблицу\n",
    "purchases_in_orders = purchases_in_orders.query('order_status == \"delivered\"')"
   ]
  },
  {
   "cell_type": "code",
   "execution_count": 43,
   "metadata": {},
   "outputs": [
    {
     "data": {
      "text/plain": [
       "array(['delivered'], dtype=object)"
      ]
     },
     "execution_count": 43,
     "metadata": {},
     "output_type": "execute_result"
    }
   ],
   "source": [
    "# проверим как получилось, посмотрим какие статусы остались\n",
    "purchases_in_orders.order_status.unique()"
   ]
  },
  {
   "cell_type": "markdown",
   "metadata": {},
   "source": [
    "Зная, что у нас есть заказы без даты оплаты, таких 14 штук. Так как в них мы не сможем определить, в какой день была совершена покупка, то такие заказы следует удалить из таблицы."
   ]
  },
  {
   "cell_type": "code",
   "execution_count": 44,
   "metadata": {},
   "outputs": [
    {
     "data": {
      "text/plain": [
       "(96478, 5)"
      ]
     },
     "execution_count": 44,
     "metadata": {},
     "output_type": "execute_result"
    }
   ],
   "source": [
    "# поэтому для проверки узнаем, сколько строк было с этими заказами, а после удаления должно стать на 14 меньше\n",
    "purchases_in_orders.shape"
   ]
  },
  {
   "cell_type": "code",
   "execution_count": 45,
   "metadata": {},
   "outputs": [
    {
     "data": {
      "text/plain": [
       "(96464, 5)"
      ]
     },
     "execution_count": 45,
     "metadata": {},
     "output_type": "execute_result"
    }
   ],
   "source": [
    "# удаляем строки без даты доставки и смотрим на колчество оставшихся строк, стало на 8 меньше\n",
    "purchases_in_orders = purchases_in_orders.dropna(subset=['order_approved_at'])\n",
    "purchases_in_orders.shape"
   ]
  },
  {
   "cell_type": "code",
   "execution_count": 46,
   "metadata": {},
   "outputs": [
    {
     "data": {
      "text/html": [
       "<div>\n",
       "<style scoped>\n",
       "    .dataframe tbody tr th:only-of-type {\n",
       "        vertical-align: middle;\n",
       "    }\n",
       "\n",
       "    .dataframe tbody tr th {\n",
       "        vertical-align: top;\n",
       "    }\n",
       "\n",
       "    .dataframe thead th {\n",
       "        text-align: right;\n",
       "    }\n",
       "</style>\n",
       "<table border=\"1\" class=\"dataframe\">\n",
       "  <thead>\n",
       "    <tr style=\"text-align: right;\">\n",
       "      <th></th>\n",
       "      <th>order_id</th>\n",
       "      <th>quantity</th>\n",
       "      <th>customer_id</th>\n",
       "      <th>order_approved_at</th>\n",
       "      <th>customer_unique_id</th>\n",
       "    </tr>\n",
       "  </thead>\n",
       "  <tbody>\n",
       "    <tr>\n",
       "      <th>0</th>\n",
       "      <td>00010242fe8c5a6d1ba2dd792cb16214</td>\n",
       "      <td>1</td>\n",
       "      <td>3ce436f183e68e07877b285a838db11a</td>\n",
       "      <td>2017-09-13 09:45:35</td>\n",
       "      <td>871766c5855e863f6eccc05f988b23cb</td>\n",
       "    </tr>\n",
       "    <tr>\n",
       "      <th>1</th>\n",
       "      <td>00018f77f2f0320c557190d7a144bdd3</td>\n",
       "      <td>1</td>\n",
       "      <td>f6dd3ec061db4e3987629fe6b26e5cce</td>\n",
       "      <td>2017-04-26 11:05:13</td>\n",
       "      <td>eb28e67c4c0b83846050ddfb8a35d051</td>\n",
       "    </tr>\n",
       "  </tbody>\n",
       "</table>\n",
       "</div>"
      ],
      "text/plain": [
       "                           order_id  quantity  \\\n",
       "0  00010242fe8c5a6d1ba2dd792cb16214         1   \n",
       "1  00018f77f2f0320c557190d7a144bdd3         1   \n",
       "\n",
       "                        customer_id   order_approved_at  \\\n",
       "0  3ce436f183e68e07877b285a838db11a 2017-09-13 09:45:35   \n",
       "1  f6dd3ec061db4e3987629fe6b26e5cce 2017-04-26 11:05:13   \n",
       "\n",
       "                 customer_unique_id  \n",
       "0  871766c5855e863f6eccc05f988b23cb  \n",
       "1  eb28e67c4c0b83846050ddfb8a35d051  "
      ]
     },
     "execution_count": 46,
     "metadata": {},
     "output_type": "execute_result"
    }
   ],
   "source": [
    "# теперь объединим purchases_in_orders с customers_df, inner join\n",
    "\n",
    "purchases_in_orders = pd.merge(purchases_in_orders[['order_id', 'quantity', 'customer_id', 'order_approved_at']],\n",
    "                              customers_df[['customer_id', 'customer_unique_id']],\n",
    "                              on='customer_id')\n",
    "purchases_in_orders.head(2)"
   ]
  },
  {
   "cell_type": "markdown",
   "metadata": {},
   "source": [
    "Для того, чтобы выяснить, сколько в среднем в месяце пользователь совершает покупки, необходимо узнать, сколько всего прошло месяцев."
   ]
  },
  {
   "cell_type": "code",
   "execution_count": 47,
   "metadata": {},
   "outputs": [],
   "source": [
    "# сделаем таблицу с уникальными месяцами и узнаем количество дней в этих месяцах\n",
    "# чтобы потом найти количество недель в месяце, разделим количество дней на 7\n",
    "month_day = pd.DataFrame(purchases_in_orders.order_approved_at \\\n",
    "                         .dt.to_period('M').unique(), columns=['month_uniq'])"
   ]
  },
  {
   "cell_type": "code",
   "execution_count": 48,
   "metadata": {},
   "outputs": [],
   "source": [
    "# отсортируем по порядку дату\n",
    "month_day = month_day.sort_values('month_uniq')"
   ]
  },
  {
   "cell_type": "code",
   "execution_count": 49,
   "metadata": {},
   "outputs": [
    {
     "data": {
      "text/html": [
       "<div>\n",
       "<style scoped>\n",
       "    .dataframe tbody tr th:only-of-type {\n",
       "        vertical-align: middle;\n",
       "    }\n",
       "\n",
       "    .dataframe tbody tr th {\n",
       "        vertical-align: top;\n",
       "    }\n",
       "\n",
       "    .dataframe thead th {\n",
       "        text-align: right;\n",
       "    }\n",
       "</style>\n",
       "<table border=\"1\" class=\"dataframe\">\n",
       "  <thead>\n",
       "    <tr style=\"text-align: right;\">\n",
       "      <th></th>\n",
       "      <th>month_uniq</th>\n",
       "      <th>days</th>\n",
       "    </tr>\n",
       "  </thead>\n",
       "  <tbody>\n",
       "    <tr>\n",
       "      <th>22</th>\n",
       "      <td>2016-09</td>\n",
       "      <td>30</td>\n",
       "    </tr>\n",
       "    <tr>\n",
       "      <th>20</th>\n",
       "      <td>2016-10</td>\n",
       "      <td>31</td>\n",
       "    </tr>\n",
       "    <tr>\n",
       "      <th>21</th>\n",
       "      <td>2016-12</td>\n",
       "      <td>31</td>\n",
       "    </tr>\n",
       "    <tr>\n",
       "      <th>17</th>\n",
       "      <td>2017-01</td>\n",
       "      <td>31</td>\n",
       "    </tr>\n",
       "    <tr>\n",
       "      <th>4</th>\n",
       "      <td>2017-02</td>\n",
       "      <td>28</td>\n",
       "    </tr>\n",
       "  </tbody>\n",
       "</table>\n",
       "</div>"
      ],
      "text/plain": [
       "   month_uniq  days\n",
       "22    2016-09    30\n",
       "20    2016-10    31\n",
       "21    2016-12    31\n",
       "17    2017-01    31\n",
       "4     2017-02    28"
      ]
     },
     "execution_count": 49,
     "metadata": {},
     "output_type": "execute_result"
    }
   ],
   "source": [
    "# узнаем количество дней и запишем данные в новую колонку\n",
    "month_day['days'] = month_day.month_uniq.dt.days_in_month\n",
    "month_day.head()"
   ]
  },
  {
   "cell_type": "markdown",
   "metadata": {},
   "source": [
    "В первом и последнем месяце количество дней было не полным, значит нам необходимо исправить количество дней на то, сколько реально прошло. Так как первая покупка была совершена не первого числа, а последняя - не в конце месяца."
   ]
  },
  {
   "cell_type": "code",
   "execution_count": 51,
   "metadata": {},
   "outputs": [
    {
     "data": {
      "text/html": [
       "<div>\n",
       "<style scoped>\n",
       "    .dataframe tbody tr th:only-of-type {\n",
       "        vertical-align: middle;\n",
       "    }\n",
       "\n",
       "    .dataframe tbody tr th {\n",
       "        vertical-align: top;\n",
       "    }\n",
       "\n",
       "    .dataframe thead th {\n",
       "        text-align: right;\n",
       "    }\n",
       "</style>\n",
       "<table border=\"1\" class=\"dataframe\">\n",
       "  <thead>\n",
       "    <tr style=\"text-align: right;\">\n",
       "      <th></th>\n",
       "      <th>month_uniq</th>\n",
       "      <th>days</th>\n",
       "    </tr>\n",
       "  </thead>\n",
       "  <tbody>\n",
       "    <tr>\n",
       "      <th>22</th>\n",
       "      <td>2016-09</td>\n",
       "      <td>15</td>\n",
       "    </tr>\n",
       "    <tr>\n",
       "      <th>20</th>\n",
       "      <td>2016-10</td>\n",
       "      <td>31</td>\n",
       "    </tr>\n",
       "    <tr>\n",
       "      <th>21</th>\n",
       "      <td>2016-12</td>\n",
       "      <td>31</td>\n",
       "    </tr>\n",
       "    <tr>\n",
       "      <th>17</th>\n",
       "      <td>2017-01</td>\n",
       "      <td>31</td>\n",
       "    </tr>\n",
       "    <tr>\n",
       "      <th>4</th>\n",
       "      <td>2017-02</td>\n",
       "      <td>28</td>\n",
       "    </tr>\n",
       "  </tbody>\n",
       "</table>\n",
       "</div>"
      ],
      "text/plain": [
       "   month_uniq  days\n",
       "22    2016-09    15\n",
       "20    2016-10    31\n",
       "21    2016-12    31\n",
       "17    2017-01    31\n",
       "4     2017-02    28"
      ]
     },
     "execution_count": 51,
     "metadata": {},
     "output_type": "execute_result"
    }
   ],
   "source": [
    "month_day.iloc[0, 1] = month_day.iloc[0, 1] - purchases_in_orders.order_approved_at.min().day\n",
    "month_day.iloc[-1, 1] = purchases_in_orders.order_approved_at.max().day\n",
    "month_day.head()"
   ]
  },
  {
   "cell_type": "code",
   "execution_count": 52,
   "metadata": {},
   "outputs": [
    {
     "data": {
      "text/html": [
       "<div>\n",
       "<style scoped>\n",
       "    .dataframe tbody tr th:only-of-type {\n",
       "        vertical-align: middle;\n",
       "    }\n",
       "\n",
       "    .dataframe tbody tr th {\n",
       "        vertical-align: top;\n",
       "    }\n",
       "\n",
       "    .dataframe thead th {\n",
       "        text-align: right;\n",
       "    }\n",
       "</style>\n",
       "<table border=\"1\" class=\"dataframe\">\n",
       "  <thead>\n",
       "    <tr style=\"text-align: right;\">\n",
       "      <th></th>\n",
       "      <th>month_uniq</th>\n",
       "      <th>days</th>\n",
       "      <th>week_in_month</th>\n",
       "    </tr>\n",
       "  </thead>\n",
       "  <tbody>\n",
       "    <tr>\n",
       "      <th>22</th>\n",
       "      <td>2016-09</td>\n",
       "      <td>15</td>\n",
       "      <td>2.142857</td>\n",
       "    </tr>\n",
       "    <tr>\n",
       "      <th>20</th>\n",
       "      <td>2016-10</td>\n",
       "      <td>31</td>\n",
       "      <td>4.428571</td>\n",
       "    </tr>\n",
       "    <tr>\n",
       "      <th>21</th>\n",
       "      <td>2016-12</td>\n",
       "      <td>31</td>\n",
       "      <td>4.428571</td>\n",
       "    </tr>\n",
       "    <tr>\n",
       "      <th>17</th>\n",
       "      <td>2017-01</td>\n",
       "      <td>31</td>\n",
       "      <td>4.428571</td>\n",
       "    </tr>\n",
       "    <tr>\n",
       "      <th>4</th>\n",
       "      <td>2017-02</td>\n",
       "      <td>28</td>\n",
       "      <td>4.000000</td>\n",
       "    </tr>\n",
       "  </tbody>\n",
       "</table>\n",
       "</div>"
      ],
      "text/plain": [
       "   month_uniq  days  week_in_month\n",
       "22    2016-09    15       2.142857\n",
       "20    2016-10    31       4.428571\n",
       "21    2016-12    31       4.428571\n",
       "17    2017-01    31       4.428571\n",
       "4     2017-02    28       4.000000"
      ]
     },
     "execution_count": 52,
     "metadata": {},
     "output_type": "execute_result"
    }
   ],
   "source": [
    "# найдем количество недель в месяце, разделив дни на 7, и сохраним информацию в новую колонку\n",
    "month_day['week_in_month'] = month_day.days / 7\n",
    "month_day.head()"
   ]
  },
  {
   "cell_type": "markdown",
   "metadata": {},
   "source": [
    "Выясним, сколько покупок в среднем совершают пользователи в месяц"
   ]
  },
  {
   "cell_type": "code",
   "execution_count": 53,
   "metadata": {},
   "outputs": [],
   "source": [
    "# сгруппируем по уникальному номеру пользователя и посчитаем, сколько всего было сделано покупок пользователями\n",
    "# отсортируем полученные данные так, чтобы бы выше находились те пользователи, которые совершают больше покупок\n",
    "\n",
    "customer_purchases_by_month = purchases_in_orders \\\n",
    "                                .groupby('customer_unique_id', as_index=False) \\\n",
    "                                .agg({'quantity': 'sum'}) \\\n",
    "                                .sort_values('quantity', ascending=False)"
   ]
  },
  {
   "cell_type": "markdown",
   "metadata": {},
   "source": [
    "Теперь найдем среднее количество покупок, разделив общее количество покупок на количество прошедших месяцев"
   ]
  },
  {
   "cell_type": "code",
   "execution_count": 54,
   "metadata": {},
   "outputs": [],
   "source": [
    "# используем таблицу month_day, в которой находится информация о месяцах, посчитаем их количество\n",
    "# округлим до 2 знаков после запятой\n",
    "customer_purchases_by_month['mean_by_month'] = round(customer_purchases_by_month.quantity / month_day.month_uniq.nunique(), 2)"
   ]
  },
  {
   "cell_type": "code",
   "execution_count": 55,
   "metadata": {},
   "outputs": [],
   "source": [
    "# удалим столбец quantity, так как он больше не нужен\n",
    "customer_purchases_by_month = customer_purchases_by_month.drop('quantity', axis=1)"
   ]
  },
  {
   "cell_type": "code",
   "execution_count": 56,
   "metadata": {},
   "outputs": [
    {
     "data": {
      "text/html": [
       "<div>\n",
       "<style scoped>\n",
       "    .dataframe tbody tr th:only-of-type {\n",
       "        vertical-align: middle;\n",
       "    }\n",
       "\n",
       "    .dataframe tbody tr th {\n",
       "        vertical-align: top;\n",
       "    }\n",
       "\n",
       "    .dataframe thead th {\n",
       "        text-align: right;\n",
       "    }\n",
       "</style>\n",
       "<table border=\"1\" class=\"dataframe\">\n",
       "  <thead>\n",
       "    <tr style=\"text-align: right;\">\n",
       "      <th></th>\n",
       "      <th>customer_unique_id</th>\n",
       "      <th>mean_by_month</th>\n",
       "    </tr>\n",
       "  </thead>\n",
       "  <tbody>\n",
       "    <tr>\n",
       "      <th>73118</th>\n",
       "      <td>c8460e4251689ba205045f3ea17884a1</td>\n",
       "      <td>1.04</td>\n",
       "    </tr>\n",
       "    <tr>\n",
       "      <th>25309</th>\n",
       "      <td>4546caea018ad8c692964e3382debd19</td>\n",
       "      <td>0.91</td>\n",
       "    </tr>\n",
       "    <tr>\n",
       "      <th>71558</th>\n",
       "      <td>c402f431464c72e27330a67f7b94d4fb</td>\n",
       "      <td>0.87</td>\n",
       "    </tr>\n",
       "    <tr>\n",
       "      <th>38578</th>\n",
       "      <td>698e1cf81d01a3d389d96145f7fa6df8</td>\n",
       "      <td>0.87</td>\n",
       "    </tr>\n",
       "    <tr>\n",
       "      <th>5622</th>\n",
       "      <td>0f5ac8d5c31de21d2f25e24be15bbffb</td>\n",
       "      <td>0.78</td>\n",
       "    </tr>\n",
       "  </tbody>\n",
       "</table>\n",
       "</div>"
      ],
      "text/plain": [
       "                     customer_unique_id  mean_by_month\n",
       "73118  c8460e4251689ba205045f3ea17884a1           1.04\n",
       "25309  4546caea018ad8c692964e3382debd19           0.91\n",
       "71558  c402f431464c72e27330a67f7b94d4fb           0.87\n",
       "38578  698e1cf81d01a3d389d96145f7fa6df8           0.87\n",
       "5622   0f5ac8d5c31de21d2f25e24be15bbffb           0.78"
      ]
     },
     "execution_count": 56,
     "metadata": {},
     "output_type": "execute_result"
    }
   ],
   "source": [
    "# так получили таблицу, где в столбце mean_by_month находится среднее количество покупок в месяц\n",
    "customer_purchases_by_month.head()"
   ]
  },
  {
   "cell_type": "markdown",
   "metadata": {},
   "source": [
    "Теперь выясним, сколько покупок в среднем совершают пользователи в неделю"
   ]
  },
  {
   "cell_type": "code",
   "execution_count": 57,
   "metadata": {},
   "outputs": [],
   "source": [
    "# сгруппируем по уникальному номеру пользователя и посчитаем, сколько всего было сделано покупок пользователями\n",
    "# отсортируем полученные данные так, чтобы бы выше находились те пользователи, которые совершают больше покупок\n",
    "\n",
    "customer_purchases_by_week = purchases_in_orders \\\n",
    "                                .groupby('customer_unique_id', as_index=False) \\\n",
    "                                .agg({'quantity': 'sum'}) \\\n",
    "                                .sort_values('quantity', ascending=False)"
   ]
  },
  {
   "cell_type": "markdown",
   "metadata": {},
   "source": [
    "Найдем среднее количество покупок, раздлив общее количество покупок на количество прошедших недель"
   ]
  },
  {
   "cell_type": "code",
   "execution_count": 58,
   "metadata": {},
   "outputs": [],
   "source": [
    "# используем таблицу month_day, в которой находится информация о неделях по месяцам, проссумируем ее\n",
    "# округлим до 2 знаков после запятой\n",
    "customer_purchases_by_week['mean_by_week'] = round(customer_purchases_by_week.quantity / month_day.week_in_month.sum(), 2)"
   ]
  },
  {
   "cell_type": "code",
   "execution_count": 59,
   "metadata": {},
   "outputs": [],
   "source": [
    "# удалим столбец quantity, так как он больше не нужен\n",
    "customer_purchases_by_week = customer_purchases_by_week.drop('quantity', axis=1)"
   ]
  },
  {
   "cell_type": "code",
   "execution_count": 60,
   "metadata": {},
   "outputs": [
    {
     "data": {
      "text/html": [
       "<div>\n",
       "<style scoped>\n",
       "    .dataframe tbody tr th:only-of-type {\n",
       "        vertical-align: middle;\n",
       "    }\n",
       "\n",
       "    .dataframe tbody tr th {\n",
       "        vertical-align: top;\n",
       "    }\n",
       "\n",
       "    .dataframe thead th {\n",
       "        text-align: right;\n",
       "    }\n",
       "</style>\n",
       "<table border=\"1\" class=\"dataframe\">\n",
       "  <thead>\n",
       "    <tr style=\"text-align: right;\">\n",
       "      <th></th>\n",
       "      <th>customer_unique_id</th>\n",
       "      <th>mean_by_week</th>\n",
       "    </tr>\n",
       "  </thead>\n",
       "  <tbody>\n",
       "    <tr>\n",
       "      <th>73118</th>\n",
       "      <td>c8460e4251689ba205045f3ea17884a1</td>\n",
       "      <td>0.25</td>\n",
       "    </tr>\n",
       "    <tr>\n",
       "      <th>25309</th>\n",
       "      <td>4546caea018ad8c692964e3382debd19</td>\n",
       "      <td>0.22</td>\n",
       "    </tr>\n",
       "    <tr>\n",
       "      <th>71558</th>\n",
       "      <td>c402f431464c72e27330a67f7b94d4fb</td>\n",
       "      <td>0.20</td>\n",
       "    </tr>\n",
       "    <tr>\n",
       "      <th>38578</th>\n",
       "      <td>698e1cf81d01a3d389d96145f7fa6df8</td>\n",
       "      <td>0.20</td>\n",
       "    </tr>\n",
       "    <tr>\n",
       "      <th>5622</th>\n",
       "      <td>0f5ac8d5c31de21d2f25e24be15bbffb</td>\n",
       "      <td>0.18</td>\n",
       "    </tr>\n",
       "  </tbody>\n",
       "</table>\n",
       "</div>"
      ],
      "text/plain": [
       "                     customer_unique_id  mean_by_week\n",
       "73118  c8460e4251689ba205045f3ea17884a1          0.25\n",
       "25309  4546caea018ad8c692964e3382debd19          0.22\n",
       "71558  c402f431464c72e27330a67f7b94d4fb          0.20\n",
       "38578  698e1cf81d01a3d389d96145f7fa6df8          0.20\n",
       "5622   0f5ac8d5c31de21d2f25e24be15bbffb          0.18"
      ]
     },
     "execution_count": 60,
     "metadata": {},
     "output_type": "execute_result"
    }
   ],
   "source": [
    "# так мы получили таблицу, где в столбце mean_by_week находится среднее количество покупок в неделю\n",
    "customer_purchases_by_week.head()"
   ]
  },
  {
   "cell_type": "code",
   "execution_count": 61,
   "metadata": {},
   "outputs": [
    {
     "data": {
      "text/plain": [
       "0.04"
      ]
     },
     "execution_count": 61,
     "metadata": {},
     "output_type": "execute_result"
    }
   ],
   "source": [
    "# посмотрим, какая медиана по средним покупкам в месяц\n",
    "customer_purchases_by_month.mean_by_month.median()"
   ]
  },
  {
   "cell_type": "markdown",
   "metadata": {},
   "source": [
    "В итоге можно сделать вывод, что пользователи не часто покупают товары у компании. Можно заметить, что только у одного пользователя есть в среднем одна покупка в месяц, а у других клиентов меньше одной покупки в среднем в месяц. Тогда как медиана по средним покупкам в месяц составляет 0,04. Это говорит нам о том, что больше половины пользователей совершило только одну покупку.\n",
    "\n",
    "Такие результаты могут говорить нам о том, что покупатели редко делают больше одного заказа. Это может быть связано с видом бизнеса(Например: товар, который на долго хватает) либо компания не может ударжать своих клиентов. Покупая один раз, они больше не хотят возвращаться."
   ]
  },
  {
   "cell_type": "markdown",
   "metadata": {},
   "source": [
    "# Используя pandas, проведи когортный анализ пользователей. В период с января по декабрь выяви когорту с самым высоким retention на 3й месяц."
   ]
  },
  {
   "cell_type": "markdown",
   "metadata": {},
   "source": [
    "Когорта — это группа людей, имеющих что-то общее. В когортном анализе мы отслеживаем эти группы пользователей с течением времени, чтобы выявить некоторые общие закономерности или модели поведения. В этой задаче проанализируем user retention (Удержание клиентов). Это имеет решающее значение для любого бизнеса, поскольку гораздо дешевле удержать существующих клиентов (с помощью инструментов CRM, скидок для участников и т. д.), чем приобретать новых.\n",
    "\n",
    "Необходимо провести когортый анализ и выявить когорту с самым высоким retention на третий месяц. Для этого возьмем данные за 2017 год и чтобы увидеть по всем месяцам 2017 года retention на 3й месяц, возьмем еще 3 месяца(январь, февраль, март) из 2018 года, так как данные позволяют нам это сделать.\n",
    "\n",
    "В данных есть заказы(14 штук) со статусом delivered(доставлен), но нет даты оплаты. Это ошибка в данных, но такие заказы мы не можем учитывать, так как не знаем дату оплаты клиентом. Следовательно, не узнаем в каком месяце или на какой неделе была совершена оплата, такие данные лучше удалить.\n",
    "\n",
    "Интересовать будут заказы со статусом delivered, а когорты сформируем по дате фактической оплате заказа."
   ]
  },
  {
   "cell_type": "code",
   "execution_count": 62,
   "metadata": {},
   "outputs": [],
   "source": [
    "# отфильтруем данные, оставим заказы со статусом delivered\n",
    "# и удалим пропущенные значения по колонке order_approved_at, так как мы не сможем определить дату\n",
    "cohort_analys = orders_df.query('order_status == \"delivered\"').dropna(subset=['order_approved_at'])"
   ]
  },
  {
   "cell_type": "code",
   "execution_count": 63,
   "metadata": {},
   "outputs": [],
   "source": [
    "# объединяем таблички cohort_analys и customers_df, inner join\n",
    "\n",
    "cohort_analys = pd.merge(cohort_analys[['order_id', 'customer_id', 'order_approved_at']],\n",
    "                        customers_df[['customer_id', 'customer_unique_id']],\n",
    "                        on='customer_id')"
   ]
  },
  {
   "cell_type": "code",
   "execution_count": 64,
   "metadata": {},
   "outputs": [],
   "source": [
    "# отфильтруем данные по дате, оставим только 2017 год и первые 3 месяца 2018 года\n",
    "cohort_analys = cohort_analys.query('order_approved_at > \"2017-01\" and order_approved_at < \"2018-04\"')"
   ]
  },
  {
   "cell_type": "markdown",
   "metadata": {},
   "source": [
    "Посмотрим, какой процент пользователей совершил больше одной покупки"
   ]
  },
  {
   "cell_type": "code",
   "execution_count": 65,
   "metadata": {},
   "outputs": [
    {
     "name": "stdout",
     "output_type": "stream",
     "text": [
      "2.93% пользователей совершили более одного заказа.\n"
     ]
    }
   ],
   "source": [
    "# считаем количество заказов, совершенных пользователем\n",
    "quantity_orders_by_costumer = cohort_analys.groupby(['customer_unique_id']).agg({'order_id': 'count'})\n",
    "# считаем, какой процент пользователей совершил больше одного заказа\n",
    "perc_from_all = ((quantity_orders_by_costumer > 1).sum() / cohort_analys['customer_unique_id'].nunique()).iloc[0]\n",
    "# вывод: пользователи предпочитают одноразовые приобритения\n",
    "print(f'{100 * perc_from_all:.2f}% пользователей совершили более одного заказа.')"
   ]
  },
  {
   "cell_type": "code",
   "execution_count": 66,
   "metadata": {},
   "outputs": [],
   "source": [
    "# сделаем новую колонку, куда запишем год и месяц оплаты\n",
    "cohort_analys['order_month'] = cohort_analys.order_approved_at.dt.to_period('M')"
   ]
  },
  {
   "cell_type": "code",
   "execution_count": 67,
   "metadata": {},
   "outputs": [],
   "source": [
    "# сделаем новую колонку, куда запишем год и месяц первой оплаты\n",
    "# это быдут названия когорт\n",
    "cohort_analys['cohort'] = cohort_analys.groupby('customer_unique_id').order_approved_at.transform(min).dt.to_period('M')"
   ]
  },
  {
   "cell_type": "code",
   "execution_count": 68,
   "metadata": {},
   "outputs": [],
   "source": [
    "# сгруппируем по когорте и месяцу заказа, посчитаем количество уникальных пользователей по группам\n",
    "# назовем стобец с этими данными quantity\n",
    "cohort_analys = cohort_analys.groupby(['cohort', 'order_month']) \\\n",
    "              .agg(quantity=('customer_unique_id', 'nunique')) \\\n",
    "              .reset_index(drop=False)"
   ]
  },
  {
   "cell_type": "code",
   "execution_count": 69,
   "metadata": {},
   "outputs": [],
   "source": [
    "# найдем разницу в годах между заказами, чтобы потом посчитать номер периода, в которых были сделаны покупки\n",
    "year_diff = cohort_analys.order_month.dt.year - cohort_analys.cohort.dt.year"
   ]
  },
  {
   "cell_type": "code",
   "execution_count": 70,
   "metadata": {},
   "outputs": [],
   "source": [
    "# считаем разницу между месяцем заказам и первым месяцем заказа\n",
    "month_diff = cohort_analys.order_month.dt.month - cohort_analys.cohort.dt.month"
   ]
  },
  {
   "cell_type": "markdown",
   "metadata": {},
   "source": [
    "Теперь найдем номер периода, в котором были покупки и сохраним данные в новую колонку. Нулевым периодом будет период, когда была совершена первая покупка."
   ]
  },
  {
   "cell_type": "code",
   "execution_count": 71,
   "metadata": {},
   "outputs": [],
   "source": [
    "cohort_analys['period_number'] = year_diff * 12 + month_diff"
   ]
  },
  {
   "cell_type": "code",
   "execution_count": 72,
   "metadata": {},
   "outputs": [],
   "source": [
    "# делаем сводную таблицу, используя pivot_table, в индексах - когорты, в колонках - периоды, значение - количество пользователей\n",
    "cohort_analys = cohort_analys.pivot_table(index='cohort',\n",
    "                         columns='period_number',\n",
    "                         values='quantity')"
   ]
  },
  {
   "cell_type": "code",
   "execution_count": 73,
   "metadata": {},
   "outputs": [
    {
     "data": {
      "text/html": [
       "<div>\n",
       "<style scoped>\n",
       "    .dataframe tbody tr th:only-of-type {\n",
       "        vertical-align: middle;\n",
       "    }\n",
       "\n",
       "    .dataframe tbody tr th {\n",
       "        vertical-align: top;\n",
       "    }\n",
       "\n",
       "    .dataframe thead th {\n",
       "        text-align: right;\n",
       "    }\n",
       "</style>\n",
       "<table border=\"1\" class=\"dataframe\">\n",
       "  <thead>\n",
       "    <tr style=\"text-align: right;\">\n",
       "      <th>period_number</th>\n",
       "      <th>0</th>\n",
       "      <th>1</th>\n",
       "      <th>2</th>\n",
       "      <th>3</th>\n",
       "      <th>4</th>\n",
       "      <th>5</th>\n",
       "      <th>6</th>\n",
       "      <th>7</th>\n",
       "      <th>8</th>\n",
       "      <th>9</th>\n",
       "      <th>10</th>\n",
       "      <th>11</th>\n",
       "      <th>12</th>\n",
       "      <th>13</th>\n",
       "      <th>14</th>\n",
       "    </tr>\n",
       "    <tr>\n",
       "      <th>cohort</th>\n",
       "      <th></th>\n",
       "      <th></th>\n",
       "      <th></th>\n",
       "      <th></th>\n",
       "      <th></th>\n",
       "      <th></th>\n",
       "      <th></th>\n",
       "      <th></th>\n",
       "      <th></th>\n",
       "      <th></th>\n",
       "      <th></th>\n",
       "      <th></th>\n",
       "      <th></th>\n",
       "      <th></th>\n",
       "      <th></th>\n",
       "    </tr>\n",
       "  </thead>\n",
       "  <tbody>\n",
       "    <tr>\n",
       "      <th>2017-01</th>\n",
       "      <td>684.0</td>\n",
       "      <td>3.0</td>\n",
       "      <td>2.0</td>\n",
       "      <td>1.0</td>\n",
       "      <td>3.0</td>\n",
       "      <td>1.0</td>\n",
       "      <td>3.0</td>\n",
       "      <td>1.0</td>\n",
       "      <td>1.0</td>\n",
       "      <td>NaN</td>\n",
       "      <td>2.0</td>\n",
       "      <td>2.0</td>\n",
       "      <td>5.0</td>\n",
       "      <td>3.0</td>\n",
       "      <td>1.0</td>\n",
       "    </tr>\n",
       "    <tr>\n",
       "      <th>2017-02</th>\n",
       "      <td>1612.0</td>\n",
       "      <td>3.0</td>\n",
       "      <td>4.0</td>\n",
       "      <td>3.0</td>\n",
       "      <td>7.0</td>\n",
       "      <td>2.0</td>\n",
       "      <td>4.0</td>\n",
       "      <td>3.0</td>\n",
       "      <td>1.0</td>\n",
       "      <td>3.0</td>\n",
       "      <td>2.0</td>\n",
       "      <td>5.0</td>\n",
       "      <td>2.0</td>\n",
       "      <td>3.0</td>\n",
       "      <td>NaN</td>\n",
       "    </tr>\n",
       "    <tr>\n",
       "      <th>2017-03</th>\n",
       "      <td>2511.0</td>\n",
       "      <td>11.0</td>\n",
       "      <td>9.0</td>\n",
       "      <td>9.0</td>\n",
       "      <td>9.0</td>\n",
       "      <td>4.0</td>\n",
       "      <td>4.0</td>\n",
       "      <td>8.0</td>\n",
       "      <td>7.0</td>\n",
       "      <td>3.0</td>\n",
       "      <td>9.0</td>\n",
       "      <td>3.0</td>\n",
       "      <td>5.0</td>\n",
       "      <td>NaN</td>\n",
       "      <td>NaN</td>\n",
       "    </tr>\n",
       "    <tr>\n",
       "      <th>2017-04</th>\n",
       "      <td>2233.0</td>\n",
       "      <td>14.0</td>\n",
       "      <td>5.0</td>\n",
       "      <td>4.0</td>\n",
       "      <td>5.0</td>\n",
       "      <td>6.0</td>\n",
       "      <td>8.0</td>\n",
       "      <td>6.0</td>\n",
       "      <td>8.0</td>\n",
       "      <td>4.0</td>\n",
       "      <td>5.0</td>\n",
       "      <td>2.0</td>\n",
       "      <td>NaN</td>\n",
       "      <td>NaN</td>\n",
       "      <td>NaN</td>\n",
       "    </tr>\n",
       "    <tr>\n",
       "      <th>2017-05</th>\n",
       "      <td>3453.0</td>\n",
       "      <td>18.0</td>\n",
       "      <td>16.0</td>\n",
       "      <td>10.0</td>\n",
       "      <td>10.0</td>\n",
       "      <td>11.0</td>\n",
       "      <td>14.0</td>\n",
       "      <td>5.0</td>\n",
       "      <td>9.0</td>\n",
       "      <td>9.0</td>\n",
       "      <td>10.0</td>\n",
       "      <td>NaN</td>\n",
       "      <td>NaN</td>\n",
       "      <td>NaN</td>\n",
       "      <td>NaN</td>\n",
       "    </tr>\n",
       "    <tr>\n",
       "      <th>2017-06</th>\n",
       "      <td>3044.0</td>\n",
       "      <td>15.0</td>\n",
       "      <td>12.0</td>\n",
       "      <td>13.0</td>\n",
       "      <td>9.0</td>\n",
       "      <td>11.0</td>\n",
       "      <td>11.0</td>\n",
       "      <td>7.0</td>\n",
       "      <td>4.0</td>\n",
       "      <td>6.0</td>\n",
       "      <td>NaN</td>\n",
       "      <td>NaN</td>\n",
       "      <td>NaN</td>\n",
       "      <td>NaN</td>\n",
       "      <td>NaN</td>\n",
       "    </tr>\n",
       "    <tr>\n",
       "      <th>2017-07</th>\n",
       "      <td>3710.0</td>\n",
       "      <td>20.0</td>\n",
       "      <td>12.0</td>\n",
       "      <td>7.0</td>\n",
       "      <td>13.0</td>\n",
       "      <td>7.0</td>\n",
       "      <td>12.0</td>\n",
       "      <td>4.0</td>\n",
       "      <td>7.0</td>\n",
       "      <td>NaN</td>\n",
       "      <td>NaN</td>\n",
       "      <td>NaN</td>\n",
       "      <td>NaN</td>\n",
       "      <td>NaN</td>\n",
       "      <td>NaN</td>\n",
       "    </tr>\n",
       "    <tr>\n",
       "      <th>2017-08</th>\n",
       "      <td>4081.0</td>\n",
       "      <td>28.0</td>\n",
       "      <td>15.0</td>\n",
       "      <td>11.0</td>\n",
       "      <td>15.0</td>\n",
       "      <td>21.0</td>\n",
       "      <td>11.0</td>\n",
       "      <td>11.0</td>\n",
       "      <td>NaN</td>\n",
       "      <td>NaN</td>\n",
       "      <td>NaN</td>\n",
       "      <td>NaN</td>\n",
       "      <td>NaN</td>\n",
       "      <td>NaN</td>\n",
       "      <td>NaN</td>\n",
       "    </tr>\n",
       "    <tr>\n",
       "      <th>2017-09</th>\n",
       "      <td>4026.0</td>\n",
       "      <td>27.0</td>\n",
       "      <td>20.0</td>\n",
       "      <td>13.0</td>\n",
       "      <td>17.0</td>\n",
       "      <td>11.0</td>\n",
       "      <td>9.0</td>\n",
       "      <td>NaN</td>\n",
       "      <td>NaN</td>\n",
       "      <td>NaN</td>\n",
       "      <td>NaN</td>\n",
       "      <td>NaN</td>\n",
       "      <td>NaN</td>\n",
       "      <td>NaN</td>\n",
       "      <td>NaN</td>\n",
       "    </tr>\n",
       "    <tr>\n",
       "      <th>2017-10</th>\n",
       "      <td>4294.0</td>\n",
       "      <td>30.0</td>\n",
       "      <td>13.0</td>\n",
       "      <td>4.0</td>\n",
       "      <td>10.0</td>\n",
       "      <td>8.0</td>\n",
       "      <td>NaN</td>\n",
       "      <td>NaN</td>\n",
       "      <td>NaN</td>\n",
       "      <td>NaN</td>\n",
       "      <td>NaN</td>\n",
       "      <td>NaN</td>\n",
       "      <td>NaN</td>\n",
       "      <td>NaN</td>\n",
       "      <td>NaN</td>\n",
       "    </tr>\n",
       "    <tr>\n",
       "      <th>2017-11</th>\n",
       "      <td>6928.0</td>\n",
       "      <td>39.0</td>\n",
       "      <td>25.0</td>\n",
       "      <td>11.0</td>\n",
       "      <td>12.0</td>\n",
       "      <td>NaN</td>\n",
       "      <td>NaN</td>\n",
       "      <td>NaN</td>\n",
       "      <td>NaN</td>\n",
       "      <td>NaN</td>\n",
       "      <td>NaN</td>\n",
       "      <td>NaN</td>\n",
       "      <td>NaN</td>\n",
       "      <td>NaN</td>\n",
       "      <td>NaN</td>\n",
       "    </tr>\n",
       "    <tr>\n",
       "      <th>2017-12</th>\n",
       "      <td>5490.0</td>\n",
       "      <td>12.0</td>\n",
       "      <td>15.0</td>\n",
       "      <td>17.0</td>\n",
       "      <td>NaN</td>\n",
       "      <td>NaN</td>\n",
       "      <td>NaN</td>\n",
       "      <td>NaN</td>\n",
       "      <td>NaN</td>\n",
       "      <td>NaN</td>\n",
       "      <td>NaN</td>\n",
       "      <td>NaN</td>\n",
       "      <td>NaN</td>\n",
       "      <td>NaN</td>\n",
       "      <td>NaN</td>\n",
       "    </tr>\n",
       "    <tr>\n",
       "      <th>2018-01</th>\n",
       "      <td>6771.0</td>\n",
       "      <td>24.0</td>\n",
       "      <td>26.0</td>\n",
       "      <td>NaN</td>\n",
       "      <td>NaN</td>\n",
       "      <td>NaN</td>\n",
       "      <td>NaN</td>\n",
       "      <td>NaN</td>\n",
       "      <td>NaN</td>\n",
       "      <td>NaN</td>\n",
       "      <td>NaN</td>\n",
       "      <td>NaN</td>\n",
       "      <td>NaN</td>\n",
       "      <td>NaN</td>\n",
       "      <td>NaN</td>\n",
       "    </tr>\n",
       "    <tr>\n",
       "      <th>2018-02</th>\n",
       "      <td>6268.0</td>\n",
       "      <td>20.0</td>\n",
       "      <td>NaN</td>\n",
       "      <td>NaN</td>\n",
       "      <td>NaN</td>\n",
       "      <td>NaN</td>\n",
       "      <td>NaN</td>\n",
       "      <td>NaN</td>\n",
       "      <td>NaN</td>\n",
       "      <td>NaN</td>\n",
       "      <td>NaN</td>\n",
       "      <td>NaN</td>\n",
       "      <td>NaN</td>\n",
       "      <td>NaN</td>\n",
       "      <td>NaN</td>\n",
       "    </tr>\n",
       "    <tr>\n",
       "      <th>2018-03</th>\n",
       "      <td>6852.0</td>\n",
       "      <td>NaN</td>\n",
       "      <td>NaN</td>\n",
       "      <td>NaN</td>\n",
       "      <td>NaN</td>\n",
       "      <td>NaN</td>\n",
       "      <td>NaN</td>\n",
       "      <td>NaN</td>\n",
       "      <td>NaN</td>\n",
       "      <td>NaN</td>\n",
       "      <td>NaN</td>\n",
       "      <td>NaN</td>\n",
       "      <td>NaN</td>\n",
       "      <td>NaN</td>\n",
       "      <td>NaN</td>\n",
       "    </tr>\n",
       "  </tbody>\n",
       "</table>\n",
       "</div>"
      ],
      "text/plain": [
       "period_number      0     1     2     3     4     5     6     7    8    9   \\\n",
       "cohort                                                                      \n",
       "2017-01         684.0   3.0   2.0   1.0   3.0   1.0   3.0   1.0  1.0  NaN   \n",
       "2017-02        1612.0   3.0   4.0   3.0   7.0   2.0   4.0   3.0  1.0  3.0   \n",
       "2017-03        2511.0  11.0   9.0   9.0   9.0   4.0   4.0   8.0  7.0  3.0   \n",
       "2017-04        2233.0  14.0   5.0   4.0   5.0   6.0   8.0   6.0  8.0  4.0   \n",
       "2017-05        3453.0  18.0  16.0  10.0  10.0  11.0  14.0   5.0  9.0  9.0   \n",
       "2017-06        3044.0  15.0  12.0  13.0   9.0  11.0  11.0   7.0  4.0  6.0   \n",
       "2017-07        3710.0  20.0  12.0   7.0  13.0   7.0  12.0   4.0  7.0  NaN   \n",
       "2017-08        4081.0  28.0  15.0  11.0  15.0  21.0  11.0  11.0  NaN  NaN   \n",
       "2017-09        4026.0  27.0  20.0  13.0  17.0  11.0   9.0   NaN  NaN  NaN   \n",
       "2017-10        4294.0  30.0  13.0   4.0  10.0   8.0   NaN   NaN  NaN  NaN   \n",
       "2017-11        6928.0  39.0  25.0  11.0  12.0   NaN   NaN   NaN  NaN  NaN   \n",
       "2017-12        5490.0  12.0  15.0  17.0   NaN   NaN   NaN   NaN  NaN  NaN   \n",
       "2018-01        6771.0  24.0  26.0   NaN   NaN   NaN   NaN   NaN  NaN  NaN   \n",
       "2018-02        6268.0  20.0   NaN   NaN   NaN   NaN   NaN   NaN  NaN  NaN   \n",
       "2018-03        6852.0   NaN   NaN   NaN   NaN   NaN   NaN   NaN  NaN  NaN   \n",
       "\n",
       "period_number    10   11   12   13   14  \n",
       "cohort                                   \n",
       "2017-01         2.0  2.0  5.0  3.0  1.0  \n",
       "2017-02         2.0  5.0  2.0  3.0  NaN  \n",
       "2017-03         9.0  3.0  5.0  NaN  NaN  \n",
       "2017-04         5.0  2.0  NaN  NaN  NaN  \n",
       "2017-05        10.0  NaN  NaN  NaN  NaN  \n",
       "2017-06         NaN  NaN  NaN  NaN  NaN  \n",
       "2017-07         NaN  NaN  NaN  NaN  NaN  \n",
       "2017-08         NaN  NaN  NaN  NaN  NaN  \n",
       "2017-09         NaN  NaN  NaN  NaN  NaN  \n",
       "2017-10         NaN  NaN  NaN  NaN  NaN  \n",
       "2017-11         NaN  NaN  NaN  NaN  NaN  \n",
       "2017-12         NaN  NaN  NaN  NaN  NaN  \n",
       "2018-01         NaN  NaN  NaN  NaN  NaN  \n",
       "2018-02         NaN  NaN  NaN  NaN  NaN  \n",
       "2018-03         NaN  NaN  NaN  NaN  NaN  "
      ]
     },
     "execution_count": 73,
     "metadata": {},
     "output_type": "execute_result"
    }
   ],
   "source": [
    "# по полученной таблице можно сделать небольшой вывод, что количество клиентов за год с небольшим увеличилось примерно в 10 раз\n",
    "# количество клиентов находятся в нулевом периоде, то, сколько их пришло в каждом месяце\n",
    "cohort_analys"
   ]
  },
  {
   "cell_type": "markdown",
   "metadata": {},
   "source": [
    "Найдем процент по периодам от первой покупки"
   ]
  },
  {
   "cell_type": "code",
   "execution_count": 74,
   "metadata": {},
   "outputs": [],
   "source": [
    "# берем количество из первого столбца, там по каждой когорте будет находиться максимум, так как этих пользователей и отслеживаем\n",
    "# чтобы дальше разделить значение по строке на значение по первой колонке\n",
    "cohort_size = cohort_analys.iloc[:,0]"
   ]
  },
  {
   "cell_type": "code",
   "execution_count": 75,
   "metadata": {},
   "outputs": [],
   "source": [
    "# тут делаем разделение, чтобы найти процент от максимума\n",
    "# по каждой строке значение будет разделено на значение из первого столбца этой строки\n",
    "retention_matrix = cohort_analys.divide(cohort_size, axis = 0)"
   ]
  },
  {
   "cell_type": "markdown",
   "metadata": {},
   "source": [
    "Нарисуем матрицу"
   ]
  },
  {
   "cell_type": "code",
   "execution_count": 76,
   "metadata": {},
   "outputs": [
    {
     "data": {
      "image/png": "[encoded data removed]",
      "text/plain": [
       "<Figure size 1800x576 with 2 Axes>"
      ]
     },
     "metadata": {},
     "output_type": "display_data"
    }
   ],
   "source": [
    "# annot=True - выводит процент в ячейкках\n",
    "# fmt='.3%' - оставляет 3 знака после запятой\n",
    "# cmap='coolwarm' - цветовая гамма, на графике все получилось темно синим, так как очень низкие цифры, все меньше 1%\n",
    "# так же настроил размер и название по осям и в заголовке\n",
    "\n",
    "plt.figure(figsize=(25, 8))\n",
    "sns.heatmap(retention_matrix, mask=retention_matrix.isnull(), annot=True, fmt='.3%', cmap='coolwarm')\n",
    "plt.title('Cohorts: User Retention')\n",
    "plt.xlabel('Номер периода')\n",
    "plt.ylabel('Когорты')\n",
    "plt.show();"
   ]
  },
  {
   "cell_type": "code",
   "execution_count": 77,
   "metadata": {},
   "outputs": [
    {
     "name": "stdout",
     "output_type": "stream",
     "text": [
      "В период с января по декабрь 2017 года когорта 2017-06 является с самым высоким retention на третий месяц.\n"
     ]
    }
   ],
   "source": [
    "# найдем, какая когорта является с самым высоким retention на третий месяц\n",
    "print(f'В период с января по декабрь 2017 года когорта {retention_matrix[3].idxmax()} является с самым высоким retention на третий месяц.')"
   ]
  },
  {
   "cell_type": "markdown",
   "metadata": {},
   "source": [
    "Так же еще можно заметить, что retention сильно низкий. Это говорит нам о том, что важно помнить, что ожидаемые значения удержания клиентов сильно различаются в зависимости от бизнеса: 3 покупки в год для одного продавца может быть много, а для другого — слишком мало. В нашем случае, только 2.93% пользователей совершило больше 1 покупки, поэтому по каждой когорте и в каждом периоде retention меньше 0.7%."
   ]
  },
  {
   "cell_type": "markdown",
   "metadata": {},
   "source": [
    "# Построить RFM-сегментацию пользователей"
   ]
  },
  {
   "cell_type": "markdown",
   "metadata": {},
   "source": [
    "RFM-моделирование — это метод маркетингового анализа, используемый для оценки ценности клиента. RFM-моделирование основано на трех факторах:\n",
    "\n",
    "Давность(recency): Как недавно клиент совершил покупку\n",
    "\n",
    "Частота(frequency): Как часто клиент совершает покупку\n",
    "\n",
    "Денежная стоимость(monetary): Сколько денег клиент тратит на покупки\n",
    "\n",
    "Модель RFM позволяет получить числовые значения для трех вышеперечисленных показателей. Эти значения помогают компаниям лучше понять потенциал клиентов.\n",
    "\n",
    "Для анализа возьмем пользователей, которые совершали покупки. Поэтому нам необходим факт оплаты товара и то, что он был доставлен пользователю. Следовательно, нас будут интересовать пользователи со статусом delivered. В ходе анализа, необходимо будет определить дату последней покупки, значит, определять ее будем по дате фактической оплаты заказа в столбце order_approved_at. Не у всех пользователей в данных со статусом delivered есть дата оплаты. Для анализа такие заказы(14 штук) необходимо удалить, так как мы не можем узнать, когда была совершена оплата.\n",
    "\n",
    "Необходимо определить период, за который будем проводить анализ. Так как в этом бизнесе у компании редко покупают более чем один раз, следовательно лучше сделать анализ начиная с 2017 года, чтобы охватить больше пользователей и составить о них представление."
   ]
  },
  {
   "cell_type": "markdown",
   "metadata": {},
   "source": [
    "Посчитаем потраченную сумму в заказах"
   ]
  },
  {
   "cell_type": "code",
   "execution_count": 78,
   "metadata": {},
   "outputs": [],
   "source": [
    "# сохраним данные в новой таблице, сгруппируем по заказам и посчитаем сумму\n",
    "rfm_analys = order_items_df.groupby('order_id', as_index=False).agg({'price': 'sum'})"
   ]
  },
  {
   "cell_type": "code",
   "execution_count": 79,
   "metadata": {},
   "outputs": [],
   "source": [
    "# объединяем таблички rfm_analys и orders_df, так соотнесем уникальный идентификатор заказа и позаказный номер\n",
    "# inner join\n",
    "\n",
    "rfm_analys = pd.merge(rfm_analys,\n",
    "                      orders_df[['order_id', 'customer_id','order_status', 'order_approved_at']],\n",
    "                     on='order_id')"
   ]
  },
  {
   "cell_type": "code",
   "execution_count": 80,
   "metadata": {},
   "outputs": [],
   "source": [
    "# оставим только завершенные заказы, так как только такие считаются покупкой и отберем заказы, начиная с 2017-01\n",
    "rfm_analys = rfm_analys.query('order_status == \"delivered\" and order_approved_at >= \"2017-01\"')"
   ]
  },
  {
   "cell_type": "code",
   "execution_count": 81,
   "metadata": {},
   "outputs": [
    {
     "data": {
      "text/plain": [
       "array(['delivered'], dtype=object)"
      ]
     },
     "execution_count": 81,
     "metadata": {},
     "output_type": "execute_result"
    }
   ],
   "source": [
    "# проверим, остались ли только завершенные статусы\n",
    "rfm_analys.order_status.unique()"
   ]
  },
  {
   "cell_type": "code",
   "execution_count": 82,
   "metadata": {},
   "outputs": [],
   "source": [
    "# удалим столбец order_status, так как остался только один статус\n",
    "rfm_analys = rfm_analys.drop('order_status', axis=1)"
   ]
  },
  {
   "cell_type": "code",
   "execution_count": 83,
   "metadata": {},
   "outputs": [
    {
     "data": {
      "text/plain": [
       "order_id             0\n",
       "price                0\n",
       "customer_id          0\n",
       "order_approved_at    0\n",
       "dtype: int64"
      ]
     },
     "execution_count": 83,
     "metadata": {},
     "output_type": "execute_result"
    }
   ],
   "source": [
    "# посмотрим, есть ли пропущенные значения и их нет\n",
    "rfm_analys.isna().sum()"
   ]
  },
  {
   "cell_type": "code",
   "execution_count": 84,
   "metadata": {},
   "outputs": [],
   "source": [
    "# объединяем таблички rfm_analys и customers_df, так соотнесем пользователей и их заказы\n",
    "# inner join\n",
    "\n",
    "rfm_analys = pd.merge(rfm_analys,\n",
    "                      customers_df[['customer_id', 'customer_unique_id']],\n",
    "                      on='customer_id')"
   ]
  },
  {
   "cell_type": "code",
   "execution_count": 85,
   "metadata": {},
   "outputs": [],
   "source": [
    "# группируем данные по уникальному номеру пользователя\n",
    "# считаем потраченные деньги пользователя, находим последнюю дату, когда пользователь совершил покупку\n",
    "# так же посчитаем количество совершенных заказов\n",
    "\n",
    "rfm_analys = rfm_analys \\\n",
    "                .groupby('customer_unique_id', as_index=False) \\\n",
    "                .agg({'price': 'sum', 'order_approved_at': 'max', 'order_id': 'count'}) \\\n",
    "                .rename(columns={'order_approved_at': 'last_purchase', 'order_id': 'quantity'})"
   ]
  },
  {
   "cell_type": "markdown",
   "metadata": {},
   "source": [
    "Необходимо узнать, как давно был совершен у каждого пользователя заказ. Смоделируем анализ, который я как бы делаю в реальном времени, установив дату now на один день после последней покупки, прибавим этот день, когда посчитаем разницу. Эта дата будет использоваться в качестве ориентира для расчета оценки последней покупки"
   ]
  },
  {
   "cell_type": "code",
   "execution_count": 86,
   "metadata": {},
   "outputs": [],
   "source": [
    "# создадим новую колонку, куда запишем разницу между последней датой оплаты заказа из всех(now)\n",
    "# и последней даты оплаты каждого пользователя\n",
    "now = rfm_analys.last_purchase.max()\n",
    "rfm_analys['days_diff'] = (now - rfm_analys.last_purchase).dt.days + 1"
   ]
  },
  {
   "cell_type": "code",
   "execution_count": 87,
   "metadata": {},
   "outputs": [
    {
     "data": {
      "text/html": [
       "<div>\n",
       "<style scoped>\n",
       "    .dataframe tbody tr th:only-of-type {\n",
       "        vertical-align: middle;\n",
       "    }\n",
       "\n",
       "    .dataframe tbody tr th {\n",
       "        vertical-align: top;\n",
       "    }\n",
       "\n",
       "    .dataframe thead th {\n",
       "        text-align: right;\n",
       "    }\n",
       "</style>\n",
       "<table border=\"1\" class=\"dataframe\">\n",
       "  <thead>\n",
       "    <tr style=\"text-align: right;\">\n",
       "      <th></th>\n",
       "      <th>customer_unique_id</th>\n",
       "      <th>price</th>\n",
       "      <th>last_purchase</th>\n",
       "      <th>quantity</th>\n",
       "      <th>days_diff</th>\n",
       "    </tr>\n",
       "  </thead>\n",
       "  <tbody>\n",
       "    <tr>\n",
       "      <th>0</th>\n",
       "      <td>0000366f3b9a7992bf8c76cfdf3221e2</td>\n",
       "      <td>129.9</td>\n",
       "      <td>2018-05-10 11:11:18</td>\n",
       "      <td>1</td>\n",
       "      <td>112</td>\n",
       "    </tr>\n",
       "    <tr>\n",
       "      <th>1</th>\n",
       "      <td>0000b849f77a49e4a4ce2b2a4ca5be3f</td>\n",
       "      <td>18.9</td>\n",
       "      <td>2018-05-07 18:25:44</td>\n",
       "      <td>1</td>\n",
       "      <td>114</td>\n",
       "    </tr>\n",
       "  </tbody>\n",
       "</table>\n",
       "</div>"
      ],
      "text/plain": [
       "                 customer_unique_id  price       last_purchase  quantity  \\\n",
       "0  0000366f3b9a7992bf8c76cfdf3221e2  129.9 2018-05-10 11:11:18         1   \n",
       "1  0000b849f77a49e4a4ce2b2a4ca5be3f   18.9 2018-05-07 18:25:44         1   \n",
       "\n",
       "   days_diff  \n",
       "0        112  \n",
       "1        114  "
      ]
     },
     "execution_count": 87,
     "metadata": {},
     "output_type": "execute_result"
    }
   ],
   "source": [
    "rfm_analys.head(2)"
   ]
  },
  {
   "cell_type": "markdown",
   "metadata": {},
   "source": [
    "Деление на ранги\n",
    "\n",
    "Для того, чтобы построить RFM-сегментацию пользователей, нам необходимо получить метрики по некоторым значениям. Это будут ранги, на которые мы будем делить пользователей. Для удобства, будем использовать для создания колонк, где будем хранить ранги метрик по пользователям, первые буквы: recency - r, frequency - f, monetary - m\n",
    "\n",
    "Описание метрик:\n",
    "\n",
    "r (насколько недавно была совершена последняя покупка клиента), ранг от 1 до 5 (5 - недавно, 1 - совсем давно)\n",
    "\n",
    "f (как часто клиент совершает покупку), ранг от 1 до 3 (3 - часто, 1 - мало)\n",
    "\n",
    "m (сколько денег тратит клиент), ранг от 1 до 5 (5 - много, 1 - мало)"
   ]
  },
  {
   "cell_type": "markdown",
   "metadata": {},
   "source": [
    "Присвоим ранги для recency. Для этого разделим полученную разницу по дате на ранги, используем pd.qcut, получим 4 ранга, таким образом, недавняя дата будет с рангом 0, а поздняя с рангом 4, надо наоборот. Поэтому необходимо вычесть из 5, так как самая недавняя дата должна быть с рангом 5."
   ]
  },
  {
   "cell_type": "code",
   "execution_count": 88,
   "metadata": {},
   "outputs": [],
   "source": [
    "# создадим новый столбец, где будут записаны ранги для давности приобретения\n",
    "rfm_analys['r'] = 5 - pd.qcut(rfm_analys['days_diff'], 5, labels=False)"
   ]
  },
  {
   "cell_type": "markdown",
   "metadata": {},
   "source": [
    "Посмотрим, сколько покупок совершили пользователи, чтобы посмотреть, на какие ранги их можно разделить. Можно заметить, что большая часть совершила только одну покупку."
   ]
  },
  {
   "cell_type": "code",
   "execution_count": 89,
   "metadata": {},
   "outputs": [
    {
     "data": {
      "text/plain": [
       "1     90303\n",
       "2      2561\n",
       "3       180\n",
       "4        28\n",
       "5         9\n",
       "6         5\n",
       "7         3\n",
       "15        1\n",
       "9         1\n",
       "Name: quantity, dtype: int64"
      ]
     },
     "execution_count": 89,
     "metadata": {},
     "output_type": "execute_result"
    }
   ],
   "source": [
    "rfm_analys.quantity.value_counts()"
   ]
  },
  {
   "cell_type": "code",
   "execution_count": 90,
   "metadata": {},
   "outputs": [
    {
     "name": "stdout",
     "output_type": "stream",
     "text": [
      "97% пользователей совершили 1 покупку\n"
     ]
    }
   ],
   "source": [
    "# посмотрим, сколько пользователей совершили одну покупку\n",
    "print(f'{round(100 * rfm_analys.query(\"quantity == 1\").quantity.count() / rfm_analys.shape[0])}% пользователей совершили 1 покупку')"
   ]
  },
  {
   "cell_type": "markdown",
   "metadata": {},
   "source": [
    "Для присвоения рангов для frequency, не получится использовать pd.qcut, так как очень много пользователей с 1 заказом и не сможет правильно разделить на ранги (97% пользователей совершили только 1 покупку), поэтому целесообразно будет использовать только 3 ранга."
   ]
  },
  {
   "cell_type": "code",
   "execution_count": 91,
   "metadata": {},
   "outputs": [],
   "source": [
    "# для этого создадим функцию, где для 1 заказа - ранг 1, для 2 заказов - ранг 2, а для всех остальных - ранг 3\n",
    "def for_f(x):\n",
    "    if x == 1:\n",
    "        return 1\n",
    "    elif x == 2:\n",
    "        return 2\n",
    "    else:\n",
    "        return 3"
   ]
  },
  {
   "cell_type": "code",
   "execution_count": 92,
   "metadata": {},
   "outputs": [],
   "source": [
    "# используем созданную функцию, создадим новый столбец, где будут записаны ранги для частоты покупок\n",
    "rfm_analys['f'] = rfm_analys['quantity'].apply(for_f)"
   ]
  },
  {
   "cell_type": "markdown",
   "metadata": {},
   "source": [
    "Теперь разделим на ранги по потраченным суммам на покупки, используя pd.qcut. Необходимо прибавить 1, так как разделение будет начинаться с ранга 0 и до 4, а нам надо с 1 до 5."
   ]
  },
  {
   "cell_type": "code",
   "execution_count": 93,
   "metadata": {},
   "outputs": [],
   "source": [
    "# создадим новый столбец, где будут записаны ранги для потраченных сумм\n",
    "rfm_analys['m'] = pd.qcut(rfm_analys['price'], 5, labels=False) + 1"
   ]
  },
  {
   "cell_type": "code",
   "execution_count": 94,
   "metadata": {},
   "outputs": [],
   "source": [
    "# создадим новый столбец rfm_sum, сложив ранги по каждому пользователю\n",
    "rfm_analys['rfm_sum'] = rfm_analys.r + rfm_analys.f + rfm_analys.m"
   ]
  },
  {
   "cell_type": "code",
   "execution_count": 95,
   "metadata": {},
   "outputs": [
    {
     "data": {
      "text/plain": [
       "7     18207\n",
       "8     14595\n",
       "6     14251\n",
       "5     11445\n",
       "9     11030\n",
       "10     7729\n",
       "4      7596\n",
       "3      4069\n",
       "11     3787\n",
       "12      332\n",
       "13       50\n",
       "Name: rfm_sum, dtype: int64"
      ]
     },
     "execution_count": 95,
     "metadata": {},
     "output_type": "execute_result"
    }
   ],
   "source": [
    "# посмотрим, сколько пользователей и какой score получили\n",
    "rfm_analys.rfm_sum.value_counts()"
   ]
  },
  {
   "cell_type": "markdown",
   "metadata": {},
   "source": [
    "Нарисуем график распределения, чтобы было нагляднее видно, как распределились наши пользователи по сумме рангов. Можно заметить, что большинство пользователей скопилось около суммарной оценке 7."
   ]
  },
  {
   "cell_type": "code",
   "execution_count": 96,
   "metadata": {},
   "outputs": [
    {
     "data": {
      "image/png": "[encoded data removed]",
      "text/plain": [
       "<Figure size 432x288 with 1 Axes>"
      ]
     },
     "metadata": {},
     "output_type": "display_data"
    }
   ],
   "source": [
    "sns.countplot(data=rfm_analys, x='rfm_sum')\n",
    "# дадим название графику\n",
    "plt.title('График распределения пользователей по rfm оценке') \n",
    "# дадим название по оси х, y\n",
    "plt.xlabel('Суммарная rfm оценка') \n",
    "plt.ylabel('Количество пользователей');"
   ]
  },
  {
   "cell_type": "markdown",
   "metadata": {},
   "source": [
    "Оценки RFM-анализа дают нам 5х5х3 = 75 сегментов. С которым не просто работать. Поэтому выберем только 2. Так как frequency поделить на ранги равномерно не получилось, из-за того, что около 95% пользователей совершило только 1 покупку. Так же, в результате проведения когортного анализа на шаге выше можно это подтвердить, так как процент повторных покупок по всем когортам не превышает 1%. Поэтому целесообразно будет провести RM-анализ. Оценим распределение покупателей по параметрам Recency и Monetary. Это позволит выявить клиентов, которые приносят больше всего прибыли. И тех, чей вклад в общую прибыль незначителен.\n",
    "\n",
    "Теперь сделаем разделение на сегменты:\n",
    "\n",
    "Champions - Покупки были недавно и тратят больше всего\n",
    "\n",
    "Potential Loyalist - Недавние клиенты со средней тратой\n",
    "\n",
    "Loyal Customers - Клиенты покупают на регулярной основе и много тратят\n",
    "\n",
    "New Customers - Купили совсем недавно, но не много\n",
    "\n",
    "Promising - Недавние покупатели, но не потратили много\n",
    "\n",
    "Need Attention - Выше среднего давность покупки и траты\n",
    "\n",
    "About To Sleep - Выше средней давность покупки, но ниже средней траты\n",
    "\n",
    "At Risk\t- Покупали давно, но много тратили. Нужно вернуть их!\n",
    "\n",
    "Can’t Lose Them\t- Раньше тратили много, но давно не возвращались\n",
    "\n",
    "Hibernating\t- Последняя покупка была давно, скорее всего клиенты потеряны и их уже не вернуть"
   ]
  },
  {
   "cell_type": "code",
   "execution_count": 97,
   "metadata": {},
   "outputs": [],
   "source": [
    "# создадим новую колонку RFM_Score, куда запишем общую оценку, соединив ранги\n",
    "# переведем каждый ранг в строку и соединим\n",
    "rfm_analys['RFM_Score'] = rfm_analys['r'].map(str) + rfm_analys['f'].map(str) + rfm_analys['m'].map(str)"
   ]
  },
  {
   "cell_type": "markdown",
   "metadata": {},
   "source": [
    "Определяем сегменты на основе оценок, используя только Recency и Monetary. Заменять ранги на названия сегментов будем с использованием регулярных выражений. Каждому сегменту будет отведено свое значение (например: [1-2][1-2] - будет искать ранг 1 или 2 по r и 1 или 2 по m) и так для каждого будет передоваться свое имя."
   ]
  },
  {
   "cell_type": "code",
   "execution_count": 98,
   "metadata": {},
   "outputs": [
    {
     "data": {
      "text/html": [
       "<div>\n",
       "<style scoped>\n",
       "    .dataframe tbody tr th:only-of-type {\n",
       "        vertical-align: middle;\n",
       "    }\n",
       "\n",
       "    .dataframe tbody tr th {\n",
       "        vertical-align: top;\n",
       "    }\n",
       "\n",
       "    .dataframe thead th {\n",
       "        text-align: right;\n",
       "    }\n",
       "</style>\n",
       "<table border=\"1\" class=\"dataframe\">\n",
       "  <thead>\n",
       "    <tr style=\"text-align: right;\">\n",
       "      <th></th>\n",
       "      <th>customer_unique_id</th>\n",
       "      <th>price</th>\n",
       "      <th>last_purchase</th>\n",
       "      <th>quantity</th>\n",
       "      <th>days_diff</th>\n",
       "      <th>r</th>\n",
       "      <th>f</th>\n",
       "      <th>m</th>\n",
       "      <th>rfm_sum</th>\n",
       "      <th>RFM_Score</th>\n",
       "      <th>segment</th>\n",
       "    </tr>\n",
       "  </thead>\n",
       "  <tbody>\n",
       "    <tr>\n",
       "      <th>0</th>\n",
       "      <td>0000366f3b9a7992bf8c76cfdf3221e2</td>\n",
       "      <td>129.9</td>\n",
       "      <td>2018-05-10 11:11:18</td>\n",
       "      <td>1</td>\n",
       "      <td>112</td>\n",
       "      <td>4</td>\n",
       "      <td>1</td>\n",
       "      <td>4</td>\n",
       "      <td>9</td>\n",
       "      <td>414</td>\n",
       "      <td>loyal customers</td>\n",
       "    </tr>\n",
       "    <tr>\n",
       "      <th>1</th>\n",
       "      <td>0000b849f77a49e4a4ce2b2a4ca5be3f</td>\n",
       "      <td>18.9</td>\n",
       "      <td>2018-05-07 18:25:44</td>\n",
       "      <td>1</td>\n",
       "      <td>114</td>\n",
       "      <td>4</td>\n",
       "      <td>1</td>\n",
       "      <td>1</td>\n",
       "      <td>6</td>\n",
       "      <td>411</td>\n",
       "      <td>promising</td>\n",
       "    </tr>\n",
       "    <tr>\n",
       "      <th>2</th>\n",
       "      <td>0000f46a3911fa3c0805444483337064</td>\n",
       "      <td>69.0</td>\n",
       "      <td>2017-03-10 21:05:03</td>\n",
       "      <td>1</td>\n",
       "      <td>537</td>\n",
       "      <td>1</td>\n",
       "      <td>1</td>\n",
       "      <td>2</td>\n",
       "      <td>4</td>\n",
       "      <td>112</td>\n",
       "      <td>hibernating</td>\n",
       "    </tr>\n",
       "  </tbody>\n",
       "</table>\n",
       "</div>"
      ],
      "text/plain": [
       "                 customer_unique_id  price       last_purchase  quantity  \\\n",
       "0  0000366f3b9a7992bf8c76cfdf3221e2  129.9 2018-05-10 11:11:18         1   \n",
       "1  0000b849f77a49e4a4ce2b2a4ca5be3f   18.9 2018-05-07 18:25:44         1   \n",
       "2  0000f46a3911fa3c0805444483337064   69.0 2017-03-10 21:05:03         1   \n",
       "\n",
       "   days_diff  r  f  m  rfm_sum RFM_Score          segment  \n",
       "0        112  4  1  4        9       414  loyal customers  \n",
       "1        114  4  1  1        6       411        promising  \n",
       "2        537  1  1  2        4       112      hibernating  "
      ]
     },
     "execution_count": 98,
     "metadata": {},
     "output_type": "execute_result"
    }
   ],
   "source": [
    "# для начала запишем, для каких сегментов какие значения будут подходить и запишем это в переменную segt_map\n",
    "segt_map = {\n",
    "    r'[1-2][1-2]': 'hibernating',\n",
    "    r'[1-2][3-4]': 'at risk',\n",
    "    r'[1-2]5': 'can\\'t loose',\n",
    "    r'3[1-2]': 'about to sleep',\n",
    "    r'33': 'need attention',\n",
    "    r'[3-4][4-5]': 'loyal customers',\n",
    "    r'41': 'promising',\n",
    "    r'51': 'new customers',\n",
    "    r'[4-5][2-3]': 'potential loyalists',\n",
    "    r'5[4-5]': 'champions'\n",
    "}\n",
    "\n",
    "# создадим новый столбец, куда в начале передадим соединенные ранги по r и m\n",
    "rfm_analys['segment'] = rfm_analys['r'].map(str) + rfm_analys['m'].map(str)\n",
    "\n",
    "# присвоим имена сегментам, которые записаны в переменной segt_map\n",
    "rfm_analys['segment'] = rfm_analys['segment'].replace(segt_map, regex=True)\n",
    "rfm_analys.head(3)"
   ]
  },
  {
   "cell_type": "code",
   "execution_count": 99,
   "metadata": {},
   "outputs": [
    {
     "data": {
      "text/plain": [
       "hibernating            15822\n",
       "loyal customers        15141\n",
       "potential loyalists    14376\n",
       "at risk                13899\n",
       "about to sleep          7763\n",
       "champions               7561\n",
       "can't loose             7412\n",
       "new customers           3869\n",
       "promising               3702\n",
       "need attention          3546\n",
       "Name: segment, dtype: int64"
      ]
     },
     "execution_count": 99,
     "metadata": {},
     "output_type": "execute_result"
    }
   ],
   "source": [
    "# посчитаем, как распределились пользователи по сегментам\n",
    "rfm_analys.segment.value_counts()"
   ]
  },
  {
   "cell_type": "markdown",
   "metadata": {},
   "source": [
    "Нарисуем график распределения, чтобы было нагляднее видно, как распределились наши пользователи по сегментам"
   ]
  },
  {
   "cell_type": "code",
   "execution_count": 100,
   "metadata": {},
   "outputs": [
    {
     "data": {
      "image/png": "[encoded data removed]",
      "text/plain": [
       "<Figure size 1800x576 with 1 Axes>"
      ]
     },
     "metadata": {},
     "output_type": "display_data"
    }
   ],
   "source": [
    "# увеличим размер графика\n",
    "plt.figure(figsize=(25, 8))\n",
    "# нарисуем график и сделаем сортировку\n",
    "sns.countplot(data=rfm_analys, x='segment', order=rfm_analys.segment.value_counts().index)\n",
    "# чтобы название сегментов было лучше видно, повернем их на 45 градусов и увеличим размер шрифта больше, используя параметр size\n",
    "plt.xticks(rotation=45)\n",
    "plt.xticks(size=16)\n",
    "# дадим название графику и сделаем размер шрифта больше, используя параметр fontsize\n",
    "plt.title('График распределения пользователей по сегментам', fontsize=30) \n",
    "# дадим название по оси х, y и сделаем размер шрифта больше, используя параметр fontsize\n",
    "plt.xlabel('Сегменты', fontsize=20) \n",
    "plt.ylabel('Количество пользователей', fontsize=20);"
   ]
  },
  {
   "cell_type": "markdown",
   "metadata": {},
   "source": [
    "Найдем среднее для каждого значания по сегментам и посчитаем количество пользователей в сегментах"
   ]
  },
  {
   "cell_type": "code",
   "execution_count": 101,
   "metadata": {},
   "outputs": [],
   "source": [
    "rfm_level_agg = rfm_analys.groupby('segment').agg({\n",
    "    'days_diff': 'mean',\n",
    "    'quantity': 'mean',\n",
    "    'price': ['mean', 'count']\n",
    "}).round(2)"
   ]
  },
  {
   "cell_type": "markdown",
   "metadata": {},
   "source": [
    "Для удобства переименуем название столбцов. RecencyMean - среднее по дням, FrequencyMean - среднее по кол-ву заказов, MonetaryMean - среднее по потраченным деньгам и все это в разрезе по каждому сегменту."
   ]
  },
  {
   "cell_type": "code",
   "execution_count": 102,
   "metadata": {},
   "outputs": [],
   "source": [
    "rfm_level_agg.columns = rfm_level_agg.columns.droplevel()\n",
    "rfm_level_agg.columns = ['RecencyMean','FrequencyMean','MonetaryMean', 'Count']"
   ]
  },
  {
   "cell_type": "markdown",
   "metadata": {},
   "source": [
    "Так мы получили таблицу, где нашли среднее значение по всем сегментам по дням, кол-ву покупок и потраченным деньгам, а также кол-во пользователей. Из таблицы видно, почему не использовалась Frequency для анализа, очень мало пользователей, которые совершили более 1 заказа."
   ]
  },
  {
   "cell_type": "code",
   "execution_count": 103,
   "metadata": {},
   "outputs": [
    {
     "data": {
      "text/html": [
       "<div>\n",
       "<style scoped>\n",
       "    .dataframe tbody tr th:only-of-type {\n",
       "        vertical-align: middle;\n",
       "    }\n",
       "\n",
       "    .dataframe tbody tr th {\n",
       "        vertical-align: top;\n",
       "    }\n",
       "\n",
       "    .dataframe thead th {\n",
       "        text-align: right;\n",
       "    }\n",
       "</style>\n",
       "<table border=\"1\" class=\"dataframe\">\n",
       "  <thead>\n",
       "    <tr style=\"text-align: right;\">\n",
       "      <th></th>\n",
       "      <th>RecencyMean</th>\n",
       "      <th>FrequencyMean</th>\n",
       "      <th>MonetaryMean</th>\n",
       "      <th>Count</th>\n",
       "    </tr>\n",
       "    <tr>\n",
       "      <th>segment</th>\n",
       "      <th></th>\n",
       "      <th></th>\n",
       "      <th></th>\n",
       "      <th></th>\n",
       "    </tr>\n",
       "  </thead>\n",
       "  <tbody>\n",
       "    <tr>\n",
       "      <th>about to sleep</th>\n",
       "      <td>218.42</td>\n",
       "      <td>1.01</td>\n",
       "      <td>40.08</td>\n",
       "      <td>7763</td>\n",
       "    </tr>\n",
       "    <tr>\n",
       "      <th>at risk</th>\n",
       "      <td>389.05</td>\n",
       "      <td>1.03</td>\n",
       "      <td>115.33</td>\n",
       "      <td>13899</td>\n",
       "    </tr>\n",
       "    <tr>\n",
       "      <th>can't loose</th>\n",
       "      <td>392.36</td>\n",
       "      <td>1.07</td>\n",
       "      <td>409.00</td>\n",
       "      <td>7412</td>\n",
       "    </tr>\n",
       "    <tr>\n",
       "      <th>champions</th>\n",
       "      <td>45.92</td>\n",
       "      <td>1.08</td>\n",
       "      <td>270.61</td>\n",
       "      <td>7561</td>\n",
       "    </tr>\n",
       "    <tr>\n",
       "      <th>hibernating</th>\n",
       "      <td>394.15</td>\n",
       "      <td>1.01</td>\n",
       "      <td>41.09</td>\n",
       "      <td>15822</td>\n",
       "    </tr>\n",
       "    <tr>\n",
       "      <th>loyal customers</th>\n",
       "      <td>175.89</td>\n",
       "      <td>1.07</td>\n",
       "      <td>263.53</td>\n",
       "      <td>15141</td>\n",
       "    </tr>\n",
       "    <tr>\n",
       "      <th>need attention</th>\n",
       "      <td>220.43</td>\n",
       "      <td>1.02</td>\n",
       "      <td>90.30</td>\n",
       "      <td>3546</td>\n",
       "    </tr>\n",
       "    <tr>\n",
       "      <th>new customers</th>\n",
       "      <td>44.27</td>\n",
       "      <td>1.00</td>\n",
       "      <td>26.15</td>\n",
       "      <td>3869</td>\n",
       "    </tr>\n",
       "    <tr>\n",
       "      <th>potential loyalists</th>\n",
       "      <td>89.12</td>\n",
       "      <td>1.02</td>\n",
       "      <td>71.62</td>\n",
       "      <td>14376</td>\n",
       "    </tr>\n",
       "    <tr>\n",
       "      <th>promising</th>\n",
       "      <td>135.03</td>\n",
       "      <td>1.00</td>\n",
       "      <td>26.07</td>\n",
       "      <td>3702</td>\n",
       "    </tr>\n",
       "  </tbody>\n",
       "</table>\n",
       "</div>"
      ],
      "text/plain": [
       "                     RecencyMean  FrequencyMean  MonetaryMean  Count\n",
       "segment                                                             \n",
       "about to sleep            218.42           1.01         40.08   7763\n",
       "at risk                   389.05           1.03        115.33  13899\n",
       "can't loose               392.36           1.07        409.00   7412\n",
       "champions                  45.92           1.08        270.61   7561\n",
       "hibernating               394.15           1.01         41.09  15822\n",
       "loyal customers           175.89           1.07        263.53  15141\n",
       "need attention            220.43           1.02         90.30   3546\n",
       "new customers              44.27           1.00         26.15   3869\n",
       "potential loyalists        89.12           1.02         71.62  14376\n",
       "promising                 135.03           1.00         26.07   3702"
      ]
     },
     "execution_count": 103,
     "metadata": {},
     "output_type": "execute_result"
    }
   ],
   "source": [
    "rfm_level_agg"
   ]
  },
  {
   "cell_type": "markdown",
   "metadata": {},
   "source": [
    "В итоге можно сделать вывод, что много пользователей(15822) в сегменте hibernating, которых скорее всего уже не вернуть. С другой стороны, в сегментах champions(7561), potential loyalists(14376) и loyal customers(15141) находятся 37078 клиентов, которые приносят большую прибыль и делали покупку недавно. В сегментах new customers и promising находятся пользователи, которые мало потратили, но сделали покупку недавно. Сегмент can't loose(7412 клиентов) принес в среднем больше всех прибыли(409), но такие клиенты давно не делали приобретений, их стоит попробовать как-то привлечь и вернуть (например: скидки, акции и т.д.). На этот сегмент стоит обратить внимание, так как там находятся клиенты, готовые тратить деньги, но по какой-то причине они перестали это делать.\n",
    "\n",
    "Теперь, за счет RFM-анализа можно разработать маркетинговые активности под каждый сегмент. Это может быть как серия рассылок, так и более широкая и комплексная кампания(например: скидки, акции, ретаргетинг рекламной кампании и т.д.). Таким образом, можно выстроить подход, при котором учитываются индивидуальные особенности каждого клиента."
   ]
  }
 ],
 "metadata": {
  "kernelspec": {
   "display_name": "Python 3",
   "language": "python",
   "name": "python3"
  },
  "language_info": {
   "codemirror_mode": {
    "name": "ipython",
    "version": 3
   },
   "file_extension": ".py",
   "mimetype": "text/x-python",
   "name": "python",
   "nbconvert_exporter": "python",
   "pygments_lexer": "ipython3",
   "version": "3.7.3"
  }
 },
 "nbformat": 4,
 "nbformat_minor": 4
}
